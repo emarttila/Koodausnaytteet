{
  "nbformat": 4,
  "nbformat_minor": 0,
  "metadata": {
    "colab": {
      "name": "Liikunta ja ravinto.ipynb",
      "provenance": [],
      "authorship_tag": "ABX9TyMrC7V9VQqrfG/9Er3GE+or",
      "include_colab_link": true
    },
    "kernelspec": {
      "name": "python3",
      "display_name": "Python 3"
    },
    "language_info": {
      "name": "python"
    }
  },
  "cells": [
    {
      "cell_type": "markdown",
      "metadata": {
        "id": "view-in-github",
        "colab_type": "text"
      },
      "source": [
        "<a href=\"https://colab.research.google.com/github/emarttila/Koodausnaytteet/blob/main/Liikunta_ja_ravinto.ipynb\" target=\"_parent\"><img src=\"https://colab.research.google.com/assets/colab-badge.svg\" alt=\"Open In Colab\"/></a>"
      ]
    },
    {
      "cell_type": "code",
      "metadata": {
        "id": "aSXbWP9Soeiy"
      },
      "source": [
        "#Harjoitusmielessä tehty ohjelma liikunta- ja ravitsemussuosituksista. Syötä painosi kilogrammoina, pituutesi senttimetreinä, liikunnan määrä tunteina (30min on 0.5 tuntia) ja liikuntamäärä kokonaislukuna. Kirjoita pilkku pisteenä. Älä ota testin tulosta liian vakavasti.\n",
        "\n",
        "#Paljon painat kilogrammoina?\n",
        "paino = 103.6\n",
        "\n",
        "#Miten pitkä olet senttimetreinä?\n",
        "pituus = 201\n",
        "\n",
        "#Monta tuntia urheilua harrastat viikossa? \n",
        "tuntia = 5\n",
        "\n",
        "#Monta kertaa harrastat urheilua viikossa?\n",
        "kertaa = 4"
      ],
      "execution_count": 5,
      "outputs": []
    },
    {
      "cell_type": "code",
      "metadata": {
        "id": "SE_LjlYjpE0j",
        "colab": {
          "base_uri": "https://localhost:8080/"
        },
        "outputId": "ab4cf6d6-396a-458b-900e-956fc64fa8e3"
      },
      "source": [
        "bmi = round(paino/((pituus/100)**2),2)\n",
        "\n",
        "if bmi < 18.5:\n",
        "  rakenne = 'Alipaino'\n",
        "elif bmi < 25:\n",
        "  rakenne = 'Ihannepaino'\n",
        "elif bmi < 30:\n",
        "  rakenne = 'Lievä lihavuus'\n",
        "elif bmi < 40:\n",
        "  rakenne = 'Vaikea lihavuus'\n",
        "else:\n",
        "  rakenne = 'Sairaalloinen lihavuus'\n",
        "\n",
        "treenika = kertaa/tuntia\n",
        "\n",
        "nestettä = str(round(2 + treenika,1))\n",
        "\n",
        "if tuntia < 10:\n",
        "  hiilari = str(round(4*paino)) + '-' + str(round(6*paino)) + ' grammaa'\n",
        "elif tuntia < 15:\n",
        "  hiilari = str(round(5*paino)) + '-' + str(round(7*paino)) + ' grammaa'\n",
        "elif tuntia < 20:\n",
        "  hiilari = str(round(6*paino)) + '-' + str(round(10*paino)) + ' grammaa'\n",
        "elif tuntia < 30:\n",
        "  hiilari = str(round(8*paino)) + '-' + str(round(12*paino)) + ' grammaa'\n",
        "else:\n",
        "  hiilari = 'Yli ' + str(round(12*paino)) + ' grammaa'\n",
        "\n",
        "proteiini = str(round(1.4*paino)) + '-' + str(round(2*paino)) + ' grammaa'\n",
        "\n",
        "rasva = str(round(1*paino)) + '-' + str(round(2*paino)) + ' grammaa'\n",
        "\n",
        "if tuntia < 2.5:\n",
        "  lisääliikuntaa = 'Sinun kannattaa lisätä liikunnan määrää ' + str(round(2.5-tuntia),1) + ' tuntia viikossa.'\n",
        "else:\n",
        "  lisääliikuntaa = 'Liikut suosituksiin nähden riittävästi.'\n",
        "ravinto = 'Suositeltu ravintoaineiden määrä on ' + hiilari + ' hiilihydraatteja, ' + proteiini + ' proteiineja ja '+ rasva + ' rasvaa.'\n",
        "if bmi >= 25:\n",
        "  painonpudotus = 'Sinun kannattaisi pudottaa painoa ehkäistäksesi sairauksia. Painonpudotustavoite on ' + str(round((bmi - 25)*((pituus/100)**2),1)) + ' kg.'\n",
        "elif rakenne == Alipaino:\n",
        "  painonpudotus = 'Sinun kannattaa keskittyä riittävään syömiseen.'\n",
        "else:\n",
        "  'Olet ihannepainossa.'\n",
        "if rakenne == 'Ihannepaino':\n",
        "  sopivaliikunta = 'Mikä tahansa liikuntalaji sopii sinulle.'\n",
        "elif bmi >= 25:\n",
        "  sopivaliikunta = 'Sopivia liikuntalajeja sinulle ovat mm. kävely, vesiliikunta, pyöräily, voimistelu, hiihto, tanssi, kuntosali ja jumpat.'\n",
        "elif rakenne == 'Alipaino':\n",
        "  sopivaliikunta = 'Sinun kannattaa harrastaa vain kevyttä liikuntaa, esim kävelyä.'\n",
        "nesteentarve = 'Nesteen tarpeesi on keskimäärin ' + nestettä + ' litraa päivässä.'\n",
        "ohjeet = [painonpudotus,' ', lisääliikuntaa,' ', sopivaliikunta,' ', ravinto, ' ', nesteentarve]\n",
        "\n",
        "for i in ohjeet:\n",
        "  print(i)"
      ],
      "execution_count": 17,
      "outputs": [
        {
          "output_type": "stream",
          "text": [
            "Sinun kannattaisi pudottaa painoa ehkäistäksesi sairauksia. Painonpudotustavoite on 2.6 kg.\n",
            " \n",
            "Liikut suosituksiin nähden riittävästi.\n",
            " \n",
            "Sopivia liikuntalajeja sinulle ovat mm. kävely, vesiliikunta, pyöräily, voimistelu, hiihto, tanssi, kuntosali ja jumpat.\n",
            " \n",
            "Suositeltu ravintoaineiden määrä on 414-622 grammaa hiilihydraatteja, 145-207 grammaa proteiineja ja 104-207 grammaa rasvaa.\n",
            " \n",
            "Nesteen tarpeesi on keskimäärin 2.8 litraa päivässä.\n"
          ],
          "name": "stdout"
        }
      ]
    }
  ]
}