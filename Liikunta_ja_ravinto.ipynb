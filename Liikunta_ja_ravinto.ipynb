{
  "nbformat": 4,
  "nbformat_minor": 0,
  "metadata": {
    "colab": {
      "name": "Liikunta ja ravinto.ipynb",
      "provenance": [],
      "authorship_tag": "ABX9TyPIcIgAbLqDVF2sjobR5K8q",
      "include_colab_link": true
    },
    "kernelspec": {
      "name": "python3",
      "display_name": "Python 3"
    },
    "language_info": {
      "name": "python"
    }
  },
  "cells": [
    {
      "cell_type": "markdown",
      "metadata": {
        "id": "view-in-github",
        "colab_type": "text"
      },
      "source": [
        "<a href=\"https://colab.research.google.com/github/emarttila/Koodausnaytteet/blob/main/Liikunta_ja_ravinto.ipynb\" target=\"_parent\"><img src=\"https://colab.research.google.com/assets/colab-badge.svg\" alt=\"Open In Colab\"/></a>"
      ]
    },
    {
      "cell_type": "code",
      "metadata": {
        "id": "aSXbWP9Soeiy"
      },
      "source": [
        "#Harjoitusmielessä tehty ohjelma liikunta- ja ravitsemussuosituksista. Syötä painosi kilogrammoina, pituutesi senttimetreinä, liikunnan määrä tunteina (30min on 0.5 tuntia) ja liikuntamäärä kokonaislukuna. Kirjoita pilkku pisteenä. Älä ota testin tulosta liian vakavasti. Ohjelmaan on syötetty fiktiiviset tiedot esimerkin vuoksi.\n",
        "\n",
        "#Paljon painat kilogrammoina?\n",
        "kehonpaino = 70\n",
        "\n",
        "#Miten pitkä olet senttimetreinä?\n",
        "pituus = 175\n",
        "\n",
        "#Monta tuntia urheilua harrastat viikossa? \n",
        "tuntia = 3\n",
        "\n",
        "#Monta kertaa harrastat urheilua viikossa?\n",
        "kertaa = 3"
      ],
      "execution_count": 68,
      "outputs": []
    },
    {
      "cell_type": "code",
      "metadata": {
        "id": "TFHn5p3MEOqp"
      },
      "source": [
        "bmi = round(kehonpaino/((pituus/100)**2),1)\n",
        "if bmi < 18.5:\n",
        "  rakenne = 'Alipaino'\n",
        "elif bmi < 25:\n",
        "  rakenne = 'Ihannepaino'\n",
        "elif bmi < 30:\n",
        "  rakenne = 'Lievä lihavuus'\n",
        "elif bmi < 40:\n",
        "  rakenne = 'Vaikea lihavuus'\n",
        "else:\n",
        "  rakenne = 'Sairaalloinen lihavuus'\n",
        "\n",
        "treenika = kertaa/tuntia\n",
        "\n",
        "nestettä = str(round((2 + tuntia/7),1))\n"
      ],
      "execution_count": 69,
      "outputs": []
    },
    {
      "cell_type": "code",
      "metadata": {
        "id": "SE_LjlYjpE0j"
      },
      "source": [
        "if rakenne == 'Ihannepaino':\n",
        "  paino = kehonpaino\n",
        "elif rakenne == 'Alipaino':\n",
        "  paino = round(20*(pituus/100)**2,1)\n",
        "else:\n",
        "  paino = round(24*(pituus/100)**2,1)\n",
        "  if tuntia < 10:\n",
        "    hiilari = str(round(4*paino)) + '-' + str(round(6*paino)) + ' grammaa'\n",
        "  elif tuntia < 15:\n",
        "    hiilari = str(round(5*paino)) + '-' + str(round(7*paino)) + ' grammaa'\n",
        "  elif tuntia < 20:\n",
        "    hiilari = str(round(6*paino)) + '-' + str(round(10*paino)) + ' grammaa'\n",
        "  elif tuntia < 30:\n",
        "    hiilari = str(round(8*paino)) + '-' + str(round(12*paino)) + ' grammaa'\n",
        "  else:\n",
        "    hiilari = 'Yli ' + str(round(12*paino)) + ' grammaa'\n",
        "\n",
        "proteiini = str(round(1.4*paino)) + '-' + str(round(2*paino)) + ' grammaa'\n",
        "\n",
        "rasva = str(round(1*paino)) + '-' + str(round(2*paino)) + ' grammaa'"
      ],
      "execution_count": 70,
      "outputs": []
    },
    {
      "cell_type": "code",
      "metadata": {
        "id": "KU3KXygrEUQa"
      },
      "source": [
        "if tuntia < 2.5:\n",
        "  lisääliikuntaa = 'Sinun kannattaa lisätä liikunnan määrää ' + str(round(2.5-tuntia,1)) + ' tuntia viikossa.'\n",
        "else:\n",
        "  lisääliikuntaa = 'Liikut suosituksiin nähden riittävästi.'\n",
        "ravinto = 'Suositeltu ravintoaineiden määrä on ' + hiilari + ' hiilihydraatteja, ' + proteiini + ' proteiineja ja '+ rasva + ' rasvaa.'\n",
        "if bmi >= 25:\n",
        "  painonpudotus = 'Sinun kannattaisi pudottaa painoa ehkäistäksesi sairauksia. Painonpudotustavoite on ' + str(round((bmi - 25)*((pituus/100)**2),1)) + ' kg.'\n",
        "elif rakenne == 'Alipaino':\n",
        "  painonpudotus = 'Sinun kannattaa keskittyä riittävään syömiseen.'\n",
        "elif rakenne == 'Ihannepaino':\n",
        "  painonpudotus = 'Olet ihannepainossa.'\n",
        "if rakenne == 'Ihannepaino':\n",
        "  sopivaliikunta = 'Mikä tahansa antamiisi tietoihin perustuva liikuntalaji sopii sinulle.'\n",
        "elif bmi >= 25:\n",
        "  sopivaliikunta = 'Sopivia liikuntalajeja sinulle ovat mm. kävely, vesiliikunta, pyöräily, voimistelu, hiihto, tanssi, kuntosali ja jumpat.'\n",
        "elif rakenne == 'Alipaino':\n",
        "  sopivaliikunta = 'Sinun kannattaa harrastaa vain kevyttä liikuntaa, esim kävelyä.'\n",
        "nesteentarve = 'Nesteen tarpeesi on keskimäärin ' + nestettä + ' litraa päivässä.'\n",
        "ohjeet = [painonpudotus,' ', lisääliikuntaa,' ', sopivaliikunta,' ', ravinto, ' ', nesteentarve]"
      ],
      "execution_count": 71,
      "outputs": []
    },
    {
      "cell_type": "code",
      "metadata": {
        "colab": {
          "base_uri": "https://localhost:8080/"
        },
        "id": "xX0-ZwuuEYmt",
        "outputId": "4fd88a7a-93a1-4d0b-b932-e5d3b61450a1"
      },
      "source": [
        "for i in ohjeet:\n",
        "  print(i)"
      ],
      "execution_count": 72,
      "outputs": [
        {
          "output_type": "stream",
          "text": [
            "Olet ihannepainossa.\n",
            " \n",
            "Liikut suosituksiin nähden riittävästi.\n",
            " \n",
            "Mikä tahansa antamiisi tietoihin perustuva liikuntalaji sopii sinulle.\n",
            " \n",
            "Suositeltu ravintoaineiden määrä on 294-441 grammaa hiilihydraatteja, 98-140 grammaa proteiineja ja 70-140 grammaa rasvaa.\n",
            " \n",
            "Nesteen tarpeesi on keskimäärin 2.4 litraa päivässä.\n"
          ],
          "name": "stdout"
        }
      ]
    }
  ]
}