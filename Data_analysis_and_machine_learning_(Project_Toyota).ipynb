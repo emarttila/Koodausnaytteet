{
  "nbformat": 4,
  "nbformat_minor": 0,
  "metadata": {
    "colab": {
      "name": "Data analysis and machine learning (Project Toyota).ipynb",
      "provenance": [],
      "collapsed_sections": [],
      "authorship_tag": "ABX9TyOkyTymWCLl5JK/4BwYsHYx",
      "include_colab_link": true
    },
    "kernelspec": {
      "name": "python3",
      "display_name": "Python 3"
    },
    "language_info": {
      "name": "python"
    }
  },
  "cells": [
    {
      "cell_type": "markdown",
      "metadata": {
        "id": "view-in-github",
        "colab_type": "text"
      },
      "source": [
        "<a href=\"https://colab.research.google.com/github/emarttila/Koodausnaytteet/blob/main/Data_analysis_and_machine_learning_(Project_Toyota).ipynb\" target=\"_parent\"><img src=\"https://colab.research.google.com/assets/colab-badge.svg\" alt=\"Open In Colab\"/></a>"
      ]
    },
    {
      "cell_type": "code",
      "metadata": {
        "id": "5UQBmzqzgGHI"
      },
      "source": [
        "import numpy as np\n",
        "import matplotlib.pyplot as plt\n",
        "import pandas as pd\n",
        "from sklearn.model_selection import train_test_split\n",
        "from sklearn.linear_model import LinearRegression\n",
        "from sklearn.metrics import mean_squared_error\n",
        "from sklearn.metrics import r2_score\n",
        "from sklearn.ensemble import RandomForestRegressor\n",
        "from xgboost import XGBRegressor"
      ],
      "execution_count": 26,
      "outputs": []
    },
    {
      "cell_type": "markdown",
      "metadata": {
        "id": "Dhjm6ptT5bEO"
      },
      "source": [
        "#This project was part of Machine Learning with Python course. Description of project is below:"
      ]
    },
    {
      "cell_type": "markdown",
      "metadata": {
        "id": "2zXpyVIR5VNm"
      },
      "source": [
        "'For the final project of the course, we are going to cover an interesting problem: \"Toyota Corolla Price Prediction\". We want to build a machine learning model that takes some specifications of a Toyota Corolla car as input and predicts its price as the output. So, prepare your Jupyter Notebook and follow these steps to complete the task:\n",
        "\n",
        "1. Download the following .csv file and save it in your Notebook's directory. Then, load it into the workspace as data, and display its first 6 rows.\n",
        "\n",
        "As we explained above, the target field is the 'Price' column.\n",
        "2. Count and print the following statistics:\n",
        "\n",
        "    Number of data samples\n",
        "    Number of features\n",
        "    Number of missing values for each feature\n",
        "    Frequency of different number of doors (2, 3, 4, and 5)\n",
        "    Frequency of different fuel types (Petrol, Diesel, CNG)\n",
        "\n",
        "3. Compute and print the following values:\n",
        "\n",
        "    The mean of price in each fuel type class? which class is more expensive?\n",
        "    The mean of price in class ABS=0 and in class ABS=1.\n",
        "    The mean of price in class Met_Color=0 and in class Met_Color=1.\n",
        "    The mean of price in two-door, three-door,.... cars. \n",
        "\n",
        "Hint: use .groupby() .\n",
        "4. Display the following plots:\n",
        "\n",
        "    Scatter plot between 'KM' and 'Price'.\n",
        "    Scatter plot between 'cc' and 'Price'.\n",
        "    Distribution plot of continuous variables.\n",
        "    Boxplot of continuous variables.\n",
        "\n",
        "Hint: continuous_variables = [\"Age\", \"KM\", \"HP\", \"cc\",\"Doors\",\"Guarantee_Period\"].\n",
        "5. Using the Boxplot you created in the previous question, you detected features with outliers. Remove the outlier values from the dataframe.\n",
        "6. Since The 'Fuel_Type' variable is categorical, you need to convert it to numeric values. (Hint: Create three dummy variables and then drop the 'Fuel_Type' column.\n",
        "7. Once again display the first 10 rows of data after you applied this conversion to make sure they have been applied correctly.\n",
        "8. Store the \"Price\" column of data in the variable y, and other columns in variable X.\n",
        "9. Use the train_test_split function to split X and y into a training set (X_train, y_train) with 75% of data, and a test set (X_test, y_test) with the remaining 25%.\n",
        "10. Print the shape of X_train, X_test, y_train, y_test.\n",
        "11. Train the Linear regression algorithm on X_train and y_train. Note that you should put normalize= True.\n",
        "12. Use the attribute .score to check the accuracy of the model on train and test data.\n",
        "13. Put y_hat_test = model.predict(X_test) and then plot the scatter plot between y_hat_test and y_test.\n",
        "14. Print the r2_score and mean_squared_error of the model.\n",
        "15. Fit RandomForestRegressor algorithm on the trained data and then repeat steps 12-14 for this algorithm too. (Note that since this algorithm does not have a normalized or max_min scaler parameter, you should scale data before feeding it to the algorithm).\n",
        "16. Apply another suitable algorithm on the train and test data and evaluate it.'"
      ]
    },
    {
      "cell_type": "markdown",
      "metadata": {
        "id": "z328S_9omZTS"
      },
      "source": [
        "#Loading dataset. "
      ]
    },
    {
      "cell_type": "code",
      "metadata": {
        "id": "oEsVgFMlgI7d"
      },
      "source": [
        "dataset = pd.read_csv('Toyota_Corolla.csv')"
      ],
      "execution_count": 27,
      "outputs": []
    },
    {
      "cell_type": "markdown",
      "metadata": {
        "id": "Kq3OGK41nsGw"
      },
      "source": [
        "#First 6 rows."
      ]
    },
    {
      "cell_type": "code",
      "metadata": {
        "colab": {
          "base_uri": "https://localhost:8080/",
          "height": 257
        },
        "id": "qFSbnPu3nvV2",
        "outputId": "25325d96-d9dd-4d9a-ea69-8799d1ba2d87"
      },
      "source": [
        "dataset.head(6)"
      ],
      "execution_count": 28,
      "outputs": [
        {
          "output_type": "execute_result",
          "data": {
            "text/html": [
              "<div>\n",
              "<style scoped>\n",
              "    .dataframe tbody tr th:only-of-type {\n",
              "        vertical-align: middle;\n",
              "    }\n",
              "\n",
              "    .dataframe tbody tr th {\n",
              "        vertical-align: top;\n",
              "    }\n",
              "\n",
              "    .dataframe thead th {\n",
              "        text-align: right;\n",
              "    }\n",
              "</style>\n",
              "<table border=\"1\" class=\"dataframe\">\n",
              "  <thead>\n",
              "    <tr style=\"text-align: right;\">\n",
              "      <th></th>\n",
              "      <th>Price</th>\n",
              "      <th>Age</th>\n",
              "      <th>KM</th>\n",
              "      <th>Fuel_Type</th>\n",
              "      <th>HP</th>\n",
              "      <th>Met_Color</th>\n",
              "      <th>Automatic</th>\n",
              "      <th>cc</th>\n",
              "      <th>Doors</th>\n",
              "      <th>Mfr_Guarantee</th>\n",
              "      <th>Guarantee_Period</th>\n",
              "      <th>ABS</th>\n",
              "      <th>Airco</th>\n",
              "      <th>Automatic_airco</th>\n",
              "      <th>Boardcomputer</th>\n",
              "      <th>CD_Player</th>\n",
              "      <th>Central_Lock</th>\n",
              "      <th>Powered_Windows</th>\n",
              "      <th>Power_Steering</th>\n",
              "      <th>Mistlamps</th>\n",
              "      <th>Sport_Model</th>\n",
              "    </tr>\n",
              "  </thead>\n",
              "  <tbody>\n",
              "    <tr>\n",
              "      <th>0</th>\n",
              "      <td>13500</td>\n",
              "      <td>23</td>\n",
              "      <td>46986</td>\n",
              "      <td>Diesel</td>\n",
              "      <td>90</td>\n",
              "      <td>1</td>\n",
              "      <td>0</td>\n",
              "      <td>2000</td>\n",
              "      <td>3</td>\n",
              "      <td>0</td>\n",
              "      <td>3</td>\n",
              "      <td>1</td>\n",
              "      <td>0</td>\n",
              "      <td>0</td>\n",
              "      <td>1</td>\n",
              "      <td>0</td>\n",
              "      <td>1</td>\n",
              "      <td>1</td>\n",
              "      <td>1</td>\n",
              "      <td>0</td>\n",
              "      <td>0</td>\n",
              "    </tr>\n",
              "    <tr>\n",
              "      <th>1</th>\n",
              "      <td>13750</td>\n",
              "      <td>23</td>\n",
              "      <td>72937</td>\n",
              "      <td>Diesel</td>\n",
              "      <td>90</td>\n",
              "      <td>1</td>\n",
              "      <td>0</td>\n",
              "      <td>2000</td>\n",
              "      <td>3</td>\n",
              "      <td>0</td>\n",
              "      <td>3</td>\n",
              "      <td>1</td>\n",
              "      <td>1</td>\n",
              "      <td>0</td>\n",
              "      <td>1</td>\n",
              "      <td>1</td>\n",
              "      <td>1</td>\n",
              "      <td>0</td>\n",
              "      <td>1</td>\n",
              "      <td>0</td>\n",
              "      <td>0</td>\n",
              "    </tr>\n",
              "    <tr>\n",
              "      <th>2</th>\n",
              "      <td>13950</td>\n",
              "      <td>24</td>\n",
              "      <td>41711</td>\n",
              "      <td>Diesel</td>\n",
              "      <td>90</td>\n",
              "      <td>1</td>\n",
              "      <td>0</td>\n",
              "      <td>2000</td>\n",
              "      <td>3</td>\n",
              "      <td>1</td>\n",
              "      <td>3</td>\n",
              "      <td>1</td>\n",
              "      <td>0</td>\n",
              "      <td>0</td>\n",
              "      <td>1</td>\n",
              "      <td>0</td>\n",
              "      <td>0</td>\n",
              "      <td>0</td>\n",
              "      <td>1</td>\n",
              "      <td>0</td>\n",
              "      <td>0</td>\n",
              "    </tr>\n",
              "    <tr>\n",
              "      <th>3</th>\n",
              "      <td>14950</td>\n",
              "      <td>26</td>\n",
              "      <td>48000</td>\n",
              "      <td>Diesel</td>\n",
              "      <td>90</td>\n",
              "      <td>0</td>\n",
              "      <td>0</td>\n",
              "      <td>2000</td>\n",
              "      <td>3</td>\n",
              "      <td>1</td>\n",
              "      <td>3</td>\n",
              "      <td>1</td>\n",
              "      <td>0</td>\n",
              "      <td>0</td>\n",
              "      <td>1</td>\n",
              "      <td>0</td>\n",
              "      <td>0</td>\n",
              "      <td>0</td>\n",
              "      <td>1</td>\n",
              "      <td>0</td>\n",
              "      <td>0</td>\n",
              "    </tr>\n",
              "    <tr>\n",
              "      <th>4</th>\n",
              "      <td>13750</td>\n",
              "      <td>30</td>\n",
              "      <td>38500</td>\n",
              "      <td>Diesel</td>\n",
              "      <td>90</td>\n",
              "      <td>0</td>\n",
              "      <td>0</td>\n",
              "      <td>2000</td>\n",
              "      <td>3</td>\n",
              "      <td>1</td>\n",
              "      <td>3</td>\n",
              "      <td>1</td>\n",
              "      <td>1</td>\n",
              "      <td>0</td>\n",
              "      <td>1</td>\n",
              "      <td>0</td>\n",
              "      <td>1</td>\n",
              "      <td>1</td>\n",
              "      <td>1</td>\n",
              "      <td>1</td>\n",
              "      <td>0</td>\n",
              "    </tr>\n",
              "    <tr>\n",
              "      <th>5</th>\n",
              "      <td>12950</td>\n",
              "      <td>32</td>\n",
              "      <td>61000</td>\n",
              "      <td>Diesel</td>\n",
              "      <td>90</td>\n",
              "      <td>0</td>\n",
              "      <td>0</td>\n",
              "      <td>2000</td>\n",
              "      <td>3</td>\n",
              "      <td>0</td>\n",
              "      <td>3</td>\n",
              "      <td>1</td>\n",
              "      <td>1</td>\n",
              "      <td>0</td>\n",
              "      <td>1</td>\n",
              "      <td>0</td>\n",
              "      <td>1</td>\n",
              "      <td>1</td>\n",
              "      <td>1</td>\n",
              "      <td>1</td>\n",
              "      <td>0</td>\n",
              "    </tr>\n",
              "  </tbody>\n",
              "</table>\n",
              "</div>"
            ],
            "text/plain": [
              "   Price  Age     KM  ... Power_Steering  Mistlamps  Sport_Model\n",
              "0  13500   23  46986  ...              1          0            0\n",
              "1  13750   23  72937  ...              1          0            0\n",
              "2  13950   24  41711  ...              1          0            0\n",
              "3  14950   26  48000  ...              1          0            0\n",
              "4  13750   30  38500  ...              1          1            0\n",
              "5  12950   32  61000  ...              1          1            0\n",
              "\n",
              "[6 rows x 21 columns]"
            ]
          },
          "metadata": {},
          "execution_count": 28
        }
      ]
    },
    {
      "cell_type": "markdown",
      "metadata": {
        "id": "u9T5c8R4oD9Z"
      },
      "source": [
        "#Statistics."
      ]
    },
    {
      "cell_type": "code",
      "metadata": {
        "colab": {
          "base_uri": "https://localhost:8080/"
        },
        "id": "yElNR7hwoIuF",
        "outputId": "9f1632ec-7e56-4dbf-8f1e-386cfe4a5457"
      },
      "source": [
        "print('Number of data samples:', str(len(dataset)), '\\n')\n",
        "print('Number of features:', str(len(dataset.columns)),'\\n')\n",
        "print('Missing values:','\\n',dataset.isnull().sum(),'\\n')\n",
        "print('Frequency of different number of doors:','\\n', dataset['Doors'].value_counts(),'\\n')\n",
        "print('Frequency of different fuel types:','\\n', dataset['Fuel_Type'].value_counts())"
      ],
      "execution_count": 29,
      "outputs": [
        {
          "output_type": "stream",
          "name": "stdout",
          "text": [
            "Number of data samples: 1436 \n",
            "\n",
            "Number of features: 21 \n",
            "\n",
            "Missing values: \n",
            " Price               0\n",
            "Age                 0\n",
            "KM                  0\n",
            "Fuel_Type           0\n",
            "HP                  0\n",
            "Met_Color           0\n",
            "Automatic           0\n",
            "cc                  0\n",
            "Doors               0\n",
            "Mfr_Guarantee       0\n",
            "Guarantee_Period    0\n",
            "ABS                 0\n",
            "Airco               0\n",
            "Automatic_airco     0\n",
            "Boardcomputer       0\n",
            "CD_Player           0\n",
            "Central_Lock        0\n",
            "Powered_Windows     0\n",
            "Power_Steering      0\n",
            "Mistlamps           0\n",
            "Sport_Model         0\n",
            "dtype: int64 \n",
            "\n",
            "Frequency of different number of doors: \n",
            " 5    674\n",
            "3    622\n",
            "4    138\n",
            "2      2\n",
            "Name: Doors, dtype: int64 \n",
            "\n",
            "Frequency of different fuel types: \n",
            " Petrol    1264\n",
            "Diesel     155\n",
            "CNG         17\n",
            "Name: Fuel_Type, dtype: int64\n"
          ]
        }
      ]
    },
    {
      "cell_type": "markdown",
      "metadata": {
        "id": "g-yiRkuxqTb3"
      },
      "source": [
        "#Comparing fuel types, ABS (or not), metal color (or not) and number of doors by mean price of a car."
      ]
    },
    {
      "cell_type": "markdown",
      "metadata": {
        "id": "sh3eSysWsVLo"
      },
      "source": [
        "Most expensive fuel type is Diesel. Cars with ABS brakes are more expensive than those without. Metal color cars are also slighty more expensive than other colors combined. Price of cars with odd number of doors are for some reason more expensive than price of a car with even number of doors."
      ]
    },
    {
      "cell_type": "code",
      "metadata": {
        "colab": {
          "base_uri": "https://localhost:8080/"
        },
        "id": "t6nB-hmxqVna",
        "outputId": "72d852b6-8ee7-4606-8178-1491ebc12da3"
      },
      "source": [
        "print(round(dataset.groupby('Fuel_Type')['Price'].mean()),'\\n')\n",
        "print(round(dataset.groupby('ABS')['Price'].mean()),'\\n')\n",
        "print(round(dataset.groupby('Met_Color')['Price'].mean()),'\\n')\n",
        "print(round(dataset.groupby('Doors')['Price'].mean()))"
      ],
      "execution_count": 30,
      "outputs": [
        {
          "output_type": "stream",
          "name": "stdout",
          "text": [
            "Fuel_Type\n",
            "CNG        9421.0\n",
            "Diesel    11295.0\n",
            "Petrol    10679.0\n",
            "Name: Price, dtype: float64 \n",
            "\n",
            "ABS\n",
            "0     8414.0\n",
            "1    11263.0\n",
            "Name: Price, dtype: float64 \n",
            "\n",
            "Met_Color\n",
            "0    10162.0\n",
            "1    11005.0\n",
            "Name: Price, dtype: float64 \n",
            "\n",
            "Doors\n",
            "2     8100.0\n",
            "3    10107.0\n",
            "4     9807.0\n",
            "5    11503.0\n",
            "Name: Price, dtype: float64\n"
          ]
        }
      ]
    },
    {
      "cell_type": "markdown",
      "metadata": {
        "id": "EHazQVRsuhW4"
      },
      "source": [
        "#Looking at distributions of continious variables and detecting outliers."
      ]
    },
    {
      "cell_type": "code",
      "metadata": {
        "colab": {
          "base_uri": "https://localhost:8080/",
          "height": 1000
        },
        "id": "ZauSWTGaujmf",
        "outputId": "8a17e2d0-ba83-4460-e926-d9370fdfb562"
      },
      "source": [
        "fig, ax = plt.subplots(8,2, figsize=(15,30), sharex = False, sharey = False)\n",
        "\n",
        "ax[0][0].scatter(dataset.KM, dataset.Price, color='black')\n",
        "ax[0][0].set_xlabel('KM')\n",
        "ax[0][0].set_ylabel('Price')\n",
        "ax[0][1].scatter(dataset.cc, dataset.Price, color='blue')\n",
        "ax[0][1].set_xlabel('cc')\n",
        "ax[0][1].set_ylabel('Price')\n",
        "ax[1][0].hist(dataset.Price, color='red', bins = 30)\n",
        "ax[1][0].set_xlabel('Price')\n",
        "ax[1][1].hist(dataset.Age, color='red', bins = 30)\n",
        "ax[1][1].set_xlabel('Age')\n",
        "ax[2][0].hist(dataset.KM, color='red', bins = 30)\n",
        "ax[2][0].set_xlabel('KM')\n",
        "ax[2][1].hist(dataset.HP, color='red', bins = 30)\n",
        "ax[2][1].set_xlabel('HP')\n",
        "ax[3][0].hist(dataset.cc, color='red', bins = 30)\n",
        "ax[3][0].set_xlabel('cc')\n",
        "ax[3][1].hist(dataset.Doors, color='red', bins = 30)\n",
        "ax[3][1].set_xlabel('Doors')\n",
        "ax[4][0].hist(dataset.Guarantee_Period, color='red', bins = 30)\n",
        "ax[4][0].set_xlabel('Guarantee_Period')\n",
        "ax[4][1].boxplot(dataset.Price, vert=False)\n",
        "ax[4][1].set_ylabel('Price')\n",
        "ax[5][0].boxplot(dataset.Age, vert=False)\n",
        "ax[5][0].set_ylabel('Age')\n",
        "ax[5][1].boxplot(dataset.KM, vert=False)\n",
        "ax[5][1].set_ylabel('KM')\n",
        "ax[6][0].boxplot(dataset.HP, vert=False)\n",
        "ax[6][0].set_ylabel('HP')\n",
        "ax[6][1].boxplot(dataset.cc, vert=False)\n",
        "ax[6][1].set_ylabel('cc')\n",
        "ax[7][0].boxplot(dataset.Doors, vert=False)\n",
        "ax[7][0].set_ylabel('Doors')\n",
        "ax[7][1].boxplot(dataset.Guarantee_Period, vert=False)\n",
        "ax[7][1].set_ylabel('Guarantee_Period')\n",
        "\n",
        "plt.show()"
      ],
      "execution_count": 31,
      "outputs": [
        {
          "output_type": "display_data",
          "data": {
            "image/png": "[encoded data removed]",
            "text/plain": [
              "<Figure size 1080x2160 with 16 Axes>"
            ]
          },
          "metadata": {
            "needs_background": "light"
          }
        }
      ]
    },
    {
      "cell_type": "markdown",
      "metadata": {
        "id": "Xa_ZGscPIoXu"
      },
      "source": [
        "#Removing outliers in terms of IQR."
      ]
    },
    {
      "cell_type": "code",
      "metadata": {
        "id": "RAdr-G4dIxxk"
      },
      "source": [
        "feature_names = ['Price','Age','KM','HP','cc','Guarantee_Period','Doors']\n",
        "Q1=[]\n",
        "Q3=[]\n",
        "IQR=[]\n",
        "\n",
        "for i, j in enumerate(feature_names):\n",
        "    Q1.append(dataset[j].quantile(.25))\n",
        "    Q3.append(dataset[j].quantile(.75))\n",
        "    IQR.append(Q3[i]-Q1[i])\n",
        "\n",
        "for i, j in enumerate(feature_names):\n",
        "    true_index = (dataset[j] >= (Q1[i] - 2 * IQR[i])) & (dataset[j] <=(Q3[i] + 2 * IQR[i]))\n",
        "    dataset = dataset.loc[true_index] "
      ],
      "execution_count": 32,
      "outputs": []
    },
    {
      "cell_type": "markdown",
      "metadata": {
        "id": "mc0PGFnmnB2Q"
      },
      "source": [
        "#Converting data types."
      ]
    },
    {
      "cell_type": "markdown",
      "metadata": {
        "id": "n65_KCgPnK9K"
      },
      "source": [
        "There is lot of variables in data which data type is integer but are actually categories. Next changing categorical variables data type to 'category' (for example 'CD_Player' has two options, and you can't put them in order or calculate with them)."
      ]
    },
    {
      "cell_type": "code",
      "metadata": {
        "id": "K8jgTJRAi3pQ"
      },
      "source": [
        "dataset[\"Met_Color\"] = dataset[\"Met_Color\"].astype('category')\n",
        "dataset[\"Automatic\"] = dataset[\"Automatic\"].astype('category')\n",
        "dataset[\"Mfr_Guarantee\"] = dataset[\"Mfr_Guarantee\"].astype('category')\n",
        "dataset[\"ABS\"] = dataset[\"ABS\"].astype('category')\n",
        "dataset[\"Airco\"] = dataset[\"Airco\"].astype('category')\n",
        "dataset[\"Automatic_airco\"] = dataset[\"Automatic_airco\"].astype('category')\n",
        "dataset[\"Boardcomputer\"] = dataset[\"Boardcomputer\"].astype('category')\n",
        "dataset[\"CD_Player\"] = dataset[\"CD_Player\"].astype('category')\n",
        "dataset[\"Central_Lock\"] = dataset[\"Central_Lock\"].astype('category')\n",
        "dataset[\"Powered_Windows\"] = dataset[\"Powered_Windows\"].astype('category')\n",
        "dataset[\"Power_Steering\"] = dataset[\"Power_Steering\"].astype('category')\n",
        "dataset[\"Mistlamps\"] = dataset[\"Mistlamps\"].astype('category')\n",
        "dataset[\"Sport_Model\"] = dataset[\"Sport_Model\"].astype('category')\n",
        "dataset[\"Fuel_Type\"] = dataset[\"Fuel_Type\"].astype('category')\n",
        "dataset[\"cc\"] = dataset[\"cc\"].astype('category')"
      ],
      "execution_count": 33,
      "outputs": []
    },
    {
      "cell_type": "markdown",
      "metadata": {
        "id": "kFi7pgI0MY2U"
      },
      "source": [
        "Encoding 'Fuel_Type' by creating dummy variables."
      ]
    },
    {
      "cell_type": "code",
      "metadata": {
        "id": "VqoOa6A7L6X-"
      },
      "source": [
        "df_new = pd.get_dummies(dataset['Fuel_Type'])\n",
        "dataset = pd.concat([dataset, df_new],axis=1)\n",
        "dataset = dataset.drop(['Fuel_Type'], axis = 1) "
      ],
      "execution_count": 34,
      "outputs": []
    },
    {
      "cell_type": "code",
      "metadata": {
        "colab": {
          "base_uri": "https://localhost:8080/",
          "height": 383
        },
        "id": "UcbWotskMkdt",
        "outputId": "bb9dde06-1e8a-49bd-c067-ef00cc80d52b"
      },
      "source": [
        "dataset.head(10)"
      ],
      "execution_count": 35,
      "outputs": [
        {
          "output_type": "execute_result",
          "data": {
            "text/html": [
              "<div>\n",
              "<style scoped>\n",
              "    .dataframe tbody tr th:only-of-type {\n",
              "        vertical-align: middle;\n",
              "    }\n",
              "\n",
              "    .dataframe tbody tr th {\n",
              "        vertical-align: top;\n",
              "    }\n",
              "\n",
              "    .dataframe thead th {\n",
              "        text-align: right;\n",
              "    }\n",
              "</style>\n",
              "<table border=\"1\" class=\"dataframe\">\n",
              "  <thead>\n",
              "    <tr style=\"text-align: right;\">\n",
              "      <th></th>\n",
              "      <th>Price</th>\n",
              "      <th>Age</th>\n",
              "      <th>KM</th>\n",
              "      <th>HP</th>\n",
              "      <th>Met_Color</th>\n",
              "      <th>Automatic</th>\n",
              "      <th>cc</th>\n",
              "      <th>Doors</th>\n",
              "      <th>Mfr_Guarantee</th>\n",
              "      <th>Guarantee_Period</th>\n",
              "      <th>ABS</th>\n",
              "      <th>Airco</th>\n",
              "      <th>Automatic_airco</th>\n",
              "      <th>Boardcomputer</th>\n",
              "      <th>CD_Player</th>\n",
              "      <th>Central_Lock</th>\n",
              "      <th>Powered_Windows</th>\n",
              "      <th>Power_Steering</th>\n",
              "      <th>Mistlamps</th>\n",
              "      <th>Sport_Model</th>\n",
              "      <th>CNG</th>\n",
              "      <th>Diesel</th>\n",
              "      <th>Petrol</th>\n",
              "    </tr>\n",
              "  </thead>\n",
              "  <tbody>\n",
              "    <tr>\n",
              "      <th>0</th>\n",
              "      <td>13500</td>\n",
              "      <td>23</td>\n",
              "      <td>46986</td>\n",
              "      <td>90</td>\n",
              "      <td>1</td>\n",
              "      <td>0</td>\n",
              "      <td>2000</td>\n",
              "      <td>3</td>\n",
              "      <td>0</td>\n",
              "      <td>3</td>\n",
              "      <td>1</td>\n",
              "      <td>0</td>\n",
              "      <td>0</td>\n",
              "      <td>1</td>\n",
              "      <td>0</td>\n",
              "      <td>1</td>\n",
              "      <td>1</td>\n",
              "      <td>1</td>\n",
              "      <td>0</td>\n",
              "      <td>0</td>\n",
              "      <td>0</td>\n",
              "      <td>1</td>\n",
              "      <td>0</td>\n",
              "    </tr>\n",
              "    <tr>\n",
              "      <th>1</th>\n",
              "      <td>13750</td>\n",
              "      <td>23</td>\n",
              "      <td>72937</td>\n",
              "      <td>90</td>\n",
              "      <td>1</td>\n",
              "      <td>0</td>\n",
              "      <td>2000</td>\n",
              "      <td>3</td>\n",
              "      <td>0</td>\n",
              "      <td>3</td>\n",
              "      <td>1</td>\n",
              "      <td>1</td>\n",
              "      <td>0</td>\n",
              "      <td>1</td>\n",
              "      <td>1</td>\n",
              "      <td>1</td>\n",
              "      <td>0</td>\n",
              "      <td>1</td>\n",
              "      <td>0</td>\n",
              "      <td>0</td>\n",
              "      <td>0</td>\n",
              "      <td>1</td>\n",
              "      <td>0</td>\n",
              "    </tr>\n",
              "    <tr>\n",
              "      <th>2</th>\n",
              "      <td>13950</td>\n",
              "      <td>24</td>\n",
              "      <td>41711</td>\n",
              "      <td>90</td>\n",
              "      <td>1</td>\n",
              "      <td>0</td>\n",
              "      <td>2000</td>\n",
              "      <td>3</td>\n",
              "      <td>1</td>\n",
              "      <td>3</td>\n",
              "      <td>1</td>\n",
              "      <td>0</td>\n",
              "      <td>0</td>\n",
              "      <td>1</td>\n",
              "      <td>0</td>\n",
              "      <td>0</td>\n",
              "      <td>0</td>\n",
              "      <td>1</td>\n",
              "      <td>0</td>\n",
              "      <td>0</td>\n",
              "      <td>0</td>\n",
              "      <td>1</td>\n",
              "      <td>0</td>\n",
              "    </tr>\n",
              "    <tr>\n",
              "      <th>3</th>\n",
              "      <td>14950</td>\n",
              "      <td>26</td>\n",
              "      <td>48000</td>\n",
              "      <td>90</td>\n",
              "      <td>0</td>\n",
              "      <td>0</td>\n",
              "      <td>2000</td>\n",
              "      <td>3</td>\n",
              "      <td>1</td>\n",
              "      <td>3</td>\n",
              "      <td>1</td>\n",
              "      <td>0</td>\n",
              "      <td>0</td>\n",
              "      <td>1</td>\n",
              "      <td>0</td>\n",
              "      <td>0</td>\n",
              "      <td>0</td>\n",
              "      <td>1</td>\n",
              "      <td>0</td>\n",
              "      <td>0</td>\n",
              "      <td>0</td>\n",
              "      <td>1</td>\n",
              "      <td>0</td>\n",
              "    </tr>\n",
              "    <tr>\n",
              "      <th>4</th>\n",
              "      <td>13750</td>\n",
              "      <td>30</td>\n",
              "      <td>38500</td>\n",
              "      <td>90</td>\n",
              "      <td>0</td>\n",
              "      <td>0</td>\n",
              "      <td>2000</td>\n",
              "      <td>3</td>\n",
              "      <td>1</td>\n",
              "      <td>3</td>\n",
              "      <td>1</td>\n",
              "      <td>1</td>\n",
              "      <td>0</td>\n",
              "      <td>1</td>\n",
              "      <td>0</td>\n",
              "      <td>1</td>\n",
              "      <td>1</td>\n",
              "      <td>1</td>\n",
              "      <td>1</td>\n",
              "      <td>0</td>\n",
              "      <td>0</td>\n",
              "      <td>1</td>\n",
              "      <td>0</td>\n",
              "    </tr>\n",
              "    <tr>\n",
              "      <th>5</th>\n",
              "      <td>12950</td>\n",
              "      <td>32</td>\n",
              "      <td>61000</td>\n",
              "      <td>90</td>\n",
              "      <td>0</td>\n",
              "      <td>0</td>\n",
              "      <td>2000</td>\n",
              "      <td>3</td>\n",
              "      <td>0</td>\n",
              "      <td>3</td>\n",
              "      <td>1</td>\n",
              "      <td>1</td>\n",
              "      <td>0</td>\n",
              "      <td>1</td>\n",
              "      <td>0</td>\n",
              "      <td>1</td>\n",
              "      <td>1</td>\n",
              "      <td>1</td>\n",
              "      <td>1</td>\n",
              "      <td>0</td>\n",
              "      <td>0</td>\n",
              "      <td>1</td>\n",
              "      <td>0</td>\n",
              "    </tr>\n",
              "    <tr>\n",
              "      <th>6</th>\n",
              "      <td>16900</td>\n",
              "      <td>27</td>\n",
              "      <td>94612</td>\n",
              "      <td>90</td>\n",
              "      <td>1</td>\n",
              "      <td>0</td>\n",
              "      <td>2000</td>\n",
              "      <td>3</td>\n",
              "      <td>0</td>\n",
              "      <td>3</td>\n",
              "      <td>1</td>\n",
              "      <td>1</td>\n",
              "      <td>0</td>\n",
              "      <td>1</td>\n",
              "      <td>0</td>\n",
              "      <td>1</td>\n",
              "      <td>1</td>\n",
              "      <td>1</td>\n",
              "      <td>0</td>\n",
              "      <td>1</td>\n",
              "      <td>0</td>\n",
              "      <td>1</td>\n",
              "      <td>0</td>\n",
              "    </tr>\n",
              "    <tr>\n",
              "      <th>7</th>\n",
              "      <td>18600</td>\n",
              "      <td>30</td>\n",
              "      <td>75889</td>\n",
              "      <td>90</td>\n",
              "      <td>1</td>\n",
              "      <td>0</td>\n",
              "      <td>2000</td>\n",
              "      <td>3</td>\n",
              "      <td>1</td>\n",
              "      <td>3</td>\n",
              "      <td>1</td>\n",
              "      <td>1</td>\n",
              "      <td>0</td>\n",
              "      <td>1</td>\n",
              "      <td>1</td>\n",
              "      <td>1</td>\n",
              "      <td>1</td>\n",
              "      <td>1</td>\n",
              "      <td>0</td>\n",
              "      <td>0</td>\n",
              "      <td>0</td>\n",
              "      <td>1</td>\n",
              "      <td>0</td>\n",
              "    </tr>\n",
              "    <tr>\n",
              "      <th>9</th>\n",
              "      <td>12950</td>\n",
              "      <td>23</td>\n",
              "      <td>71138</td>\n",
              "      <td>69</td>\n",
              "      <td>0</td>\n",
              "      <td>0</td>\n",
              "      <td>1900</td>\n",
              "      <td>3</td>\n",
              "      <td>0</td>\n",
              "      <td>3</td>\n",
              "      <td>1</td>\n",
              "      <td>1</td>\n",
              "      <td>0</td>\n",
              "      <td>1</td>\n",
              "      <td>0</td>\n",
              "      <td>0</td>\n",
              "      <td>0</td>\n",
              "      <td>1</td>\n",
              "      <td>0</td>\n",
              "      <td>0</td>\n",
              "      <td>0</td>\n",
              "      <td>1</td>\n",
              "      <td>0</td>\n",
              "    </tr>\n",
              "    <tr>\n",
              "      <th>18</th>\n",
              "      <td>16750</td>\n",
              "      <td>24</td>\n",
              "      <td>25563</td>\n",
              "      <td>110</td>\n",
              "      <td>0</td>\n",
              "      <td>0</td>\n",
              "      <td>1600</td>\n",
              "      <td>3</td>\n",
              "      <td>0</td>\n",
              "      <td>3</td>\n",
              "      <td>1</td>\n",
              "      <td>1</td>\n",
              "      <td>1</td>\n",
              "      <td>1</td>\n",
              "      <td>1</td>\n",
              "      <td>1</td>\n",
              "      <td>1</td>\n",
              "      <td>1</td>\n",
              "      <td>1</td>\n",
              "      <td>0</td>\n",
              "      <td>0</td>\n",
              "      <td>0</td>\n",
              "      <td>1</td>\n",
              "    </tr>\n",
              "  </tbody>\n",
              "</table>\n",
              "</div>"
            ],
            "text/plain": [
              "    Price  Age     KM   HP Met_Color  ... Mistlamps Sport_Model  CNG Diesel  Petrol\n",
              "0   13500   23  46986   90         1  ...         0           0    0      1       0\n",
              "1   13750   23  72937   90         1  ...         0           0    0      1       0\n",
              "2   13950   24  41711   90         1  ...         0           0    0      1       0\n",
              "3   14950   26  48000   90         0  ...         0           0    0      1       0\n",
              "4   13750   30  38500   90         0  ...         1           0    0      1       0\n",
              "5   12950   32  61000   90         0  ...         1           0    0      1       0\n",
              "6   16900   27  94612   90         1  ...         0           1    0      1       0\n",
              "7   18600   30  75889   90         1  ...         0           0    0      1       0\n",
              "9   12950   23  71138   69         0  ...         0           0    0      1       0\n",
              "18  16750   24  25563  110         0  ...         1           0    0      0       1\n",
              "\n",
              "[10 rows x 23 columns]"
            ]
          },
          "metadata": {},
          "execution_count": 35
        }
      ]
    },
    {
      "cell_type": "markdown",
      "metadata": {
        "id": "MWt2qrSA1t8N"
      },
      "source": [
        "#Creating ML models from data."
      ]
    },
    {
      "cell_type": "markdown",
      "metadata": {
        "id": "qLgCw6uiNtnF"
      },
      "source": [
        "Splitting data to X and y."
      ]
    },
    {
      "cell_type": "code",
      "metadata": {
        "id": "lrRrG2wLM3qk"
      },
      "source": [
        "X = dataset.iloc[:, 1:].values\n",
        "y = dataset.iloc[:, 0:1].values"
      ],
      "execution_count": 36,
      "outputs": []
    },
    {
      "cell_type": "markdown",
      "metadata": {
        "id": "CRHNYqNuNzLQ"
      },
      "source": [
        "Splitting data to training and test set."
      ]
    },
    {
      "cell_type": "code",
      "metadata": {
        "id": "laObVEm-NIKv"
      },
      "source": [
        "X_train, X_test, y_train, y_test = train_test_split(\n",
        "X, y, test_size=0.25)"
      ],
      "execution_count": 37,
      "outputs": []
    },
    {
      "cell_type": "markdown",
      "metadata": {
        "id": "Adx0X88JOZ_o"
      },
      "source": [
        "Shape of sets."
      ]
    },
    {
      "cell_type": "code",
      "metadata": {
        "colab": {
          "base_uri": "https://localhost:8080/"
        },
        "id": "V1dNLaCRN9qe",
        "outputId": "cfce4804-6da1-47da-ffa6-54124d3f4b34"
      },
      "source": [
        "print('X_train shape:',X_train.shape)\n",
        "print('X_test shape:',X_test.shape)\n",
        "print('y_train shape:',y_train.shape)\n",
        "print('y_test shape:',y_test.shape)"
      ],
      "execution_count": 38,
      "outputs": [
        {
          "output_type": "stream",
          "name": "stdout",
          "text": [
            "X_train shape: (892, 22)\n",
            "X_test shape: (298, 22)\n",
            "y_train shape: (892, 1)\n",
            "y_test shape: (298, 1)\n"
          ]
        }
      ]
    },
    {
      "cell_type": "markdown",
      "metadata": {
        "id": "zeHOqp1tO6ZB"
      },
      "source": [
        "Training Linear regression model."
      ]
    },
    {
      "cell_type": "code",
      "metadata": {
        "colab": {
          "base_uri": "https://localhost:8080/"
        },
        "id": "cYTKJskgOeGg",
        "outputId": "ef34c56d-a91a-4d68-c677-1a2b26627a53"
      },
      "source": [
        "regressor = LinearRegression(normalize=True)\n",
        "regressor.fit(X_train, y_train)"
      ],
      "execution_count": 39,
      "outputs": [
        {
          "output_type": "execute_result",
          "data": {
            "text/plain": [
              "LinearRegression(copy_X=True, fit_intercept=True, n_jobs=None, normalize=True)"
            ]
          },
          "metadata": {},
          "execution_count": 39
        }
      ]
    },
    {
      "cell_type": "markdown",
      "metadata": {
        "id": "VO2aOmLSQp89"
      },
      "source": [
        "Accuracy of Linear regression model."
      ]
    },
    {
      "cell_type": "code",
      "metadata": {
        "colab": {
          "base_uri": "https://localhost:8080/"
        },
        "id": "o-Dgb2dIP8CC",
        "outputId": "bbc654e7-0ae1-460d-952a-90b55fa5ae5d"
      },
      "source": [
        "print('Accuracy on training data:',regressor.score(X_train, y_train))\n",
        "print('Accuracy on test data:',regressor.score(X_test, y_test))"
      ],
      "execution_count": 40,
      "outputs": [
        {
          "output_type": "stream",
          "name": "stdout",
          "text": [
            "Accuracy on training data: 0.8502391518185214\n",
            "Accuracy on test data: 0.8150678276392633\n"
          ]
        }
      ]
    },
    {
      "cell_type": "markdown",
      "metadata": {
        "id": "4PLiZkwIRokK"
      },
      "source": [
        "Scatter plot of predicted and real values of test set (Linear regression)."
      ]
    },
    {
      "cell_type": "code",
      "metadata": {
        "colab": {
          "base_uri": "https://localhost:8080/",
          "height": 282
        },
        "id": "JOqswjU-Q0Nb",
        "outputId": "6969b7f6-a28c-447a-fd88-e153b7772924"
      },
      "source": [
        "y_hat_test = regressor.predict(X_test)\n",
        "\n",
        "fig, ax = plt.subplots()\n",
        "ax.scatter(y_hat_test, y_test, color='blue', marker='.', linewidth=1.75)\n",
        "ax.set_xlabel(\"Predicted y value\", fontsize=12);\n",
        "ax.set_ylabel(\"Real y value\", fontsize=12)\n",
        "\n",
        "plt.show()"
      ],
      "execution_count": 41,
      "outputs": [
        {
          "output_type": "display_data",
          "data": {
            "image/png": "[encoded data removed]",
            "text/plain": [
              "<Figure size 432x288 with 1 Axes>"
            ]
          },
          "metadata": {
            "needs_background": "light"
          }
        }
      ]
    },
    {
      "cell_type": "markdown",
      "metadata": {
        "id": "RId02GyoT6KQ"
      },
      "source": [
        "R2 and MSE of Linear regression model."
      ]
    },
    {
      "cell_type": "code",
      "metadata": {
        "colab": {
          "base_uri": "https://localhost:8080/"
        },
        "id": "eV3aHGNlR6A4",
        "outputId": "202c50ff-76c1-4070-fe10-2315440d01f7"
      },
      "source": [
        "mse = mean_squared_error(y_test, y_hat_test)\n",
        "r2 = r2_score(y_test, y_hat_test)\n",
        "print(\"Test set MSE = {:.2f}\".format(mse))\n",
        "print(\"Test set R2 = {:.2f}\".format(r2))"
      ],
      "execution_count": 42,
      "outputs": [
        {
          "output_type": "stream",
          "name": "stdout",
          "text": [
            "Test set MSE = 1434512.41\n",
            "Test set R2 = 0.82\n"
          ]
        }
      ]
    },
    {
      "cell_type": "markdown",
      "metadata": {
        "id": "kh3-Bs7UWzyF"
      },
      "source": [
        "Same steps with Random forest regression."
      ]
    },
    {
      "cell_type": "code",
      "metadata": {
        "colab": {
          "base_uri": "https://localhost:8080/"
        },
        "id": "Q2xIoKqsVXhM",
        "outputId": "ed99268c-1fc7-49b7-dfe1-6fb90dbe4c2c"
      },
      "source": [
        "forest = RandomForestRegressor(n_estimators = 10, random_state = 0)\n",
        "forest.fit(X_train, y_train)"
      ],
      "execution_count": 43,
      "outputs": [
        {
          "output_type": "stream",
          "name": "stderr",
          "text": [
            "/usr/local/lib/python3.7/dist-packages/ipykernel_launcher.py:2: DataConversionWarning: A column-vector y was passed when a 1d array was expected. Please change the shape of y to (n_samples,), for example using ravel().\n",
            "  \n"
          ]
        },
        {
          "output_type": "execute_result",
          "data": {
            "text/plain": [
              "RandomForestRegressor(bootstrap=True, ccp_alpha=0.0, criterion='mse',\n",
              "                      max_depth=None, max_features='auto', max_leaf_nodes=None,\n",
              "                      max_samples=None, min_impurity_decrease=0.0,\n",
              "                      min_impurity_split=None, min_samples_leaf=1,\n",
              "                      min_samples_split=2, min_weight_fraction_leaf=0.0,\n",
              "                      n_estimators=10, n_jobs=None, oob_score=False,\n",
              "                      random_state=0, verbose=0, warm_start=False)"
            ]
          },
          "metadata": {},
          "execution_count": 43
        }
      ]
    },
    {
      "cell_type": "code",
      "metadata": {
        "colab": {
          "base_uri": "https://localhost:8080/"
        },
        "id": "2vAJA-2cVf91",
        "outputId": "ccbe13da-4130-4ffe-a436-5aa4a66e00b1"
      },
      "source": [
        "print('Accuracy on training data:',forest.score(X_train, y_train))\n",
        "print('Accuracy on test data:',forest.score(X_test, y_test))"
      ],
      "execution_count": 44,
      "outputs": [
        {
          "output_type": "stream",
          "name": "stdout",
          "text": [
            "Accuracy on training data: 0.9733512080204113\n",
            "Accuracy on test data: 0.7906161979780392\n"
          ]
        }
      ]
    },
    {
      "cell_type": "code",
      "metadata": {
        "colab": {
          "base_uri": "https://localhost:8080/",
          "height": 282
        },
        "id": "iKpCoO0MVjiz",
        "outputId": "f3a9e881-c721-48ee-b859-43df04999519"
      },
      "source": [
        "y_forest_test = forest.predict(X_test)\n",
        "\n",
        "fig, ax = plt.subplots()\n",
        "ax.scatter(y_forest_test, y_test, color='blue', marker='.', linewidth=1.75)\n",
        "ax.set_xlabel(\"Predicted y value\", fontsize=12);\n",
        "ax.set_ylabel(\"Real y value\", fontsize=12)\n",
        "\n",
        "plt.show()"
      ],
      "execution_count": 45,
      "outputs": [
        {
          "output_type": "display_data",
          "data": {
            "image/png": "[encoded data removed]",
            "text/plain": [
              "<Figure size 432x288 with 1 Axes>"
            ]
          },
          "metadata": {
            "needs_background": "light"
          }
        }
      ]
    },
    {
      "cell_type": "code",
      "metadata": {
        "colab": {
          "base_uri": "https://localhost:8080/"
        },
        "id": "6MsshSbbVmDU",
        "outputId": "f59422b8-7244-495b-9064-9d4cea1e6284"
      },
      "source": [
        "mseforest = mean_squared_error(y_test, y_forest_test)\n",
        "r2forest = r2_score(y_test, y_forest_test)\n",
        "print(\"Test set MSE = {:.2f}\".format(mseforest))\n",
        "print(\"Test set R2 = {:.2f}\".format(r2forest))"
      ],
      "execution_count": 46,
      "outputs": [
        {
          "output_type": "stream",
          "name": "stdout",
          "text": [
            "Test set MSE = 1624182.85\n",
            "Test set R2 = 0.79\n"
          ]
        }
      ]
    },
    {
      "cell_type": "markdown",
      "metadata": {
        "id": "8zkHDpioZDFZ"
      },
      "source": [
        "And same steps with XGBoost regression."
      ]
    },
    {
      "cell_type": "code",
      "metadata": {
        "colab": {
          "base_uri": "https://localhost:8080/"
        },
        "id": "fFXyk8ViYYd-",
        "outputId": "d666ca85-215b-4827-a164-2e776a025bbe"
      },
      "source": [
        "xgb = XGBRegressor()\n",
        "xgb.fit(X_train, y_train)"
      ],
      "execution_count": 47,
      "outputs": [
        {
          "output_type": "stream",
          "name": "stdout",
          "text": [
            "[14:34:07] WARNING: /workspace/src/objective/regression_obj.cu:152: reg:linear is now deprecated in favor of reg:squarederror.\n"
          ]
        },
        {
          "output_type": "execute_result",
          "data": {
            "text/plain": [
              "XGBRegressor(base_score=0.5, booster='gbtree', colsample_bylevel=1,\n",
              "             colsample_bynode=1, colsample_bytree=1, gamma=0,\n",
              "             importance_type='gain', learning_rate=0.1, max_delta_step=0,\n",
              "             max_depth=3, min_child_weight=1, missing=None, n_estimators=100,\n",
              "             n_jobs=1, nthread=None, objective='reg:linear', random_state=0,\n",
              "             reg_alpha=0, reg_lambda=1, scale_pos_weight=1, seed=None,\n",
              "             silent=None, subsample=1, verbosity=1)"
            ]
          },
          "metadata": {},
          "execution_count": 47
        }
      ]
    },
    {
      "cell_type": "code",
      "metadata": {
        "colab": {
          "base_uri": "https://localhost:8080/"
        },
        "id": "mx2t4UMRYgMt",
        "outputId": "88f93b8e-be18-4458-8408-6e1883f183a4"
      },
      "source": [
        "print('Accuracy on training data:',xgb.score(X_train, y_train))\n",
        "print('Accuracy on test data:',xgb.score(X_test, y_test))"
      ],
      "execution_count": 48,
      "outputs": [
        {
          "output_type": "stream",
          "name": "stdout",
          "text": [
            "Accuracy on training data: 0.9210083698384007\n",
            "Accuracy on test data: 0.832911628227816\n"
          ]
        }
      ]
    },
    {
      "cell_type": "code",
      "metadata": {
        "colab": {
          "base_uri": "https://localhost:8080/",
          "height": 282
        },
        "id": "wpGMSjCEYirE",
        "outputId": "fe673919-76ec-4cb9-d40c-648d818481b3"
      },
      "source": [
        "y_xgb_test = xgb.predict(X_test)\n",
        "\n",
        "fig, ax = plt.subplots()\n",
        "ax.scatter(y_xgb_test, y_test, color='blue', marker='.', linewidth=1.75)\n",
        "ax.set_xlabel(\"Predicted y value\", fontsize=12);\n",
        "ax.set_ylabel(\"Real y value\", fontsize=12)\n",
        "\n",
        "plt.show()"
      ],
      "execution_count": 49,
      "outputs": [
        {
          "output_type": "display_data",
          "data": {
            "image/png": "[encoded data removed]",
            "text/plain": [
              "<Figure size 432x288 with 1 Axes>"
            ]
          },
          "metadata": {
            "needs_background": "light"
          }
        }
      ]
    },
    {
      "cell_type": "code",
      "metadata": {
        "colab": {
          "base_uri": "https://localhost:8080/"
        },
        "id": "1GCk8QxqYlQw",
        "outputId": "8b6ca04f-997a-4f4a-db93-1734d90884cf"
      },
      "source": [
        "msexgb = mean_squared_error(y_test, y_xgb_test)\n",
        "r2xgb = r2_score(y_test, y_xgb_test)\n",
        "print(\"Test set MSE = {:.2f}\".format(msexgb))\n",
        "print(\"Test set R2 = {:.2f}\".format(r2xgb))"
      ],
      "execution_count": 50,
      "outputs": [
        {
          "output_type": "stream",
          "name": "stdout",
          "text": [
            "Test set MSE = 1296098.67\n",
            "Test set R2 = 0.83\n"
          ]
        }
      ]
    },
    {
      "cell_type": "markdown",
      "metadata": {
        "id": "pjsoPzHC22Z6"
      },
      "source": [
        "XGBoost model produced best results. There was more overfitting with Random forest regression model than with other models. Overfitting was present with XGBoost model also, but it didn't lower test set accuracy as much."
      ]
    }
  ]
}