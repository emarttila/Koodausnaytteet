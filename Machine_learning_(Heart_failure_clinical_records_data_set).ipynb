{
  "nbformat": 4,
  "nbformat_minor": 0,
  "metadata": {
    "colab": {
      "name": "Machine learning (Heart failure clinical records data set).ipynb",
      "provenance": [],
      "collapsed_sections": [],
      "authorship_tag": "ABX9TyPXB9qP3DRiQe2kKWj+XCC4",
      "include_colab_link": true
    },
    "kernelspec": {
      "name": "python3",
      "display_name": "Python 3"
    },
    "language_info": {
      "name": "python"
    }
  },
  "cells": [
    {
      "cell_type": "markdown",
      "metadata": {
        "id": "view-in-github",
        "colab_type": "text"
      },
      "source": [
        "<a href=\"https://colab.research.google.com/github/emarttila/Koodausnaytteet/blob/main/Machine_learning_(Heart_failure_clinical_records_data_set).ipynb\" target=\"_parent\"><img src=\"https://colab.research.google.com/assets/colab-badge.svg\" alt=\"Open In Colab\"/></a>"
      ]
    },
    {
      "cell_type": "markdown",
      "metadata": {
        "id": "IBM5cDtUlG8f"
      },
      "source": [
        "#Purpose of this classification machine learning model (XGBoost and ANN) is to predict whether person is in risk to die due heart failure or not in 285 days."
      ]
    },
    {
      "cell_type": "markdown",
      "metadata": {
        "id": "cpgznWZl9Me0"
      },
      "source": [
        "Provide the names, email addresses, institutions, and other contact information of the donors and creators of the data set.The original dataset version was collected by Tanvir Ahmad, Assia Munir, Sajjad Haider Bhatti, Muhammad Aftab, and Muhammad Ali Raza (Government College University, Faisalabad, Pakistan) and made available by them on FigShare under the Attribution 4.0 International (CC BY 4.0: freedom to share and adapt the material) copyright in July 2017.\n",
        "\n",
        "The current version of the dataset was elaborated by Davide Chicco (Krembil Research Institute, Toronto, Canada) and donated to the University of California Irvine Machine Learning Repository under the same Attribution 4.0 International (CC BY 4.0) copyright in January 2020. Davide Chicco can be reached at <davidechicco '@' davidechicco.it>"
      ]
    },
    {
      "cell_type": "markdown",
      "metadata": {
        "id": "eVjzJqLS4PF1"
      },
      "source": [
        "This dataset contains the medical records of 299 patients who had heart failure, collected during their follow-up period, where each patient profile has 13 clinical features.\n",
        "\t\n",
        "Attribute information.\n",
        "\n",
        "- age: age of the patient (years)\n",
        "- anaemia: decrease of red blood cells or hemoglobin (boolean)\n",
        "- high blood pressure: if the patient has hypertension (boolean)\n",
        "- creatinine phosphokinase (CPK): level of the CPK enzyme in the blood (mcg/L)\n",
        "- diabetes: if the patient has diabetes (boolean)\n",
        "- ejection fraction: percentage of blood leaving the heart at each contraction (percentage)\n",
        "- platelets: platelets in the blood (kiloplatelets/mL)\n",
        "- sex: woman or man (binary)\n",
        "- serum creatinine: level of serum creatinine in the blood (mg/dL)\n",
        "- serum sodium: level of serum sodium in the blood (mEq/L)\n",
        "- smoking: if the patient smokes or not (boolean)\n",
        "- time: follow-up period (days)\n",
        "- [target] death event: if the patient deceased during the follow-up period (boolean) "
      ]
    },
    {
      "cell_type": "markdown",
      "metadata": {
        "id": "Z4Pz9JtP18I7"
      },
      "source": [
        "Importing libraries."
      ]
    },
    {
      "cell_type": "code",
      "metadata": {
        "id": "Qv6tBHJPzFgD"
      },
      "source": [
        "import numpy as np\n",
        "import matplotlib.pyplot as plt\n",
        "import pandas as pd\n",
        "from sklearn.model_selection import train_test_split\n",
        "from xgboost import XGBClassifier\n",
        "from sklearn.metrics import confusion_matrix, accuracy_score\n",
        "from sklearn.model_selection import cross_val_score\n",
        "from sklearn.metrics import f1_score\n",
        "import seaborn as sns\n",
        "from matplotlib.colors import ListedColormap\n",
        "from xgboost import plot_importance\n",
        "from sklearn.feature_selection import SelectFromModel\n",
        "from numpy import sort\n",
        "import tensorflow as tf\n",
        "tf.__version__\n",
        "from sklearn.preprocessing import StandardScaler"
      ],
      "execution_count": 24,
      "outputs": []
    },
    {
      "cell_type": "markdown",
      "metadata": {
        "id": "uZLWps7I2APJ"
      },
      "source": [
        "Loading and describing dataset."
      ]
    },
    {
      "cell_type": "code",
      "metadata": {
        "id": "pdRgHuDDzGqZ",
        "colab": {
          "base_uri": "https://localhost:8080/",
          "height": 206
        },
        "outputId": "87cd77b0-64ca-4630-9410-dd5ef785acbf"
      },
      "source": [
        "dataset = pd.read_csv('heart_failure.csv')\n",
        "dataset.head()"
      ],
      "execution_count": 25,
      "outputs": [
        {
          "output_type": "execute_result",
          "data": {
            "text/html": [
              "<div>\n",
              "<style scoped>\n",
              "    .dataframe tbody tr th:only-of-type {\n",
              "        vertical-align: middle;\n",
              "    }\n",
              "\n",
              "    .dataframe tbody tr th {\n",
              "        vertical-align: top;\n",
              "    }\n",
              "\n",
              "    .dataframe thead th {\n",
              "        text-align: right;\n",
              "    }\n",
              "</style>\n",
              "<table border=\"1\" class=\"dataframe\">\n",
              "  <thead>\n",
              "    <tr style=\"text-align: right;\">\n",
              "      <th></th>\n",
              "      <th>age</th>\n",
              "      <th>anaemia</th>\n",
              "      <th>creatinine_phosphokinase</th>\n",
              "      <th>diabetes</th>\n",
              "      <th>ejection_fraction</th>\n",
              "      <th>high_blood_pressure</th>\n",
              "      <th>platelets</th>\n",
              "      <th>serum_creatinine</th>\n",
              "      <th>serum_sodium</th>\n",
              "      <th>sex</th>\n",
              "      <th>smoking</th>\n",
              "      <th>time</th>\n",
              "      <th>DEATH_EVENT</th>\n",
              "    </tr>\n",
              "  </thead>\n",
              "  <tbody>\n",
              "    <tr>\n",
              "      <th>0</th>\n",
              "      <td>75.0</td>\n",
              "      <td>0</td>\n",
              "      <td>582</td>\n",
              "      <td>0</td>\n",
              "      <td>20</td>\n",
              "      <td>1</td>\n",
              "      <td>265000.00</td>\n",
              "      <td>1.9</td>\n",
              "      <td>130</td>\n",
              "      <td>1</td>\n",
              "      <td>0</td>\n",
              "      <td>4</td>\n",
              "      <td>1</td>\n",
              "    </tr>\n",
              "    <tr>\n",
              "      <th>1</th>\n",
              "      <td>55.0</td>\n",
              "      <td>0</td>\n",
              "      <td>7861</td>\n",
              "      <td>0</td>\n",
              "      <td>38</td>\n",
              "      <td>0</td>\n",
              "      <td>263358.03</td>\n",
              "      <td>1.1</td>\n",
              "      <td>136</td>\n",
              "      <td>1</td>\n",
              "      <td>0</td>\n",
              "      <td>6</td>\n",
              "      <td>1</td>\n",
              "    </tr>\n",
              "    <tr>\n",
              "      <th>2</th>\n",
              "      <td>65.0</td>\n",
              "      <td>0</td>\n",
              "      <td>146</td>\n",
              "      <td>0</td>\n",
              "      <td>20</td>\n",
              "      <td>0</td>\n",
              "      <td>162000.00</td>\n",
              "      <td>1.3</td>\n",
              "      <td>129</td>\n",
              "      <td>1</td>\n",
              "      <td>1</td>\n",
              "      <td>7</td>\n",
              "      <td>1</td>\n",
              "    </tr>\n",
              "    <tr>\n",
              "      <th>3</th>\n",
              "      <td>50.0</td>\n",
              "      <td>1</td>\n",
              "      <td>111</td>\n",
              "      <td>0</td>\n",
              "      <td>20</td>\n",
              "      <td>0</td>\n",
              "      <td>210000.00</td>\n",
              "      <td>1.9</td>\n",
              "      <td>137</td>\n",
              "      <td>1</td>\n",
              "      <td>0</td>\n",
              "      <td>7</td>\n",
              "      <td>1</td>\n",
              "    </tr>\n",
              "    <tr>\n",
              "      <th>4</th>\n",
              "      <td>65.0</td>\n",
              "      <td>1</td>\n",
              "      <td>160</td>\n",
              "      <td>1</td>\n",
              "      <td>20</td>\n",
              "      <td>0</td>\n",
              "      <td>327000.00</td>\n",
              "      <td>2.7</td>\n",
              "      <td>116</td>\n",
              "      <td>0</td>\n",
              "      <td>0</td>\n",
              "      <td>8</td>\n",
              "      <td>1</td>\n",
              "    </tr>\n",
              "  </tbody>\n",
              "</table>\n",
              "</div>"
            ],
            "text/plain": [
              "    age  anaemia  creatinine_phosphokinase  ...  smoking  time  DEATH_EVENT\n",
              "0  75.0        0                       582  ...        0     4            1\n",
              "1  55.0        0                      7861  ...        0     6            1\n",
              "2  65.0        0                       146  ...        1     7            1\n",
              "3  50.0        1                       111  ...        0     7            1\n",
              "4  65.0        1                       160  ...        0     8            1\n",
              "\n",
              "[5 rows x 13 columns]"
            ]
          },
          "metadata": {},
          "execution_count": 25
        }
      ]
    },
    {
      "cell_type": "code",
      "metadata": {
        "colab": {
          "base_uri": "https://localhost:8080/",
          "height": 320
        },
        "id": "d4XcVuMbl5jG",
        "outputId": "a2a9812c-926e-46b1-c27b-e5b2f5dfbf1f"
      },
      "source": [
        "dataset.describe()"
      ],
      "execution_count": 26,
      "outputs": [
        {
          "output_type": "execute_result",
          "data": {
            "text/html": [
              "<div>\n",
              "<style scoped>\n",
              "    .dataframe tbody tr th:only-of-type {\n",
              "        vertical-align: middle;\n",
              "    }\n",
              "\n",
              "    .dataframe tbody tr th {\n",
              "        vertical-align: top;\n",
              "    }\n",
              "\n",
              "    .dataframe thead th {\n",
              "        text-align: right;\n",
              "    }\n",
              "</style>\n",
              "<table border=\"1\" class=\"dataframe\">\n",
              "  <thead>\n",
              "    <tr style=\"text-align: right;\">\n",
              "      <th></th>\n",
              "      <th>age</th>\n",
              "      <th>anaemia</th>\n",
              "      <th>creatinine_phosphokinase</th>\n",
              "      <th>diabetes</th>\n",
              "      <th>ejection_fraction</th>\n",
              "      <th>high_blood_pressure</th>\n",
              "      <th>platelets</th>\n",
              "      <th>serum_creatinine</th>\n",
              "      <th>serum_sodium</th>\n",
              "      <th>sex</th>\n",
              "      <th>smoking</th>\n",
              "      <th>time</th>\n",
              "      <th>DEATH_EVENT</th>\n",
              "    </tr>\n",
              "  </thead>\n",
              "  <tbody>\n",
              "    <tr>\n",
              "      <th>count</th>\n",
              "      <td>299.000000</td>\n",
              "      <td>299.000000</td>\n",
              "      <td>299.000000</td>\n",
              "      <td>299.000000</td>\n",
              "      <td>299.000000</td>\n",
              "      <td>299.000000</td>\n",
              "      <td>299.000000</td>\n",
              "      <td>299.00000</td>\n",
              "      <td>299.000000</td>\n",
              "      <td>299.000000</td>\n",
              "      <td>299.00000</td>\n",
              "      <td>299.000000</td>\n",
              "      <td>299.00000</td>\n",
              "    </tr>\n",
              "    <tr>\n",
              "      <th>mean</th>\n",
              "      <td>60.833893</td>\n",
              "      <td>0.431438</td>\n",
              "      <td>581.839465</td>\n",
              "      <td>0.418060</td>\n",
              "      <td>38.083612</td>\n",
              "      <td>0.351171</td>\n",
              "      <td>263358.029264</td>\n",
              "      <td>1.39388</td>\n",
              "      <td>136.625418</td>\n",
              "      <td>0.648829</td>\n",
              "      <td>0.32107</td>\n",
              "      <td>130.260870</td>\n",
              "      <td>0.32107</td>\n",
              "    </tr>\n",
              "    <tr>\n",
              "      <th>std</th>\n",
              "      <td>11.894809</td>\n",
              "      <td>0.496107</td>\n",
              "      <td>970.287881</td>\n",
              "      <td>0.494067</td>\n",
              "      <td>11.834841</td>\n",
              "      <td>0.478136</td>\n",
              "      <td>97804.236869</td>\n",
              "      <td>1.03451</td>\n",
              "      <td>4.412477</td>\n",
              "      <td>0.478136</td>\n",
              "      <td>0.46767</td>\n",
              "      <td>77.614208</td>\n",
              "      <td>0.46767</td>\n",
              "    </tr>\n",
              "    <tr>\n",
              "      <th>min</th>\n",
              "      <td>40.000000</td>\n",
              "      <td>0.000000</td>\n",
              "      <td>23.000000</td>\n",
              "      <td>0.000000</td>\n",
              "      <td>14.000000</td>\n",
              "      <td>0.000000</td>\n",
              "      <td>25100.000000</td>\n",
              "      <td>0.50000</td>\n",
              "      <td>113.000000</td>\n",
              "      <td>0.000000</td>\n",
              "      <td>0.00000</td>\n",
              "      <td>4.000000</td>\n",
              "      <td>0.00000</td>\n",
              "    </tr>\n",
              "    <tr>\n",
              "      <th>25%</th>\n",
              "      <td>51.000000</td>\n",
              "      <td>0.000000</td>\n",
              "      <td>116.500000</td>\n",
              "      <td>0.000000</td>\n",
              "      <td>30.000000</td>\n",
              "      <td>0.000000</td>\n",
              "      <td>212500.000000</td>\n",
              "      <td>0.90000</td>\n",
              "      <td>134.000000</td>\n",
              "      <td>0.000000</td>\n",
              "      <td>0.00000</td>\n",
              "      <td>73.000000</td>\n",
              "      <td>0.00000</td>\n",
              "    </tr>\n",
              "    <tr>\n",
              "      <th>50%</th>\n",
              "      <td>60.000000</td>\n",
              "      <td>0.000000</td>\n",
              "      <td>250.000000</td>\n",
              "      <td>0.000000</td>\n",
              "      <td>38.000000</td>\n",
              "      <td>0.000000</td>\n",
              "      <td>262000.000000</td>\n",
              "      <td>1.10000</td>\n",
              "      <td>137.000000</td>\n",
              "      <td>1.000000</td>\n",
              "      <td>0.00000</td>\n",
              "      <td>115.000000</td>\n",
              "      <td>0.00000</td>\n",
              "    </tr>\n",
              "    <tr>\n",
              "      <th>75%</th>\n",
              "      <td>70.000000</td>\n",
              "      <td>1.000000</td>\n",
              "      <td>582.000000</td>\n",
              "      <td>1.000000</td>\n",
              "      <td>45.000000</td>\n",
              "      <td>1.000000</td>\n",
              "      <td>303500.000000</td>\n",
              "      <td>1.40000</td>\n",
              "      <td>140.000000</td>\n",
              "      <td>1.000000</td>\n",
              "      <td>1.00000</td>\n",
              "      <td>203.000000</td>\n",
              "      <td>1.00000</td>\n",
              "    </tr>\n",
              "    <tr>\n",
              "      <th>max</th>\n",
              "      <td>95.000000</td>\n",
              "      <td>1.000000</td>\n",
              "      <td>7861.000000</td>\n",
              "      <td>1.000000</td>\n",
              "      <td>80.000000</td>\n",
              "      <td>1.000000</td>\n",
              "      <td>850000.000000</td>\n",
              "      <td>9.40000</td>\n",
              "      <td>148.000000</td>\n",
              "      <td>1.000000</td>\n",
              "      <td>1.00000</td>\n",
              "      <td>285.000000</td>\n",
              "      <td>1.00000</td>\n",
              "    </tr>\n",
              "  </tbody>\n",
              "</table>\n",
              "</div>"
            ],
            "text/plain": [
              "              age     anaemia  ...        time  DEATH_EVENT\n",
              "count  299.000000  299.000000  ...  299.000000    299.00000\n",
              "mean    60.833893    0.431438  ...  130.260870      0.32107\n",
              "std     11.894809    0.496107  ...   77.614208      0.46767\n",
              "min     40.000000    0.000000  ...    4.000000      0.00000\n",
              "25%     51.000000    0.000000  ...   73.000000      0.00000\n",
              "50%     60.000000    0.000000  ...  115.000000      0.00000\n",
              "75%     70.000000    1.000000  ...  203.000000      1.00000\n",
              "max     95.000000    1.000000  ...  285.000000      1.00000\n",
              "\n",
              "[8 rows x 13 columns]"
            ]
          },
          "metadata": {},
          "execution_count": 26
        }
      ]
    },
    {
      "cell_type": "markdown",
      "metadata": {
        "id": "RfOIAhG82FOk"
      },
      "source": [
        "Converting data types. Boolean and binary data types were converted to 'category', and 'age' variable was converted to 'int64' data type."
      ]
    },
    {
      "cell_type": "code",
      "metadata": {
        "colab": {
          "base_uri": "https://localhost:8080/"
        },
        "id": "5sJoRhi6zhPD",
        "outputId": "3f3f81d9-ba81-479c-fde2-5c8020293e38"
      },
      "source": [
        "dataset.info()"
      ],
      "execution_count": 27,
      "outputs": [
        {
          "output_type": "stream",
          "name": "stdout",
          "text": [
            "<class 'pandas.core.frame.DataFrame'>\n",
            "RangeIndex: 299 entries, 0 to 298\n",
            "Data columns (total 13 columns):\n",
            " #   Column                    Non-Null Count  Dtype  \n",
            "---  ------                    --------------  -----  \n",
            " 0   age                       299 non-null    float64\n",
            " 1   anaemia                   299 non-null    int64  \n",
            " 2   creatinine_phosphokinase  299 non-null    int64  \n",
            " 3   diabetes                  299 non-null    int64  \n",
            " 4   ejection_fraction         299 non-null    int64  \n",
            " 5   high_blood_pressure       299 non-null    int64  \n",
            " 6   platelets                 299 non-null    float64\n",
            " 7   serum_creatinine          299 non-null    float64\n",
            " 8   serum_sodium              299 non-null    int64  \n",
            " 9   sex                       299 non-null    int64  \n",
            " 10  smoking                   299 non-null    int64  \n",
            " 11  time                      299 non-null    int64  \n",
            " 12  DEATH_EVENT               299 non-null    int64  \n",
            "dtypes: float64(3), int64(10)\n",
            "memory usage: 30.5 KB\n"
          ]
        }
      ]
    },
    {
      "cell_type": "code",
      "metadata": {
        "id": "nwPjoFOVzln6"
      },
      "source": [
        "dataset['high_blood_pressure'] = dataset['high_blood_pressure'].astype('category')\n",
        "dataset['anaemia'] = dataset['anaemia'].astype('category')\n",
        "dataset['diabetes'] = dataset['diabetes'].astype('category')\n",
        "dataset['sex'] = dataset['sex'].astype('category')\n",
        "dataset['smoking'] = dataset['smoking'].astype('category')\n",
        "dataset['DEATH_EVENT'] = dataset['DEATH_EVENT'].astype('category')\n",
        "dataset['age'] = dataset['age'].astype('int64')"
      ],
      "execution_count": 28,
      "outputs": []
    },
    {
      "cell_type": "code",
      "metadata": {
        "colab": {
          "base_uri": "https://localhost:8080/"
        },
        "id": "sRHEUVvB1zFm",
        "outputId": "06ea1841-49dd-43d6-a9dc-3f5da78e8194"
      },
      "source": [
        "dataset.info()"
      ],
      "execution_count": 29,
      "outputs": [
        {
          "output_type": "stream",
          "name": "stdout",
          "text": [
            "<class 'pandas.core.frame.DataFrame'>\n",
            "RangeIndex: 299 entries, 0 to 298\n",
            "Data columns (total 13 columns):\n",
            " #   Column                    Non-Null Count  Dtype   \n",
            "---  ------                    --------------  -----   \n",
            " 0   age                       299 non-null    int64   \n",
            " 1   anaemia                   299 non-null    category\n",
            " 2   creatinine_phosphokinase  299 non-null    int64   \n",
            " 3   diabetes                  299 non-null    category\n",
            " 4   ejection_fraction         299 non-null    int64   \n",
            " 5   high_blood_pressure       299 non-null    category\n",
            " 6   platelets                 299 non-null    float64 \n",
            " 7   serum_creatinine          299 non-null    float64 \n",
            " 8   serum_sodium              299 non-null    int64   \n",
            " 9   sex                       299 non-null    category\n",
            " 10  smoking                   299 non-null    category\n",
            " 11  time                      299 non-null    int64   \n",
            " 12  DEATH_EVENT               299 non-null    category\n",
            "dtypes: category(6), float64(2), int64(5)\n",
            "memory usage: 18.8 KB\n"
          ]
        }
      ]
    },
    {
      "cell_type": "markdown",
      "metadata": {
        "id": "rRSaE2cn3hOQ"
      },
      "source": [
        "There is no missing values in dataset."
      ]
    },
    {
      "cell_type": "code",
      "metadata": {
        "colab": {
          "base_uri": "https://localhost:8080/"
        },
        "id": "v6rek3un2lZu",
        "outputId": "71568c60-5d9a-4175-8c86-4baa92b053dc"
      },
      "source": [
        "dataset.isnull().sum().sum()"
      ],
      "execution_count": 30,
      "outputs": [
        {
          "output_type": "execute_result",
          "data": {
            "text/plain": [
              "0"
            ]
          },
          "metadata": {},
          "execution_count": 30
        }
      ]
    },
    {
      "cell_type": "markdown",
      "metadata": {
        "id": "8p9bJNOkKPST"
      },
      "source": [
        "Looking at variables to see distributions and boxplots to detect outliers. Dataset is fairly inbalanced considering target variable 'DEATH_EVENT'. Unfortunately there was not information which are labels of categorical variables."
      ]
    },
    {
      "cell_type": "code",
      "metadata": {
        "colab": {
          "base_uri": "https://localhost:8080/",
          "height": 1000
        },
        "id": "8MVU1-sKDBZ9",
        "outputId": "a3fcabdc-c498-4796-fbdf-2b9a2b93743f"
      },
      "source": [
        "counter = 0\n",
        "counter2 = 0\n",
        "counter3 = 0\n",
        "continious = []\n",
        "category = []\n",
        "for i in dataset:\n",
        "  if dataset[i].dtype.name != 'category':\n",
        "    continious.append(i)\n",
        "\n",
        "for i in dataset:\n",
        "  if dataset[i].dtype.name == 'category':\n",
        "    category.append(i)\n",
        "\n",
        "fig, ax = plt.subplots(7,3,figsize = (20,40), sharex = False, sharey = False)\n",
        "for i in range(7):\n",
        "  ax[i][0].hist(dataset[continious[counter]])\n",
        "  ax[i][0].set_xlabel(str(continious[counter]),fontsize=15)\n",
        "  counter += 1\n",
        "\n",
        "for i in range(7):\n",
        "  ax[i][1].boxplot(dataset[continious[counter2]])\n",
        "  ax[i][1].set_xlabel(str(continious[counter2]),fontsize=15)\n",
        "  counter2 += 1\n",
        "\n",
        "for i in range(6):\n",
        "  ax[i][2].hist(dataset[category[counter3]])\n",
        "  ax[i][2].set_xlabel(str(category[counter3]),fontsize=15)\n",
        "  counter3 += 1\n"
      ],
      "execution_count": 31,
      "outputs": [
        {
          "output_type": "display_data",
          "data": {
            "image/png": "[encoded data removed]",
            "text/plain": [
              "<Figure size 1440x2880 with 21 Axes>"
            ]
          },
          "metadata": {
            "needs_background": "light"
          }
        }
      ]
    },
    {
      "cell_type": "markdown",
      "metadata": {
        "id": "7TlAoftoPZha"
      },
      "source": [
        "Removing outliers could be done in terms of IQR. Removing outliers increases model accuracy but decreases F1 - score. Because target variable is fairly inbalanced and false predictions can be dangerous, value of F1 - score has bigger weight and outliers are not removed."
      ]
    },
    {
      "cell_type": "code",
      "metadata": {
        "id": "eo0y_085K6ue"
      },
      "source": [
        "#Q1=[]\n",
        "#Q3=[]\n",
        "#IQR=[]\n",
        "\n",
        "#for i, j in enumerate(continious):\n",
        "#    Q1.append(dataset[j].quantile(.25))\n",
        "#    Q3.append(dataset[j].quantile(.75))\n",
        "#    IQR.append(Q3[i]-Q1[i])\n",
        "\n",
        "#for i, j in enumerate(continious):\n",
        "#    true_index = (dataset[j] >= (Q1[i] - 2 * IQR[i])) & (dataset[j] <=(Q3[i] + 2 * IQR[i]))\n",
        "#    dataset = dataset.loc[true_index]"
      ],
      "execution_count": 32,
      "outputs": []
    },
    {
      "cell_type": "markdown",
      "metadata": {
        "id": "ePX2BUea8bN4"
      },
      "source": [
        "There is no need to further encode categorical variables since they are binary and have values of 0 or 1."
      ]
    },
    {
      "cell_type": "markdown",
      "metadata": {
        "id": "vlzpas_rMNeV"
      },
      "source": [
        "Cross tabulation with independent categorical variables vs target variable. "
      ]
    },
    {
      "cell_type": "code",
      "metadata": {
        "colab": {
          "base_uri": "https://localhost:8080/"
        },
        "id": "mgxri2b9KFqL",
        "outputId": "252fd552-4467-46bb-fcfb-83ea051bd154"
      },
      "source": [
        "print(pd.crosstab(dataset.DEATH_EVENT, pd.cut(x = dataset['age'], bins = 4, labels = [1,2,3,4]),normalize = True))\n",
        "print(pd.crosstab(dataset.DEATH_EVENT, pd.cut(x = dataset['creatinine_phosphokinase'], bins = 4, labels = [1,2,3,4]),normalize = True))\n",
        "print(pd.crosstab(dataset.DEATH_EVENT, pd.cut(x = dataset['ejection_fraction'], bins = 4, labels = [1,2,3,4]),normalize = True))\n",
        "print(pd.crosstab(dataset.DEATH_EVENT, pd.cut(x = dataset['platelets'], bins = 4, labels = [1,2,3,4]),normalize = True))\n",
        "print(pd.crosstab(dataset.DEATH_EVENT, pd.cut(x = dataset['serum_creatinine'], bins = 4, labels = [1,2,3,4]),normalize = True))\n",
        "print(pd.crosstab(dataset.DEATH_EVENT, pd.cut(x = dataset['serum_sodium'], bins = 4, labels = [1,2,3,4]),normalize = True))\n",
        "print(pd.crosstab(dataset.DEATH_EVENT, pd.cut(x = dataset['time'], bins = 4, labels = [1,2,3,4]),normalize = True))\n",
        "print(pd.crosstab(dataset.DEATH_EVENT, dataset.anaemia,normalize = True))\n",
        "print(pd.crosstab(dataset.DEATH_EVENT, dataset.diabetes,normalize = True))\n",
        "print(pd.crosstab(dataset.DEATH_EVENT, dataset.high_blood_pressure,normalize = True))\n",
        "print(pd.crosstab(dataset.DEATH_EVENT, dataset.sex,normalize = True))\n",
        "print(pd.crosstab(dataset.DEATH_EVENT, dataset.smoking,normalize = True))"
      ],
      "execution_count": 33,
      "outputs": [
        {
          "output_type": "stream",
          "name": "stdout",
          "text": [
            "age                 1         2         3         4\n",
            "DEATH_EVENT                                        \n",
            "0            0.240803  0.294314  0.130435  0.013378\n",
            "1            0.070234  0.110368  0.096990  0.043478\n",
            "creatinine_phosphokinase         1         2         3         4\n",
            "DEATH_EVENT                                                     \n",
            "0                         0.642140  0.026756  0.010033  0.000000\n",
            "1                         0.297659  0.010033  0.006689  0.006689\n",
            "ejection_fraction         1         2         3         4\n",
            "DEATH_EVENT                                              \n",
            "0                  0.140468  0.384615  0.150502  0.003344\n",
            "1                  0.170569  0.103679  0.040134  0.006689\n",
            "platelets           1         2         3         4\n",
            "DEATH_EVENT                                        \n",
            "0            0.237458  0.411371  0.023411  0.006689\n",
            "1            0.133779  0.170569  0.016722  0.000000\n",
            "serum_creatinine         1         2         3         4\n",
            "DEATH_EVENT                                             \n",
            "0                 0.658863  0.013378  0.006689  0.000000\n",
            "1                 0.284281  0.023411  0.006689  0.006689\n",
            "serum_sodium         1         2         3         4\n",
            "DEATH_EVENT                                         \n",
            "0             0.003344  0.030100  0.448161  0.197324\n",
            "1             0.006689  0.033445  0.220736  0.060201\n",
            "time                1         2         3         4\n",
            "DEATH_EVENT                                        \n",
            "0            0.056856  0.240803  0.227425  0.153846\n",
            "1            0.210702  0.056856  0.046823  0.006689\n",
            "anaemia             0         1\n",
            "DEATH_EVENT                    \n",
            "0            0.401338  0.277592\n",
            "1            0.167224  0.153846\n",
            "diabetes            0         1\n",
            "DEATH_EVENT                    \n",
            "0            0.394649  0.284281\n",
            "1            0.187291  0.133779\n",
            "high_blood_pressure         0         1\n",
            "DEATH_EVENT                            \n",
            "0                    0.458194  0.220736\n",
            "1                    0.190635  0.130435\n",
            "sex                 0         1\n",
            "DEATH_EVENT                    \n",
            "0            0.237458  0.441472\n",
            "1            0.113712  0.207358\n",
            "smoking             0         1\n",
            "DEATH_EVENT                    \n",
            "0            0.458194  0.220736\n",
            "1            0.220736  0.100334\n"
          ]
        }
      ]
    },
    {
      "cell_type": "markdown",
      "metadata": {
        "id": "F7ENwypMlMLX"
      },
      "source": [
        "Correlation matrix between independent variables. Correlations are small, so they don't effect machine learning model."
      ]
    },
    {
      "cell_type": "code",
      "metadata": {
        "id": "zVMz4Apvhu_I",
        "colab": {
          "base_uri": "https://localhost:8080/",
          "height": 607
        },
        "outputId": "ec781ce6-c38d-4af6-bc49-4b8acb502e12"
      },
      "source": [
        "plt.figure(figsize=(12,8))\n",
        "corr_matrix = dataset.corr()  \n",
        "sns.heatmap(corr_matrix, annot=True, cmap='Greys', square=True)  \n",
        "plt.show()"
      ],
      "execution_count": 34,
      "outputs": [
        {
          "output_type": "display_data",
          "data": {
            "image/png": "[encoded data removed]",
            "text/plain": [
              "<Figure size 864x576 with 2 Axes>"
            ]
          },
          "metadata": {
            "needs_background": "light"
          }
        }
      ]
    },
    {
      "cell_type": "markdown",
      "metadata": {
        "id": "OJcdyOi-3xKz"
      },
      "source": [
        "Splitting data to independent variables X and dependent variable y. Dependent variable is whether person has died during the follow up period or not. Variable 'time' was left out, because if model is applied to new patients data, follow-up period is unknown. That is because if patients dies during the period, period will be shorter. Shorter follow-up period predicts patient dying, so it has large effect on machine learning model. Also other than 'serum_creatinine' and 'ejection_fraction' were left out based on a tip on datasets source website. Those two variables will make more accurate prediction alone than all variables together."
      ]
    },
    {
      "cell_type": "code",
      "metadata": {
        "colab": {
          "base_uri": "https://localhost:8080/"
        },
        "id": "St1UFniSzIzG",
        "outputId": "3ac8a5a8-4679-41a6-a958-460bb65f8570"
      },
      "source": [
        "X = dataset.iloc[:,:-2].values\n",
        "y = dataset.iloc[:, -1].values\n",
        "print(X)\n",
        "print(y)"
      ],
      "execution_count": 35,
      "outputs": [
        {
          "output_type": "stream",
          "name": "stdout",
          "text": [
            "[[7.500e+01 0.000e+00 5.820e+02 ... 1.300e+02 1.000e+00 0.000e+00]\n",
            " [5.500e+01 0.000e+00 7.861e+03 ... 1.360e+02 1.000e+00 0.000e+00]\n",
            " [6.500e+01 0.000e+00 1.460e+02 ... 1.290e+02 1.000e+00 1.000e+00]\n",
            " ...\n",
            " [4.500e+01 0.000e+00 2.060e+03 ... 1.380e+02 0.000e+00 0.000e+00]\n",
            " [4.500e+01 0.000e+00 2.413e+03 ... 1.400e+02 1.000e+00 1.000e+00]\n",
            " [5.000e+01 0.000e+00 1.960e+02 ... 1.360e+02 1.000e+00 1.000e+00]]\n",
            "[1, 1, 1, 1, 1, ..., 0, 0, 0, 0, 0]\n",
            "Length: 299\n",
            "Categories (2, int64): [0, 1]\n"
          ]
        }
      ]
    },
    {
      "cell_type": "markdown",
      "metadata": {
        "id": "I8FNqQEt8szE"
      },
      "source": [
        "Splitting data to training and test set."
      ]
    },
    {
      "cell_type": "code",
      "metadata": {
        "id": "LN5kFgPA8RC0"
      },
      "source": [
        "X_train, X_test, y_train, y_test = train_test_split(X, y, test_size = 0.2, random_state = 1)"
      ],
      "execution_count": 36,
      "outputs": []
    },
    {
      "cell_type": "markdown",
      "metadata": {
        "id": "HAA5pDTL81Z8"
      },
      "source": [
        "There is no need for feature scaling with XGBoost model since it is based on decision trees which don't require feature scaling."
      ]
    },
    {
      "cell_type": "markdown",
      "metadata": {
        "id": "NWSzquPi9rXv"
      },
      "source": [
        "Training XGBoost classifier model on training set. "
      ]
    },
    {
      "cell_type": "code",
      "metadata": {
        "colab": {
          "base_uri": "https://localhost:8080/"
        },
        "id": "XG9tBKExYrKw",
        "outputId": "ff3ad99e-4721-40dd-88f5-6a3206b0507a"
      },
      "source": [
        "classifier = XGBClassifier()\n",
        "classifier.fit(X_train, y_train)"
      ],
      "execution_count": 37,
      "outputs": [
        {
          "output_type": "execute_result",
          "data": {
            "text/plain": [
              "XGBClassifier()"
            ]
          },
          "metadata": {},
          "execution_count": 37
        }
      ]
    },
    {
      "cell_type": "markdown",
      "metadata": {
        "id": "-1kRVAhXqwSg"
      },
      "source": [
        "Visualizing which features have biggest effect on creating the model."
      ]
    },
    {
      "cell_type": "code",
      "metadata": {
        "colab": {
          "base_uri": "https://localhost:8080/",
          "height": 295
        },
        "id": "VujLfzWBsXny",
        "outputId": "174eda5a-64ad-42d8-885b-a114cdf76c2b"
      },
      "source": [
        "plot_importance(classifier)\n",
        "plt.show()"
      ],
      "execution_count": 38,
      "outputs": [
        {
          "output_type": "display_data",
          "data": {
            "image/png": "[encoded data removed]",
            "text/plain": [
              "<Figure size 432x288 with 1 Axes>"
            ]
          },
          "metadata": {
            "needs_background": "light"
          }
        }
      ]
    },
    {
      "cell_type": "markdown",
      "metadata": {
        "id": "PGcSAxqkwDjL"
      },
      "source": [
        "For some reason barplot gives different order (right order) about imortance of features. Most important are indexes 0,4 and 7."
      ]
    },
    {
      "cell_type": "code",
      "metadata": {
        "colab": {
          "base_uri": "https://localhost:8080/",
          "height": 265
        },
        "id": "fFt-zLM2vj48",
        "outputId": "b3958885-ecd8-4083-f6d5-ab87ae197dc2"
      },
      "source": [
        "plt.bar(range(len(classifier.feature_importances_)), classifier.feature_importances_)\n",
        "plt.show()"
      ],
      "execution_count": 39,
      "outputs": [
        {
          "output_type": "display_data",
          "data": {
            "image/png": "[encoded data removed]",
            "text/plain": [
              "<Figure size 432x288 with 1 Axes>"
            ]
          },
          "metadata": {
            "needs_background": "light"
          }
        }
      ]
    },
    {
      "cell_type": "markdown",
      "metadata": {
        "id": "7CUBYXG8rD0d"
      },
      "source": [
        "Evaluating which features to select when creating the model. Using accuracy and F1 score as metrics. F1 score is more imortant since target variable is inbalanced."
      ]
    },
    {
      "cell_type": "code",
      "metadata": {
        "colab": {
          "base_uri": "https://localhost:8080/"
        },
        "id": "GIhsibKpsU4V",
        "outputId": "25334027-27c0-4f43-daa4-1cf309647963"
      },
      "source": [
        "thresholds = sort(classifier.feature_importances_)\n",
        "for thresh in thresholds:\n",
        "  selection = SelectFromModel(classifier, threshold=thresh, prefit=True)\n",
        "  select_X_train = selection.transform(X_train)\n",
        "  selection_model = XGBClassifier()\n",
        "  selection_model.fit(select_X_train, y_train)\n",
        "  select_X_test = selection.transform(X_test)\n",
        "  predictions = selection_model.predict(select_X_test)\n",
        "  accuracy = accuracy_score(y_test, predictions)\n",
        "  f1 = f1_score(y_test, predictions)\n",
        "  print(\"Thresh=%.3f, n=%d, Accuracy: %.2f%%, F1 score: %.2f%%\" % (thresh, select_X_train.shape[1], accuracy*100.0, f1*100))\n",
        "  "
      ],
      "execution_count": 40,
      "outputs": [
        {
          "output_type": "stream",
          "name": "stdout",
          "text": [
            "Thresh=0.020, n=11, Accuracy: 83.33%, F1 score: 61.54%\n",
            "Thresh=0.062, n=10, Accuracy: 83.33%, F1 score: 61.54%\n",
            "Thresh=0.064, n=9, Accuracy: 83.33%, F1 score: 64.29%\n",
            "Thresh=0.066, n=8, Accuracy: 85.00%, F1 score: 64.00%\n",
            "Thresh=0.071, n=7, Accuracy: 83.33%, F1 score: 58.33%\n",
            "Thresh=0.076, n=6, Accuracy: 81.67%, F1 score: 59.26%\n",
            "Thresh=0.095, n=5, Accuracy: 86.67%, F1 score: 69.23%\n",
            "Thresh=0.106, n=4, Accuracy: 80.00%, F1 score: 60.00%\n",
            "Thresh=0.111, n=3, Accuracy: 88.33%, F1 score: 74.07%\n",
            "Thresh=0.152, n=2, Accuracy: 85.00%, F1 score: 66.67%\n",
            "Thresh=0.176, n=1, Accuracy: 73.33%, F1 score: 20.00%\n"
          ]
        }
      ]
    },
    {
      "cell_type": "markdown",
      "metadata": {
        "id": "YGTJDGc-9xL_"
      },
      "source": [
        "Choosing least amount of variables (3) which produce best result (variables are: 'age', 'ejection_fraction' and 'serum_creatinine'.)"
      ]
    },
    {
      "cell_type": "code",
      "metadata": {
        "colab": {
          "base_uri": "https://localhost:8080/"
        },
        "id": "LOKIAZIiexxc",
        "outputId": "d3aeba67-5749-438a-ec55-d8e284c6db12"
      },
      "source": [
        "selection = SelectFromModel(classifier, threshold=thresholds[8], prefit=True)\n",
        "X_train = selection.transform(X_train)\n",
        "classifier = XGBClassifier()\n",
        "classifier.fit(X_train, y_train)"
      ],
      "execution_count": 41,
      "outputs": [
        {
          "output_type": "execute_result",
          "data": {
            "text/plain": [
              "XGBClassifier()"
            ]
          },
          "metadata": {},
          "execution_count": 41
        }
      ]
    },
    {
      "cell_type": "markdown",
      "metadata": {
        "id": "CVddY4NMtlPp"
      },
      "source": [
        "Confusion matrix and accuracy of the model."
      ]
    },
    {
      "cell_type": "code",
      "metadata": {
        "id": "6ivjy39j9SCZ",
        "colab": {
          "base_uri": "https://localhost:8080/"
        },
        "outputId": "aad59b71-79a9-4f96-e8c1-ac5d8a2179b8"
      },
      "source": [
        "X_test = selection.transform(X_test)\n",
        "y_pred = classifier.predict(X_test)\n",
        "cm = confusion_matrix(y_test, y_pred)\n",
        "print(cm)\n",
        "accuracy_score(y_test, y_pred)"
      ],
      "execution_count": 42,
      "outputs": [
        {
          "output_type": "stream",
          "name": "stdout",
          "text": [
            "[[43  3]\n",
            " [ 4 10]]\n"
          ]
        },
        {
          "output_type": "execute_result",
          "data": {
            "text/plain": [
              "0.8833333333333333"
            ]
          },
          "metadata": {},
          "execution_count": 42
        }
      ]
    },
    {
      "cell_type": "markdown",
      "metadata": {
        "id": "0S2Wc908SXZW"
      },
      "source": [
        "Measuring performance of model with k-Fold Cross Validation and F1 - score. Number of different test and training set splits is 10. Standard deviation is difference in results between different splits."
      ]
    },
    {
      "cell_type": "code",
      "metadata": {
        "id": "BpFVmh0h9loq",
        "colab": {
          "base_uri": "https://localhost:8080/"
        },
        "outputId": "6507ac06-2120-4a6d-b811-96f5b339b230"
      },
      "source": [
        "accuracies = cross_val_score(estimator = classifier, X = X_train, y = y_train, cv = 10)\n",
        "print(\"Accuracy: {:.2f} %\".format(accuracies.mean()*100))\n",
        "print(\"Standard Deviation: {:.2f} %\".format(accuracies.std()*100))\n",
        "print('F1 - score: {:.2f} %'.format(f1_score(y_test, y_pred)*100))"
      ],
      "execution_count": 43,
      "outputs": [
        {
          "output_type": "stream",
          "name": "stdout",
          "text": [
            "Accuracy: 70.27 %\n",
            "Standard Deviation: 6.41 %\n",
            "F1 - score: 74.07 %\n"
          ]
        }
      ]
    },
    {
      "cell_type": "markdown",
      "metadata": {
        "id": "cTGQdxu2xpQt"
      },
      "source": [
        "Result is fairly good. In health care one would hope for better accuracy especially in case of mortality risk."
      ]
    },
    {
      "cell_type": "markdown",
      "metadata": {
        "id": "x99tSPBhTKic"
      },
      "source": [
        "Training ANN model with same variables as XGBoost."
      ]
    },
    {
      "cell_type": "code",
      "metadata": {
        "id": "N5E1fR00IgLB"
      },
      "source": [
        "dataset = pd.read_csv('heart_failure.csv')\n",
        "X = dataset.iloc[:, [0,4,7]].values\n",
        "y = dataset.iloc[:, -1].values\n",
        "X_train, X_test, y_train, y_test = train_test_split(X, y, test_size = 0.2, random_state = 0)\n",
        "sc = StandardScaler()\n",
        "X_train = sc.fit_transform(X_train)\n",
        "X_test = sc.transform(X_test)"
      ],
      "execution_count": 62,
      "outputs": []
    },
    {
      "cell_type": "code",
      "metadata": {
        "id": "5YDKb6uXIrMB"
      },
      "source": [
        "ann = tf.keras.models.Sequential()\n",
        "ann.add(tf.keras.layers.Dense(units=6, activation='relu'))\n",
        "ann.add(tf.keras.layers.Dense(units=6, activation='relu'))\n",
        "ann.add(tf.keras.layers.Dense(units=1, activation='sigmoid'))"
      ],
      "execution_count": 63,
      "outputs": []
    },
    {
      "cell_type": "code",
      "metadata": {
        "id": "qQjzfYfoIueM",
        "outputId": "f7bcf1ff-f5aa-47ec-df64-798bd0fcedff",
        "colab": {
          "base_uri": "https://localhost:8080/"
        }
      },
      "source": [
        "ann.compile(optimizer = 'adam', loss = 'binary_crossentropy', metrics = ['accuracy'])\n",
        "ann.fit(X_train, y_train, batch_size = 32, epochs = 100)"
      ],
      "execution_count": 64,
      "outputs": [
        {
          "output_type": "stream",
          "name": "stdout",
          "text": [
            "Epoch 1/100\n",
            "8/8 [==============================] - 1s 3ms/step - loss: 0.6748 - accuracy: 0.6946\n",
            "Epoch 2/100\n",
            "8/8 [==============================] - 0s 2ms/step - loss: 0.6655 - accuracy: 0.6946\n",
            "Epoch 3/100\n",
            "8/8 [==============================] - 0s 2ms/step - loss: 0.6570 - accuracy: 0.6946\n",
            "Epoch 4/100\n",
            "8/8 [==============================] - 0s 3ms/step - loss: 0.6486 - accuracy: 0.6946\n",
            "Epoch 5/100\n",
            "8/8 [==============================] - 0s 2ms/step - loss: 0.6405 - accuracy: 0.6946\n",
            "Epoch 6/100\n",
            "8/8 [==============================] - 0s 2ms/step - loss: 0.6329 - accuracy: 0.6946\n",
            "Epoch 7/100\n",
            "8/8 [==============================] - 0s 2ms/step - loss: 0.6255 - accuracy: 0.6946\n",
            "Epoch 8/100\n",
            "8/8 [==============================] - 0s 2ms/step - loss: 0.6189 - accuracy: 0.6946\n",
            "Epoch 9/100\n",
            "8/8 [==============================] - 0s 2ms/step - loss: 0.6123 - accuracy: 0.6946\n",
            "Epoch 10/100\n",
            "8/8 [==============================] - 0s 2ms/step - loss: 0.6058 - accuracy: 0.6946\n",
            "Epoch 11/100\n",
            "8/8 [==============================] - 0s 4ms/step - loss: 0.6002 - accuracy: 0.6946\n",
            "Epoch 12/100\n",
            "8/8 [==============================] - 0s 3ms/step - loss: 0.5944 - accuracy: 0.6946\n",
            "Epoch 13/100\n",
            "8/8 [==============================] - 0s 3ms/step - loss: 0.5896 - accuracy: 0.6946\n",
            "Epoch 14/100\n",
            "8/8 [==============================] - 0s 2ms/step - loss: 0.5840 - accuracy: 0.6946\n",
            "Epoch 15/100\n",
            "8/8 [==============================] - 0s 2ms/step - loss: 0.5792 - accuracy: 0.6946\n",
            "Epoch 16/100\n",
            "8/8 [==============================] - 0s 3ms/step - loss: 0.5749 - accuracy: 0.6946\n",
            "Epoch 17/100\n",
            "8/8 [==============================] - 0s 3ms/step - loss: 0.5704 - accuracy: 0.6987\n",
            "Epoch 18/100\n",
            "8/8 [==============================] - 0s 3ms/step - loss: 0.5662 - accuracy: 0.6987\n",
            "Epoch 19/100\n",
            "8/8 [==============================] - 0s 3ms/step - loss: 0.5625 - accuracy: 0.7071\n",
            "Epoch 20/100\n",
            "8/8 [==============================] - 0s 3ms/step - loss: 0.5587 - accuracy: 0.7197\n",
            "Epoch 21/100\n",
            "8/8 [==============================] - 0s 3ms/step - loss: 0.5552 - accuracy: 0.7113\n",
            "Epoch 22/100\n",
            "8/8 [==============================] - 0s 3ms/step - loss: 0.5515 - accuracy: 0.7155\n",
            "Epoch 23/100\n",
            "8/8 [==============================] - 0s 3ms/step - loss: 0.5486 - accuracy: 0.7155\n",
            "Epoch 24/100\n",
            "8/8 [==============================] - 0s 5ms/step - loss: 0.5453 - accuracy: 0.7238\n",
            "Epoch 25/100\n",
            "8/8 [==============================] - 0s 2ms/step - loss: 0.5423 - accuracy: 0.7280\n",
            "Epoch 26/100\n",
            "8/8 [==============================] - 0s 2ms/step - loss: 0.5398 - accuracy: 0.7322\n",
            "Epoch 27/100\n",
            "8/8 [==============================] - 0s 3ms/step - loss: 0.5370 - accuracy: 0.7406\n",
            "Epoch 28/100\n",
            "8/8 [==============================] - 0s 2ms/step - loss: 0.5346 - accuracy: 0.7490\n",
            "Epoch 29/100\n",
            "8/8 [==============================] - 0s 3ms/step - loss: 0.5323 - accuracy: 0.7490\n",
            "Epoch 30/100\n",
            "8/8 [==============================] - 0s 2ms/step - loss: 0.5299 - accuracy: 0.7490\n",
            "Epoch 31/100\n",
            "8/8 [==============================] - 0s 2ms/step - loss: 0.5282 - accuracy: 0.7657\n",
            "Epoch 32/100\n",
            "8/8 [==============================] - 0s 2ms/step - loss: 0.5259 - accuracy: 0.7699\n",
            "Epoch 33/100\n",
            "8/8 [==============================] - 0s 2ms/step - loss: 0.5239 - accuracy: 0.7741\n",
            "Epoch 34/100\n",
            "8/8 [==============================] - 0s 3ms/step - loss: 0.5223 - accuracy: 0.7782\n",
            "Epoch 35/100\n",
            "8/8 [==============================] - 0s 3ms/step - loss: 0.5207 - accuracy: 0.7824\n",
            "Epoch 36/100\n",
            "8/8 [==============================] - 0s 2ms/step - loss: 0.5189 - accuracy: 0.7782\n",
            "Epoch 37/100\n",
            "8/8 [==============================] - 0s 3ms/step - loss: 0.5171 - accuracy: 0.7699\n",
            "Epoch 38/100\n",
            "8/8 [==============================] - 0s 3ms/step - loss: 0.5156 - accuracy: 0.7699\n",
            "Epoch 39/100\n",
            "8/8 [==============================] - 0s 3ms/step - loss: 0.5143 - accuracy: 0.7699\n",
            "Epoch 40/100\n",
            "8/8 [==============================] - 0s 3ms/step - loss: 0.5130 - accuracy: 0.7741\n",
            "Epoch 41/100\n",
            "8/8 [==============================] - 0s 3ms/step - loss: 0.5118 - accuracy: 0.7741\n",
            "Epoch 42/100\n",
            "8/8 [==============================] - 0s 3ms/step - loss: 0.5104 - accuracy: 0.7782\n",
            "Epoch 43/100\n",
            "8/8 [==============================] - 0s 2ms/step - loss: 0.5094 - accuracy: 0.7824\n",
            "Epoch 44/100\n",
            "8/8 [==============================] - 0s 2ms/step - loss: 0.5080 - accuracy: 0.7866\n",
            "Epoch 45/100\n",
            "8/8 [==============================] - 0s 2ms/step - loss: 0.5072 - accuracy: 0.7824\n",
            "Epoch 46/100\n",
            "8/8 [==============================] - 0s 3ms/step - loss: 0.5060 - accuracy: 0.7824\n",
            "Epoch 47/100\n",
            "8/8 [==============================] - 0s 2ms/step - loss: 0.5051 - accuracy: 0.7824\n",
            "Epoch 48/100\n",
            "8/8 [==============================] - 0s 4ms/step - loss: 0.5042 - accuracy: 0.7699\n",
            "Epoch 49/100\n",
            "8/8 [==============================] - 0s 2ms/step - loss: 0.5033 - accuracy: 0.7741\n",
            "Epoch 50/100\n",
            "8/8 [==============================] - 0s 2ms/step - loss: 0.5023 - accuracy: 0.7741\n",
            "Epoch 51/100\n",
            "8/8 [==============================] - 0s 3ms/step - loss: 0.5015 - accuracy: 0.7741\n",
            "Epoch 52/100\n",
            "8/8 [==============================] - 0s 4ms/step - loss: 0.5006 - accuracy: 0.7741\n",
            "Epoch 53/100\n",
            "8/8 [==============================] - 0s 3ms/step - loss: 0.4997 - accuracy: 0.7741\n",
            "Epoch 54/100\n",
            "8/8 [==============================] - 0s 2ms/step - loss: 0.4988 - accuracy: 0.7741\n",
            "Epoch 55/100\n",
            "8/8 [==============================] - 0s 3ms/step - loss: 0.4978 - accuracy: 0.7782\n",
            "Epoch 56/100\n",
            "8/8 [==============================] - 0s 3ms/step - loss: 0.4970 - accuracy: 0.7782\n",
            "Epoch 57/100\n",
            "8/8 [==============================] - 0s 2ms/step - loss: 0.4960 - accuracy: 0.7741\n",
            "Epoch 58/100\n",
            "8/8 [==============================] - 0s 3ms/step - loss: 0.4954 - accuracy: 0.7741\n",
            "Epoch 59/100\n",
            "8/8 [==============================] - 0s 4ms/step - loss: 0.4945 - accuracy: 0.7741\n",
            "Epoch 60/100\n",
            "8/8 [==============================] - 0s 2ms/step - loss: 0.4938 - accuracy: 0.7699\n",
            "Epoch 61/100\n",
            "8/8 [==============================] - 0s 3ms/step - loss: 0.4929 - accuracy: 0.7741\n",
            "Epoch 62/100\n",
            "8/8 [==============================] - 0s 3ms/step - loss: 0.4921 - accuracy: 0.7741\n",
            "Epoch 63/100\n",
            "8/8 [==============================] - 0s 2ms/step - loss: 0.4914 - accuracy: 0.7699\n",
            "Epoch 64/100\n",
            "8/8 [==============================] - 0s 2ms/step - loss: 0.4909 - accuracy: 0.7657\n",
            "Epoch 65/100\n",
            "8/8 [==============================] - 0s 3ms/step - loss: 0.4900 - accuracy: 0.7699\n",
            "Epoch 66/100\n",
            "8/8 [==============================] - 0s 3ms/step - loss: 0.4894 - accuracy: 0.7657\n",
            "Epoch 67/100\n",
            "8/8 [==============================] - 0s 3ms/step - loss: 0.4885 - accuracy: 0.7699\n",
            "Epoch 68/100\n",
            "8/8 [==============================] - 0s 3ms/step - loss: 0.4881 - accuracy: 0.7699\n",
            "Epoch 69/100\n",
            "8/8 [==============================] - 0s 2ms/step - loss: 0.4873 - accuracy: 0.7699\n",
            "Epoch 70/100\n",
            "8/8 [==============================] - 0s 4ms/step - loss: 0.4867 - accuracy: 0.7699\n",
            "Epoch 71/100\n",
            "8/8 [==============================] - 0s 2ms/step - loss: 0.4864 - accuracy: 0.7782\n",
            "Epoch 72/100\n",
            "8/8 [==============================] - 0s 3ms/step - loss: 0.4854 - accuracy: 0.7741\n",
            "Epoch 73/100\n",
            "8/8 [==============================] - 0s 4ms/step - loss: 0.4849 - accuracy: 0.7699\n",
            "Epoch 74/100\n",
            "8/8 [==============================] - 0s 3ms/step - loss: 0.4842 - accuracy: 0.7699\n",
            "Epoch 75/100\n",
            "8/8 [==============================] - 0s 3ms/step - loss: 0.4837 - accuracy: 0.7699\n",
            "Epoch 76/100\n",
            "8/8 [==============================] - 0s 3ms/step - loss: 0.4831 - accuracy: 0.7741\n",
            "Epoch 77/100\n",
            "8/8 [==============================] - 0s 3ms/step - loss: 0.4825 - accuracy: 0.7782\n",
            "Epoch 78/100\n",
            "8/8 [==============================] - 0s 3ms/step - loss: 0.4822 - accuracy: 0.7824\n",
            "Epoch 79/100\n",
            "8/8 [==============================] - 0s 3ms/step - loss: 0.4815 - accuracy: 0.7824\n",
            "Epoch 80/100\n",
            "8/8 [==============================] - 0s 2ms/step - loss: 0.4811 - accuracy: 0.7824\n",
            "Epoch 81/100\n",
            "8/8 [==============================] - 0s 3ms/step - loss: 0.4807 - accuracy: 0.7824\n",
            "Epoch 82/100\n",
            "8/8 [==============================] - 0s 3ms/step - loss: 0.4803 - accuracy: 0.7824\n",
            "Epoch 83/100\n",
            "8/8 [==============================] - 0s 3ms/step - loss: 0.4797 - accuracy: 0.7824\n",
            "Epoch 84/100\n",
            "8/8 [==============================] - 0s 2ms/step - loss: 0.4792 - accuracy: 0.7824\n",
            "Epoch 85/100\n",
            "8/8 [==============================] - 0s 3ms/step - loss: 0.4787 - accuracy: 0.7824\n",
            "Epoch 86/100\n",
            "8/8 [==============================] - 0s 3ms/step - loss: 0.4782 - accuracy: 0.7824\n",
            "Epoch 87/100\n",
            "8/8 [==============================] - 0s 3ms/step - loss: 0.4780 - accuracy: 0.7824\n",
            "Epoch 88/100\n",
            "8/8 [==============================] - 0s 4ms/step - loss: 0.4774 - accuracy: 0.7824\n",
            "Epoch 89/100\n",
            "8/8 [==============================] - 0s 3ms/step - loss: 0.4769 - accuracy: 0.7824\n",
            "Epoch 90/100\n",
            "8/8 [==============================] - 0s 2ms/step - loss: 0.4765 - accuracy: 0.7824\n",
            "Epoch 91/100\n",
            "8/8 [==============================] - 0s 3ms/step - loss: 0.4761 - accuracy: 0.7824\n",
            "Epoch 92/100\n",
            "8/8 [==============================] - 0s 3ms/step - loss: 0.4756 - accuracy: 0.7824\n",
            "Epoch 93/100\n",
            "8/8 [==============================] - 0s 2ms/step - loss: 0.4753 - accuracy: 0.7824\n",
            "Epoch 94/100\n",
            "8/8 [==============================] - 0s 3ms/step - loss: 0.4751 - accuracy: 0.7824\n",
            "Epoch 95/100\n",
            "8/8 [==============================] - 0s 3ms/step - loss: 0.4746 - accuracy: 0.7824\n",
            "Epoch 96/100\n",
            "8/8 [==============================] - 0s 2ms/step - loss: 0.4744 - accuracy: 0.7824\n",
            "Epoch 97/100\n",
            "8/8 [==============================] - 0s 3ms/step - loss: 0.4741 - accuracy: 0.7824\n",
            "Epoch 98/100\n",
            "8/8 [==============================] - 0s 2ms/step - loss: 0.4735 - accuracy: 0.7824\n",
            "Epoch 99/100\n",
            "8/8 [==============================] - 0s 2ms/step - loss: 0.4732 - accuracy: 0.7824\n",
            "Epoch 100/100\n",
            "8/8 [==============================] - 0s 2ms/step - loss: 0.4727 - accuracy: 0.7824\n"
          ]
        },
        {
          "output_type": "execute_result",
          "data": {
            "text/plain": [
              "<keras.callbacks.History at 0x7f2612436790>"
            ]
          },
          "metadata": {},
          "execution_count": 64
        }
      ]
    },
    {
      "cell_type": "code",
      "metadata": {
        "id": "jLKSJf3KScY0",
        "outputId": "5dd4a0b5-ddb5-47a9-d1df-a5105718ef75",
        "colab": {
          "base_uri": "https://localhost:8080/"
        }
      },
      "source": [
        "y_pred = ann.predict(X_test)\n",
        "y_pred = (y_pred > 0.5)\n",
        "print(np.concatenate((y_pred.reshape(len(y_pred),1), y_test.reshape(len(y_test),1)),1))"
      ],
      "execution_count": 65,
      "outputs": [
        {
          "output_type": "stream",
          "name": "stdout",
          "text": [
            "[[0 0]\n",
            " [0 0]\n",
            " [0 1]\n",
            " [0 0]\n",
            " [0 0]\n",
            " [0 0]\n",
            " [1 0]\n",
            " [0 0]\n",
            " [1 1]\n",
            " [0 0]\n",
            " [0 0]\n",
            " [0 1]\n",
            " [1 1]\n",
            " [0 1]\n",
            " [0 1]\n",
            " [1 1]\n",
            " [0 0]\n",
            " [0 0]\n",
            " [0 0]\n",
            " [0 0]\n",
            " [1 0]\n",
            " [0 0]\n",
            " [1 1]\n",
            " [1 0]\n",
            " [1 1]\n",
            " [0 0]\n",
            " [1 1]\n",
            " [0 0]\n",
            " [0 0]\n",
            " [0 0]\n",
            " [0 0]\n",
            " [1 1]\n",
            " [0 1]\n",
            " [0 0]\n",
            " [1 1]\n",
            " [1 1]\n",
            " [0 0]\n",
            " [1 1]\n",
            " [0 0]\n",
            " [1 1]\n",
            " [0 0]\n",
            " [0 0]\n",
            " [0 0]\n",
            " [0 1]\n",
            " [1 1]\n",
            " [0 0]\n",
            " [0 0]\n",
            " [0 0]\n",
            " [0 1]\n",
            " [0 1]\n",
            " [0 0]\n",
            " [0 0]\n",
            " [0 0]\n",
            " [0 0]\n",
            " [1 1]\n",
            " [1 1]\n",
            " [0 0]\n",
            " [1 1]\n",
            " [0 0]\n",
            " [0 0]]\n"
          ]
        }
      ]
    },
    {
      "cell_type": "code",
      "metadata": {
        "id": "nhptxLbySgM6",
        "outputId": "acacdaf2-39fd-4c18-8f7f-e6ff063ec5c4",
        "colab": {
          "base_uri": "https://localhost:8080/"
        }
      },
      "source": [
        "cm = confusion_matrix(y_test, y_pred)\n",
        "print(cm)\n",
        "accuracy_score(y_test, y_pred)"
      ],
      "execution_count": 66,
      "outputs": [
        {
          "output_type": "stream",
          "name": "stdout",
          "text": [
            "[[34  3]\n",
            " [ 8 15]]\n"
          ]
        },
        {
          "output_type": "execute_result",
          "data": {
            "text/plain": [
              "0.8166666666666667"
            ]
          },
          "metadata": {},
          "execution_count": 66
        }
      ]
    },
    {
      "cell_type": "code",
      "metadata": {
        "id": "dElx1TNESjgr",
        "outputId": "323eb50a-1197-4fb8-c114-dab62919ae2b",
        "colab": {
          "base_uri": "https://localhost:8080/"
        }
      },
      "source": [
        "print('F1 - score: {:.2f} %'.format(f1_score(y_test, y_pred)*100))"
      ],
      "execution_count": 67,
      "outputs": [
        {
          "output_type": "stream",
          "name": "stdout",
          "text": [
            "F1 - score: 73.17 %\n"
          ]
        }
      ]
    },
    {
      "cell_type": "markdown",
      "metadata": {
        "id": "9CM2fdF_TTib"
      },
      "source": [
        "Result of ANN model is close to, but not quite as good as XGBoost models."
      ]
    }
  ]
}