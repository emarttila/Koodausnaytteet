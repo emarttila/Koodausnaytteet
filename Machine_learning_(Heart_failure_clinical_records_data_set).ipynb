{
  "nbformat": 4,
  "nbformat_minor": 0,
  "metadata": {
    "colab": {
      "name": "Machine learning (Heart failure clinical records data set).ipynb",
      "provenance": [],
      "collapsed_sections": [],
      "authorship_tag": "ABX9TyOrZGa880afpaZ0Xg61pyPu",
      "include_colab_link": true
    },
    "kernelspec": {
      "name": "python3",
      "display_name": "Python 3"
    },
    "language_info": {
      "name": "python"
    }
  },
  "cells": [
    {
      "cell_type": "markdown",
      "metadata": {
        "id": "view-in-github",
        "colab_type": "text"
      },
      "source": [
        "<a href=\"https://colab.research.google.com/github/emarttila/Koodausnaytteet/blob/main/Machine_learning_(Heart_failure_clinical_records_data_set).ipynb\" target=\"_parent\"><img src=\"https://colab.research.google.com/assets/colab-badge.svg\" alt=\"Open In Colab\"/></a>"
      ]
    },
    {
      "cell_type": "markdown",
      "metadata": {
        "id": "IBM5cDtUlG8f"
      },
      "source": [
        "#Purpose of this classification machine learning model (XGBoost) is to predict whether person is in risk to die due heart failure or not in 285 days."
      ]
    },
    {
      "cell_type": "markdown",
      "metadata": {
        "id": "cpgznWZl9Me0"
      },
      "source": [
        "Provide the names, email addresses, institutions, and other contact information of the donors and creators of the data set.The original dataset version was collected by Tanvir Ahmad, Assia Munir, Sajjad Haider Bhatti, Muhammad Aftab, and Muhammad Ali Raza (Government College University, Faisalabad, Pakistan) and made available by them on FigShare under the Attribution 4.0 International (CC BY 4.0: freedom to share and adapt the material) copyright in July 2017.\n",
        "\n",
        "The current version of the dataset was elaborated by Davide Chicco (Krembil Research Institute, Toronto, Canada) and donated to the University of California Irvine Machine Learning Repository under the same Attribution 4.0 International (CC BY 4.0) copyright in January 2020. Davide Chicco can be reached at <davidechicco '@' davidechicco.it>"
      ]
    },
    {
      "cell_type": "markdown",
      "metadata": {
        "id": "eVjzJqLS4PF1"
      },
      "source": [
        "This dataset contains the medical records of 299 patients who had heart failure, collected during their follow-up period, where each patient profile has 13 clinical features.\n",
        "\t\n",
        "Attribute information.\n",
        "\n",
        "- age: age of the patient (years)\n",
        "- anaemia: decrease of red blood cells or hemoglobin (boolean)\n",
        "- high blood pressure: if the patient has hypertension (boolean)\n",
        "- creatinine phosphokinase (CPK): level of the CPK enzyme in the blood (mcg/L)\n",
        "- diabetes: if the patient has diabetes (boolean)\n",
        "- ejection fraction: percentage of blood leaving the heart at each contraction (percentage)\n",
        "- platelets: platelets in the blood (kiloplatelets/mL)\n",
        "- sex: woman or man (binary)\n",
        "- serum creatinine: level of serum creatinine in the blood (mg/dL)\n",
        "- serum sodium: level of serum sodium in the blood (mEq/L)\n",
        "- smoking: if the patient smokes or not (boolean)\n",
        "- time: follow-up period (days)\n",
        "- [target] death event: if the patient deceased during the follow-up period (boolean) "
      ]
    },
    {
      "cell_type": "markdown",
      "metadata": {
        "id": "Z4Pz9JtP18I7"
      },
      "source": [
        "Importing libraries."
      ]
    },
    {
      "cell_type": "code",
      "metadata": {
        "id": "Qv6tBHJPzFgD"
      },
      "source": [
        "import numpy as np\n",
        "import matplotlib.pyplot as plt\n",
        "import pandas as pd\n",
        "from sklearn.model_selection import train_test_split\n",
        "from xgboost import XGBClassifier\n",
        "from sklearn.metrics import confusion_matrix, accuracy_score\n",
        "from sklearn.model_selection import cross_val_score\n",
        "from sklearn.metrics import f1_score\n",
        "import seaborn as sns\n",
        "from matplotlib.colors import ListedColormap"
      ],
      "execution_count": 57,
      "outputs": []
    },
    {
      "cell_type": "markdown",
      "metadata": {
        "id": "uZLWps7I2APJ"
      },
      "source": [
        "Loading and describing dataset."
      ]
    },
    {
      "cell_type": "code",
      "metadata": {
        "id": "pdRgHuDDzGqZ",
        "colab": {
          "base_uri": "https://localhost:8080/",
          "height": 226
        },
        "outputId": "ca838276-8c8e-4b08-d355-3c8032b53b4c"
      },
      "source": [
        "dataset = pd.read_csv('heart_failure.csv')\n",
        "dataset.head()"
      ],
      "execution_count": 37,
      "outputs": [
        {
          "output_type": "execute_result",
          "data": {
            "text/html": [
              "<div>\n",
              "<style scoped>\n",
              "    .dataframe tbody tr th:only-of-type {\n",
              "        vertical-align: middle;\n",
              "    }\n",
              "\n",
              "    .dataframe tbody tr th {\n",
              "        vertical-align: top;\n",
              "    }\n",
              "\n",
              "    .dataframe thead th {\n",
              "        text-align: right;\n",
              "    }\n",
              "</style>\n",
              "<table border=\"1\" class=\"dataframe\">\n",
              "  <thead>\n",
              "    <tr style=\"text-align: right;\">\n",
              "      <th></th>\n",
              "      <th>age</th>\n",
              "      <th>anaemia</th>\n",
              "      <th>creatinine_phosphokinase</th>\n",
              "      <th>diabetes</th>\n",
              "      <th>ejection_fraction</th>\n",
              "      <th>high_blood_pressure</th>\n",
              "      <th>platelets</th>\n",
              "      <th>serum_creatinine</th>\n",
              "      <th>serum_sodium</th>\n",
              "      <th>sex</th>\n",
              "      <th>smoking</th>\n",
              "      <th>time</th>\n",
              "      <th>DEATH_EVENT</th>\n",
              "    </tr>\n",
              "  </thead>\n",
              "  <tbody>\n",
              "    <tr>\n",
              "      <th>0</th>\n",
              "      <td>75.0</td>\n",
              "      <td>0</td>\n",
              "      <td>582</td>\n",
              "      <td>0</td>\n",
              "      <td>20</td>\n",
              "      <td>1</td>\n",
              "      <td>265000.00</td>\n",
              "      <td>1.9</td>\n",
              "      <td>130</td>\n",
              "      <td>1</td>\n",
              "      <td>0</td>\n",
              "      <td>4</td>\n",
              "      <td>1</td>\n",
              "    </tr>\n",
              "    <tr>\n",
              "      <th>1</th>\n",
              "      <td>55.0</td>\n",
              "      <td>0</td>\n",
              "      <td>7861</td>\n",
              "      <td>0</td>\n",
              "      <td>38</td>\n",
              "      <td>0</td>\n",
              "      <td>263358.03</td>\n",
              "      <td>1.1</td>\n",
              "      <td>136</td>\n",
              "      <td>1</td>\n",
              "      <td>0</td>\n",
              "      <td>6</td>\n",
              "      <td>1</td>\n",
              "    </tr>\n",
              "    <tr>\n",
              "      <th>2</th>\n",
              "      <td>65.0</td>\n",
              "      <td>0</td>\n",
              "      <td>146</td>\n",
              "      <td>0</td>\n",
              "      <td>20</td>\n",
              "      <td>0</td>\n",
              "      <td>162000.00</td>\n",
              "      <td>1.3</td>\n",
              "      <td>129</td>\n",
              "      <td>1</td>\n",
              "      <td>1</td>\n",
              "      <td>7</td>\n",
              "      <td>1</td>\n",
              "    </tr>\n",
              "    <tr>\n",
              "      <th>3</th>\n",
              "      <td>50.0</td>\n",
              "      <td>1</td>\n",
              "      <td>111</td>\n",
              "      <td>0</td>\n",
              "      <td>20</td>\n",
              "      <td>0</td>\n",
              "      <td>210000.00</td>\n",
              "      <td>1.9</td>\n",
              "      <td>137</td>\n",
              "      <td>1</td>\n",
              "      <td>0</td>\n",
              "      <td>7</td>\n",
              "      <td>1</td>\n",
              "    </tr>\n",
              "    <tr>\n",
              "      <th>4</th>\n",
              "      <td>65.0</td>\n",
              "      <td>1</td>\n",
              "      <td>160</td>\n",
              "      <td>1</td>\n",
              "      <td>20</td>\n",
              "      <td>0</td>\n",
              "      <td>327000.00</td>\n",
              "      <td>2.7</td>\n",
              "      <td>116</td>\n",
              "      <td>0</td>\n",
              "      <td>0</td>\n",
              "      <td>8</td>\n",
              "      <td>1</td>\n",
              "    </tr>\n",
              "  </tbody>\n",
              "</table>\n",
              "</div>"
            ],
            "text/plain": [
              "    age  anaemia  creatinine_phosphokinase  ...  smoking  time  DEATH_EVENT\n",
              "0  75.0        0                       582  ...        0     4            1\n",
              "1  55.0        0                      7861  ...        0     6            1\n",
              "2  65.0        0                       146  ...        1     7            1\n",
              "3  50.0        1                       111  ...        0     7            1\n",
              "4  65.0        1                       160  ...        0     8            1\n",
              "\n",
              "[5 rows x 13 columns]"
            ]
          },
          "metadata": {},
          "execution_count": 37
        }
      ]
    },
    {
      "cell_type": "code",
      "metadata": {
        "colab": {
          "base_uri": "https://localhost:8080/",
          "height": 320
        },
        "id": "d4XcVuMbl5jG",
        "outputId": "41b32401-6c38-4769-a456-fcb6d22edd7f"
      },
      "source": [
        "dataset.describe()"
      ],
      "execution_count": 38,
      "outputs": [
        {
          "output_type": "execute_result",
          "data": {
            "text/html": [
              "<div>\n",
              "<style scoped>\n",
              "    .dataframe tbody tr th:only-of-type {\n",
              "        vertical-align: middle;\n",
              "    }\n",
              "\n",
              "    .dataframe tbody tr th {\n",
              "        vertical-align: top;\n",
              "    }\n",
              "\n",
              "    .dataframe thead th {\n",
              "        text-align: right;\n",
              "    }\n",
              "</style>\n",
              "<table border=\"1\" class=\"dataframe\">\n",
              "  <thead>\n",
              "    <tr style=\"text-align: right;\">\n",
              "      <th></th>\n",
              "      <th>age</th>\n",
              "      <th>anaemia</th>\n",
              "      <th>creatinine_phosphokinase</th>\n",
              "      <th>diabetes</th>\n",
              "      <th>ejection_fraction</th>\n",
              "      <th>high_blood_pressure</th>\n",
              "      <th>platelets</th>\n",
              "      <th>serum_creatinine</th>\n",
              "      <th>serum_sodium</th>\n",
              "      <th>sex</th>\n",
              "      <th>smoking</th>\n",
              "      <th>time</th>\n",
              "      <th>DEATH_EVENT</th>\n",
              "    </tr>\n",
              "  </thead>\n",
              "  <tbody>\n",
              "    <tr>\n",
              "      <th>count</th>\n",
              "      <td>299.000000</td>\n",
              "      <td>299.000000</td>\n",
              "      <td>299.000000</td>\n",
              "      <td>299.000000</td>\n",
              "      <td>299.000000</td>\n",
              "      <td>299.000000</td>\n",
              "      <td>299.000000</td>\n",
              "      <td>299.00000</td>\n",
              "      <td>299.000000</td>\n",
              "      <td>299.000000</td>\n",
              "      <td>299.00000</td>\n",
              "      <td>299.000000</td>\n",
              "      <td>299.00000</td>\n",
              "    </tr>\n",
              "    <tr>\n",
              "      <th>mean</th>\n",
              "      <td>60.833893</td>\n",
              "      <td>0.431438</td>\n",
              "      <td>581.839465</td>\n",
              "      <td>0.418060</td>\n",
              "      <td>38.083612</td>\n",
              "      <td>0.351171</td>\n",
              "      <td>263358.029264</td>\n",
              "      <td>1.39388</td>\n",
              "      <td>136.625418</td>\n",
              "      <td>0.648829</td>\n",
              "      <td>0.32107</td>\n",
              "      <td>130.260870</td>\n",
              "      <td>0.32107</td>\n",
              "    </tr>\n",
              "    <tr>\n",
              "      <th>std</th>\n",
              "      <td>11.894809</td>\n",
              "      <td>0.496107</td>\n",
              "      <td>970.287881</td>\n",
              "      <td>0.494067</td>\n",
              "      <td>11.834841</td>\n",
              "      <td>0.478136</td>\n",
              "      <td>97804.236869</td>\n",
              "      <td>1.03451</td>\n",
              "      <td>4.412477</td>\n",
              "      <td>0.478136</td>\n",
              "      <td>0.46767</td>\n",
              "      <td>77.614208</td>\n",
              "      <td>0.46767</td>\n",
              "    </tr>\n",
              "    <tr>\n",
              "      <th>min</th>\n",
              "      <td>40.000000</td>\n",
              "      <td>0.000000</td>\n",
              "      <td>23.000000</td>\n",
              "      <td>0.000000</td>\n",
              "      <td>14.000000</td>\n",
              "      <td>0.000000</td>\n",
              "      <td>25100.000000</td>\n",
              "      <td>0.50000</td>\n",
              "      <td>113.000000</td>\n",
              "      <td>0.000000</td>\n",
              "      <td>0.00000</td>\n",
              "      <td>4.000000</td>\n",
              "      <td>0.00000</td>\n",
              "    </tr>\n",
              "    <tr>\n",
              "      <th>25%</th>\n",
              "      <td>51.000000</td>\n",
              "      <td>0.000000</td>\n",
              "      <td>116.500000</td>\n",
              "      <td>0.000000</td>\n",
              "      <td>30.000000</td>\n",
              "      <td>0.000000</td>\n",
              "      <td>212500.000000</td>\n",
              "      <td>0.90000</td>\n",
              "      <td>134.000000</td>\n",
              "      <td>0.000000</td>\n",
              "      <td>0.00000</td>\n",
              "      <td>73.000000</td>\n",
              "      <td>0.00000</td>\n",
              "    </tr>\n",
              "    <tr>\n",
              "      <th>50%</th>\n",
              "      <td>60.000000</td>\n",
              "      <td>0.000000</td>\n",
              "      <td>250.000000</td>\n",
              "      <td>0.000000</td>\n",
              "      <td>38.000000</td>\n",
              "      <td>0.000000</td>\n",
              "      <td>262000.000000</td>\n",
              "      <td>1.10000</td>\n",
              "      <td>137.000000</td>\n",
              "      <td>1.000000</td>\n",
              "      <td>0.00000</td>\n",
              "      <td>115.000000</td>\n",
              "      <td>0.00000</td>\n",
              "    </tr>\n",
              "    <tr>\n",
              "      <th>75%</th>\n",
              "      <td>70.000000</td>\n",
              "      <td>1.000000</td>\n",
              "      <td>582.000000</td>\n",
              "      <td>1.000000</td>\n",
              "      <td>45.000000</td>\n",
              "      <td>1.000000</td>\n",
              "      <td>303500.000000</td>\n",
              "      <td>1.40000</td>\n",
              "      <td>140.000000</td>\n",
              "      <td>1.000000</td>\n",
              "      <td>1.00000</td>\n",
              "      <td>203.000000</td>\n",
              "      <td>1.00000</td>\n",
              "    </tr>\n",
              "    <tr>\n",
              "      <th>max</th>\n",
              "      <td>95.000000</td>\n",
              "      <td>1.000000</td>\n",
              "      <td>7861.000000</td>\n",
              "      <td>1.000000</td>\n",
              "      <td>80.000000</td>\n",
              "      <td>1.000000</td>\n",
              "      <td>850000.000000</td>\n",
              "      <td>9.40000</td>\n",
              "      <td>148.000000</td>\n",
              "      <td>1.000000</td>\n",
              "      <td>1.00000</td>\n",
              "      <td>285.000000</td>\n",
              "      <td>1.00000</td>\n",
              "    </tr>\n",
              "  </tbody>\n",
              "</table>\n",
              "</div>"
            ],
            "text/plain": [
              "              age     anaemia  ...        time  DEATH_EVENT\n",
              "count  299.000000  299.000000  ...  299.000000    299.00000\n",
              "mean    60.833893    0.431438  ...  130.260870      0.32107\n",
              "std     11.894809    0.496107  ...   77.614208      0.46767\n",
              "min     40.000000    0.000000  ...    4.000000      0.00000\n",
              "25%     51.000000    0.000000  ...   73.000000      0.00000\n",
              "50%     60.000000    0.000000  ...  115.000000      0.00000\n",
              "75%     70.000000    1.000000  ...  203.000000      1.00000\n",
              "max     95.000000    1.000000  ...  285.000000      1.00000\n",
              "\n",
              "[8 rows x 13 columns]"
            ]
          },
          "metadata": {},
          "execution_count": 38
        }
      ]
    },
    {
      "cell_type": "markdown",
      "metadata": {
        "id": "RfOIAhG82FOk"
      },
      "source": [
        "Converting data types. Boolean and binary data types were converted to 'category', and 'age' variable was converted to 'int64' data type."
      ]
    },
    {
      "cell_type": "code",
      "metadata": {
        "colab": {
          "base_uri": "https://localhost:8080/"
        },
        "id": "5sJoRhi6zhPD",
        "outputId": "4aed7308-9965-4500-f3fa-1b3ae3813f52"
      },
      "source": [
        "dataset.info()"
      ],
      "execution_count": 39,
      "outputs": [
        {
          "output_type": "stream",
          "name": "stdout",
          "text": [
            "<class 'pandas.core.frame.DataFrame'>\n",
            "RangeIndex: 299 entries, 0 to 298\n",
            "Data columns (total 13 columns):\n",
            " #   Column                    Non-Null Count  Dtype  \n",
            "---  ------                    --------------  -----  \n",
            " 0   age                       299 non-null    float64\n",
            " 1   anaemia                   299 non-null    int64  \n",
            " 2   creatinine_phosphokinase  299 non-null    int64  \n",
            " 3   diabetes                  299 non-null    int64  \n",
            " 4   ejection_fraction         299 non-null    int64  \n",
            " 5   high_blood_pressure       299 non-null    int64  \n",
            " 6   platelets                 299 non-null    float64\n",
            " 7   serum_creatinine          299 non-null    float64\n",
            " 8   serum_sodium              299 non-null    int64  \n",
            " 9   sex                       299 non-null    int64  \n",
            " 10  smoking                   299 non-null    int64  \n",
            " 11  time                      299 non-null    int64  \n",
            " 12  DEATH_EVENT               299 non-null    int64  \n",
            "dtypes: float64(3), int64(10)\n",
            "memory usage: 30.5 KB\n"
          ]
        }
      ]
    },
    {
      "cell_type": "code",
      "metadata": {
        "id": "nwPjoFOVzln6"
      },
      "source": [
        "dataset['high_blood_pressure'] = dataset['high_blood_pressure'].astype('category')\n",
        "dataset['anaemia'] = dataset['anaemia'].astype('category')\n",
        "dataset['diabetes'] = dataset['diabetes'].astype('category')\n",
        "dataset['sex'] = dataset['sex'].astype('category')\n",
        "dataset['smoking'] = dataset['smoking'].astype('category')\n",
        "dataset['DEATH_EVENT'] = dataset['DEATH_EVENT'].astype('category')\n",
        "dataset['age'] = dataset['age'].astype('int64')"
      ],
      "execution_count": 40,
      "outputs": []
    },
    {
      "cell_type": "code",
      "metadata": {
        "colab": {
          "base_uri": "https://localhost:8080/"
        },
        "id": "sRHEUVvB1zFm",
        "outputId": "85eb7b6a-f122-450f-f8ca-c52b933ba04f"
      },
      "source": [
        "dataset.info()"
      ],
      "execution_count": 41,
      "outputs": [
        {
          "output_type": "stream",
          "name": "stdout",
          "text": [
            "<class 'pandas.core.frame.DataFrame'>\n",
            "RangeIndex: 299 entries, 0 to 298\n",
            "Data columns (total 13 columns):\n",
            " #   Column                    Non-Null Count  Dtype   \n",
            "---  ------                    --------------  -----   \n",
            " 0   age                       299 non-null    int64   \n",
            " 1   anaemia                   299 non-null    category\n",
            " 2   creatinine_phosphokinase  299 non-null    int64   \n",
            " 3   diabetes                  299 non-null    category\n",
            " 4   ejection_fraction         299 non-null    int64   \n",
            " 5   high_blood_pressure       299 non-null    category\n",
            " 6   platelets                 299 non-null    float64 \n",
            " 7   serum_creatinine          299 non-null    float64 \n",
            " 8   serum_sodium              299 non-null    int64   \n",
            " 9   sex                       299 non-null    category\n",
            " 10  smoking                   299 non-null    category\n",
            " 11  time                      299 non-null    int64   \n",
            " 12  DEATH_EVENT               299 non-null    category\n",
            "dtypes: category(6), float64(2), int64(5)\n",
            "memory usage: 18.8 KB\n"
          ]
        }
      ]
    },
    {
      "cell_type": "markdown",
      "metadata": {
        "id": "rRSaE2cn3hOQ"
      },
      "source": [
        "There is no missing values in dataset."
      ]
    },
    {
      "cell_type": "code",
      "metadata": {
        "colab": {
          "base_uri": "https://localhost:8080/"
        },
        "id": "v6rek3un2lZu",
        "outputId": "369fc2e8-1d25-4206-de70-08789ae639a2"
      },
      "source": [
        "dataset.isnull().sum().sum()"
      ],
      "execution_count": 42,
      "outputs": [
        {
          "output_type": "execute_result",
          "data": {
            "text/plain": [
              "0"
            ]
          },
          "metadata": {},
          "execution_count": 42
        }
      ]
    },
    {
      "cell_type": "markdown",
      "metadata": {
        "id": "8p9bJNOkKPST"
      },
      "source": [
        "Looking at variables to see distributions and boxplots to detect outliers. Dataset is fairly inbalanced considering target variable 'DEATH_EVENT'. Unfortunately there was not information which are labels of categorical variables."
      ]
    },
    {
      "cell_type": "code",
      "metadata": {
        "colab": {
          "base_uri": "https://localhost:8080/",
          "height": 1000
        },
        "id": "8MVU1-sKDBZ9",
        "outputId": "f5d0238e-71bc-472c-8747-987ed8e9e52e"
      },
      "source": [
        "counter = 0\n",
        "counter2 = 0\n",
        "counter3 = 0\n",
        "continious = []\n",
        "category = []\n",
        "for i in dataset:\n",
        "  if dataset[i].dtype.name != 'category':\n",
        "    continious.append(i)\n",
        "\n",
        "for i in dataset:\n",
        "  if dataset[i].dtype.name == 'category':\n",
        "    category.append(i)\n",
        "\n",
        "fig, ax = plt.subplots(7,3,figsize = (20,40), sharex = False, sharey = False)\n",
        "for i in range(7):\n",
        "  ax[i][0].hist(dataset[continious[counter]])\n",
        "  ax[i][0].set_xlabel(str(continious[counter]),fontsize=15)\n",
        "  counter += 1\n",
        "\n",
        "for i in range(7):\n",
        "  ax[i][1].boxplot(dataset[continious[counter2]])\n",
        "  ax[i][1].set_xlabel(str(continious[counter2]),fontsize=15)\n",
        "  counter2 += 1\n",
        "\n",
        "for i in range(6):\n",
        "  ax[i][2].hist(dataset[category[counter3]])\n",
        "  ax[i][2].set_xlabel(str(category[counter3]),fontsize=15)\n",
        "  counter3 += 1\n"
      ],
      "execution_count": 43,
      "outputs": [
        {
          "output_type": "display_data",
          "data": {
            "image/png": "[encoded data removed]",
            "text/plain": [
              "<Figure size 1440x2880 with 21 Axes>"
            ]
          },
          "metadata": {
            "needs_background": "light"
          }
        }
      ]
    },
    {
      "cell_type": "markdown",
      "metadata": {
        "id": "7TlAoftoPZha"
      },
      "source": [
        "Removing outliers could be done in terms of IQR. Removing outliers increases model accuracy but decreases F1 - score. Because target variable is fairly inbalanced and false predictions can be dangerous, value of F1 - score has bigger weight and outliers are not removed."
      ]
    },
    {
      "cell_type": "code",
      "metadata": {
        "id": "eo0y_085K6ue"
      },
      "source": [
        "#Q1=[]\n",
        "#Q3=[]\n",
        "#IQR=[]\n",
        "\n",
        "#for i, j in enumerate(continious):\n",
        "#    Q1.append(dataset[j].quantile(.25))\n",
        "#    Q3.append(dataset[j].quantile(.75))\n",
        "#    IQR.append(Q3[i]-Q1[i])\n",
        "\n",
        "#for i, j in enumerate(continious):\n",
        "#    true_index = (dataset[j] >= (Q1[i] - 2 * IQR[i])) & (dataset[j] <=(Q3[i] + 2 * IQR[i]))\n",
        "#    dataset = dataset.loc[true_index]"
      ],
      "execution_count": 44,
      "outputs": []
    },
    {
      "cell_type": "markdown",
      "metadata": {
        "id": "ePX2BUea8bN4"
      },
      "source": [
        "There is no need to further encode categorical variables since they are binary and have values of 0 or 1."
      ]
    },
    {
      "cell_type": "markdown",
      "metadata": {
        "id": "vlzpas_rMNeV"
      },
      "source": [
        "Cross tabulation with independent categorical variables vs target variable. "
      ]
    },
    {
      "cell_type": "code",
      "metadata": {
        "colab": {
          "base_uri": "https://localhost:8080/"
        },
        "id": "mgxri2b9KFqL",
        "outputId": "25fe6c16-4e24-458d-9118-330f3de7f0cf"
      },
      "source": [
        "print(pd.crosstab(dataset.DEATH_EVENT, pd.cut(x = dataset['age'], bins = 4, labels = [1,2,3,4]),normalize = True))\n",
        "print(pd.crosstab(dataset.DEATH_EVENT, pd.cut(x = dataset['creatinine_phosphokinase'], bins = 4, labels = [1,2,3,4]),normalize = True))\n",
        "print(pd.crosstab(dataset.DEATH_EVENT, pd.cut(x = dataset['ejection_fraction'], bins = 4, labels = [1,2,3,4]),normalize = True))\n",
        "print(pd.crosstab(dataset.DEATH_EVENT, pd.cut(x = dataset['platelets'], bins = 4, labels = [1,2,3,4]),normalize = True))\n",
        "print(pd.crosstab(dataset.DEATH_EVENT, pd.cut(x = dataset['serum_creatinine'], bins = 4, labels = [1,2,3,4]),normalize = True))\n",
        "print(pd.crosstab(dataset.DEATH_EVENT, pd.cut(x = dataset['serum_sodium'], bins = 4, labels = [1,2,3,4]),normalize = True))\n",
        "print(pd.crosstab(dataset.DEATH_EVENT, pd.cut(x = dataset['time'], bins = 4, labels = [1,2,3,4]),normalize = True))\n",
        "print(pd.crosstab(dataset.DEATH_EVENT, dataset.anaemia,normalize = True))\n",
        "print(pd.crosstab(dataset.DEATH_EVENT, dataset.diabetes,normalize = True))\n",
        "print(pd.crosstab(dataset.DEATH_EVENT, dataset.high_blood_pressure,normalize = True))\n",
        "print(pd.crosstab(dataset.DEATH_EVENT, dataset.sex,normalize = True))\n",
        "print(pd.crosstab(dataset.DEATH_EVENT, dataset.smoking,normalize = True))"
      ],
      "execution_count": 45,
      "outputs": [
        {
          "output_type": "stream",
          "name": "stdout",
          "text": [
            "age                 1         2         3         4\n",
            "DEATH_EVENT                                        \n",
            "0            0.240803  0.294314  0.130435  0.013378\n",
            "1            0.070234  0.110368  0.096990  0.043478\n",
            "creatinine_phosphokinase         1         2         3         4\n",
            "DEATH_EVENT                                                     \n",
            "0                         0.642140  0.026756  0.010033  0.000000\n",
            "1                         0.297659  0.010033  0.006689  0.006689\n",
            "ejection_fraction         1         2         3         4\n",
            "DEATH_EVENT                                              \n",
            "0                  0.140468  0.384615  0.150502  0.003344\n",
            "1                  0.170569  0.103679  0.040134  0.006689\n",
            "platelets           1         2         3         4\n",
            "DEATH_EVENT                                        \n",
            "0            0.237458  0.411371  0.023411  0.006689\n",
            "1            0.133779  0.170569  0.016722  0.000000\n",
            "serum_creatinine         1         2         3         4\n",
            "DEATH_EVENT                                             \n",
            "0                 0.658863  0.013378  0.006689  0.000000\n",
            "1                 0.284281  0.023411  0.006689  0.006689\n",
            "serum_sodium         1         2         3         4\n",
            "DEATH_EVENT                                         \n",
            "0             0.003344  0.030100  0.448161  0.197324\n",
            "1             0.006689  0.033445  0.220736  0.060201\n",
            "time                1         2         3         4\n",
            "DEATH_EVENT                                        \n",
            "0            0.056856  0.240803  0.227425  0.153846\n",
            "1            0.210702  0.056856  0.046823  0.006689\n",
            "anaemia             0         1\n",
            "DEATH_EVENT                    \n",
            "0            0.401338  0.277592\n",
            "1            0.167224  0.153846\n",
            "diabetes            0         1\n",
            "DEATH_EVENT                    \n",
            "0            0.394649  0.284281\n",
            "1            0.187291  0.133779\n",
            "high_blood_pressure         0         1\n",
            "DEATH_EVENT                            \n",
            "0                    0.458194  0.220736\n",
            "1                    0.190635  0.130435\n",
            "sex                 0         1\n",
            "DEATH_EVENT                    \n",
            "0            0.237458  0.441472\n",
            "1            0.113712  0.207358\n",
            "smoking             0         1\n",
            "DEATH_EVENT                    \n",
            "0            0.458194  0.220736\n",
            "1            0.220736  0.100334\n"
          ]
        }
      ]
    },
    {
      "cell_type": "markdown",
      "metadata": {
        "id": "OJcdyOi-3xKz"
      },
      "source": [
        "Splitting data to independent variables X and dependent variable y. Dependent variable is whether person has died during the follow up period or not. Variable 'time' was left out, because if model is applied to new patients data, follow-up period is unknown. That is because if patients dies during the period, period will be shorter. Shorter follow-up period predicts patient dying, so it has large effect on machine learning model. Also other than 'serum_creatinine' and 'ejection_fraction' were left out based on a tip on datasets source website. Those two variables will make more accurate prediction alone than all variables together."
      ]
    },
    {
      "cell_type": "code",
      "metadata": {
        "colab": {
          "base_uri": "https://localhost:8080/"
        },
        "id": "St1UFniSzIzG",
        "outputId": "25a090a7-cec4-4c71-b225-ba44675f59d0"
      },
      "source": [
        "X = dataset.iloc[:,[4,7]].values\n",
        "y = dataset.iloc[:, -1].values\n",
        "print(X)\n",
        "print(y)"
      ],
      "execution_count": 46,
      "outputs": [
        {
          "output_type": "stream",
          "name": "stdout",
          "text": [
            "[[20.    1.9 ]\n",
            " [38.    1.1 ]\n",
            " [20.    1.3 ]\n",
            " [20.    1.9 ]\n",
            " [20.    2.7 ]\n",
            " [40.    2.1 ]\n",
            " [15.    1.2 ]\n",
            " [60.    1.1 ]\n",
            " [65.    1.5 ]\n",
            " [35.    9.4 ]\n",
            " [38.    4.  ]\n",
            " [25.    0.9 ]\n",
            " [30.    1.1 ]\n",
            " [38.    1.1 ]\n",
            " [30.    1.  ]\n",
            " [50.    1.3 ]\n",
            " [38.    0.9 ]\n",
            " [14.    0.8 ]\n",
            " [25.    1.  ]\n",
            " [55.    1.9 ]\n",
            " [25.    1.3 ]\n",
            " [30.    1.6 ]\n",
            " [35.    0.9 ]\n",
            " [60.    0.8 ]\n",
            " [30.    1.83]\n",
            " [38.    1.9 ]\n",
            " [40.    1.  ]\n",
            " [45.    1.3 ]\n",
            " [38.    5.8 ]\n",
            " [30.    1.2 ]\n",
            " [38.    1.83]\n",
            " [45.    3.  ]\n",
            " [35.    1.  ]\n",
            " [30.    1.2 ]\n",
            " [50.    1.  ]\n",
            " [35.    3.5 ]\n",
            " [50.    1.  ]\n",
            " [50.    1.  ]\n",
            " [30.    2.3 ]\n",
            " [38.    3.  ]\n",
            " [20.    1.83]\n",
            " [30.    1.2 ]\n",
            " [45.    1.2 ]\n",
            " [50.    1.  ]\n",
            " [60.    1.1 ]\n",
            " [38.    1.9 ]\n",
            " [25.    0.9 ]\n",
            " [38.    0.6 ]\n",
            " [20.    4.4 ]\n",
            " [30.    1.  ]\n",
            " [25.    1.  ]\n",
            " [20.    1.4 ]\n",
            " [62.    6.8 ]\n",
            " [50.    1.  ]\n",
            " [38.    2.2 ]\n",
            " [30.    2.  ]\n",
            " [35.    2.7 ]\n",
            " [40.    0.6 ]\n",
            " [20.    1.1 ]\n",
            " [20.    1.3 ]\n",
            " [25.    1.  ]\n",
            " [40.    2.3 ]\n",
            " [35.    1.1 ]\n",
            " [35.    1.  ]\n",
            " [80.    1.18]\n",
            " [20.    2.9 ]\n",
            " [15.    1.3 ]\n",
            " [25.    1.  ]\n",
            " [25.    1.2 ]\n",
            " [25.    1.83]\n",
            " [40.    0.8 ]\n",
            " [35.    0.9 ]\n",
            " [35.    1.  ]\n",
            " [50.    1.3 ]\n",
            " [20.    1.2 ]\n",
            " [20.    0.7 ]\n",
            " [60.    0.8 ]\n",
            " [40.    1.2 ]\n",
            " [38.    0.6 ]\n",
            " [45.    0.9 ]\n",
            " [40.    1.7 ]\n",
            " [50.    1.18]\n",
            " [25.    2.5 ]\n",
            " [50.    1.8 ]\n",
            " [25.    1.  ]\n",
            " [50.    0.7 ]\n",
            " [35.    1.1 ]\n",
            " [60.    0.8 ]\n",
            " [40.    0.7 ]\n",
            " [25.    1.1 ]\n",
            " [45.    0.8 ]\n",
            " [45.    1.  ]\n",
            " [60.    1.18]\n",
            " [25.    1.7 ]\n",
            " [38.    0.7 ]\n",
            " [60.    1.  ]\n",
            " [25.    1.3 ]\n",
            " [60.    1.1 ]\n",
            " [25.    1.2 ]\n",
            " [40.    1.1 ]\n",
            " [25.    1.1 ]\n",
            " [45.    1.18]\n",
            " [25.    1.1 ]\n",
            " [30.    1.  ]\n",
            " [50.    2.3 ]\n",
            " [30.    1.7 ]\n",
            " [45.    1.3 ]\n",
            " [35.    0.9 ]\n",
            " [38.    1.1 ]\n",
            " [35.    1.3 ]\n",
            " [60.    1.2 ]\n",
            " [35.    1.2 ]\n",
            " [25.    1.6 ]\n",
            " [60.    1.3 ]\n",
            " [40.    1.2 ]\n",
            " [40.    1.  ]\n",
            " [60.    0.7 ]\n",
            " [60.    3.2 ]\n",
            " [60.    0.9 ]\n",
            " [38.    1.83]\n",
            " [60.    1.5 ]\n",
            " [38.    1.  ]\n",
            " [38.    0.75]\n",
            " [30.    0.9 ]\n",
            " [40.    3.7 ]\n",
            " [50.    1.3 ]\n",
            " [17.    2.1 ]\n",
            " [60.    0.8 ]\n",
            " [30.    0.7 ]\n",
            " [35.    3.4 ]\n",
            " [60.    0.7 ]\n",
            " [45.    6.1 ]\n",
            " [40.    1.18]\n",
            " [60.    1.3 ]\n",
            " [35.    1.18]\n",
            " [40.    1.18]\n",
            " [60.    0.9 ]\n",
            " [25.    2.1 ]\n",
            " [35.    1.  ]\n",
            " [30.    0.8 ]\n",
            " [38.    1.1 ]\n",
            " [35.    0.9 ]\n",
            " [30.    0.9 ]\n",
            " [40.    0.9 ]\n",
            " [25.    1.7 ]\n",
            " [30.    0.7 ]\n",
            " [30.    0.7 ]\n",
            " [60.    1.  ]\n",
            " [30.    1.83]\n",
            " [35.    0.9 ]\n",
            " [45.    2.5 ]\n",
            " [60.    0.9 ]\n",
            " [45.    0.9 ]\n",
            " [35.    1.18]\n",
            " [35.    0.8 ]\n",
            " [25.    1.7 ]\n",
            " [35.    1.4 ]\n",
            " [25.    1.  ]\n",
            " [50.    1.3 ]\n",
            " [45.    1.1 ]\n",
            " [40.    1.2 ]\n",
            " [35.    0.8 ]\n",
            " [40.    0.9 ]\n",
            " [35.    0.9 ]\n",
            " [30.    1.1 ]\n",
            " [38.    1.3 ]\n",
            " [60.    0.7 ]\n",
            " [20.    2.4 ]\n",
            " [40.    1.  ]\n",
            " [35.    0.8 ]\n",
            " [35.    1.5 ]\n",
            " [40.    0.9 ]\n",
            " [60.    1.1 ]\n",
            " [20.    0.8 ]\n",
            " [35.    0.9 ]\n",
            " [60.    1.  ]\n",
            " [40.    1.  ]\n",
            " [50.    1.  ]\n",
            " [60.    1.2 ]\n",
            " [40.    0.7 ]\n",
            " [30.    0.9 ]\n",
            " [25.    1.  ]\n",
            " [25.    1.2 ]\n",
            " [38.    2.5 ]\n",
            " [25.    1.2 ]\n",
            " [30.    1.5 ]\n",
            " [50.    0.6 ]\n",
            " [25.    2.1 ]\n",
            " [40.    1.  ]\n",
            " [45.    0.9 ]\n",
            " [35.    2.1 ]\n",
            " [60.    1.5 ]\n",
            " [40.    0.7 ]\n",
            " [30.    1.18]\n",
            " [20.    1.6 ]\n",
            " [45.    1.8 ]\n",
            " [38.    1.18]\n",
            " [30.    0.8 ]\n",
            " [20.    1.  ]\n",
            " [35.    1.8 ]\n",
            " [45.    0.7 ]\n",
            " [60.    1.  ]\n",
            " [60.    0.9 ]\n",
            " [25.    3.5 ]\n",
            " [40.    0.7 ]\n",
            " [45.    1.  ]\n",
            " [40.    0.8 ]\n",
            " [38.    0.9 ]\n",
            " [40.    1.  ]\n",
            " [35.    0.8 ]\n",
            " [17.    1.  ]\n",
            " [62.    0.8 ]\n",
            " [50.    1.4 ]\n",
            " [30.    1.6 ]\n",
            " [35.    0.8 ]\n",
            " [35.    1.3 ]\n",
            " [50.    0.9 ]\n",
            " [70.    9.  ]\n",
            " [35.    1.1 ]\n",
            " [35.    0.7 ]\n",
            " [20.    1.83]\n",
            " [50.    1.1 ]\n",
            " [35.    1.1 ]\n",
            " [25.    0.8 ]\n",
            " [25.    1.  ]\n",
            " [60.    1.4 ]\n",
            " [25.    1.3 ]\n",
            " [35.    1.  ]\n",
            " [25.    5.  ]\n",
            " [25.    1.2 ]\n",
            " [30.    1.7 ]\n",
            " [35.    1.1 ]\n",
            " [35.    0.9 ]\n",
            " [38.    1.4 ]\n",
            " [45.    1.1 ]\n",
            " [50.    1.1 ]\n",
            " [50.    1.1 ]\n",
            " [30.    1.2 ]\n",
            " [40.    1.  ]\n",
            " [45.    1.18]\n",
            " [35.    1.3 ]\n",
            " [30.    1.3 ]\n",
            " [35.    1.1 ]\n",
            " [40.    0.9 ]\n",
            " [38.    1.8 ]\n",
            " [38.    1.4 ]\n",
            " [25.    1.1 ]\n",
            " [25.    2.4 ]\n",
            " [35.    1.  ]\n",
            " [40.    1.2 ]\n",
            " [30.    0.5 ]\n",
            " [35.    0.8 ]\n",
            " [45.    1.  ]\n",
            " [35.    1.2 ]\n",
            " [60.    1.  ]\n",
            " [30.    1.  ]\n",
            " [38.    1.7 ]\n",
            " [38.    1.  ]\n",
            " [25.    0.8 ]\n",
            " [50.    0.7 ]\n",
            " [40.    1.  ]\n",
            " [40.    0.7 ]\n",
            " [25.    1.4 ]\n",
            " [60.    1.  ]\n",
            " [38.    1.2 ]\n",
            " [35.    0.9 ]\n",
            " [20.    1.83]\n",
            " [38.    1.7 ]\n",
            " [38.    0.9 ]\n",
            " [35.    1.  ]\n",
            " [30.    1.6 ]\n",
            " [40.    0.9 ]\n",
            " [38.    1.2 ]\n",
            " [40.    0.7 ]\n",
            " [30.    1.  ]\n",
            " [38.    0.8 ]\n",
            " [35.    1.1 ]\n",
            " [38.    1.1 ]\n",
            " [30.    0.7 ]\n",
            " [38.    1.3 ]\n",
            " [40.    1.  ]\n",
            " [40.    2.7 ]\n",
            " [30.    3.8 ]\n",
            " [38.    1.1 ]\n",
            " [40.    0.8 ]\n",
            " [40.    1.2 ]\n",
            " [35.    1.7 ]\n",
            " [55.    1.  ]\n",
            " [35.    1.1 ]\n",
            " [38.    0.9 ]\n",
            " [55.    0.8 ]\n",
            " [35.    1.4 ]\n",
            " [38.    1.  ]\n",
            " [35.    0.9 ]\n",
            " [38.    1.1 ]\n",
            " [38.    1.2 ]\n",
            " [60.    0.8 ]\n",
            " [38.    1.4 ]\n",
            " [45.    1.6 ]]\n",
            "[1, 1, 1, 1, 1, ..., 0, 0, 0, 0, 0]\n",
            "Length: 299\n",
            "Categories (2, int64): [0, 1]\n"
          ]
        }
      ]
    },
    {
      "cell_type": "markdown",
      "metadata": {
        "id": "I8FNqQEt8szE"
      },
      "source": [
        "Splitting data to training and test set."
      ]
    },
    {
      "cell_type": "code",
      "metadata": {
        "id": "LN5kFgPA8RC0"
      },
      "source": [
        "X_train, X_test, y_train, y_test = train_test_split(X, y, test_size = 0.2, random_state = 1)"
      ],
      "execution_count": 47,
      "outputs": []
    },
    {
      "cell_type": "markdown",
      "metadata": {
        "id": "HAA5pDTL81Z8"
      },
      "source": [
        "There is no need for feature scaling with XGBoost model since it is based on decision trees which don't require feature scaling."
      ]
    },
    {
      "cell_type": "markdown",
      "metadata": {
        "id": "NWSzquPi9rXv"
      },
      "source": [
        "Training XGBoost classifier model on training set. Logistic Regression, Naive Bayes, Kernel SVM and Random Forest models gave worse results than XGBoost."
      ]
    },
    {
      "cell_type": "code",
      "metadata": {
        "colab": {
          "base_uri": "https://localhost:8080/"
        },
        "id": "BBy7sX1A8yms",
        "outputId": "34bd902c-c502-4f60-ecc9-382a51313eea"
      },
      "source": [
        "classifier = XGBClassifier()\n",
        "classifier.fit(X_train, y_train)"
      ],
      "execution_count": 48,
      "outputs": [
        {
          "output_type": "execute_result",
          "data": {
            "text/plain": [
              "XGBClassifier()"
            ]
          },
          "metadata": {},
          "execution_count": 48
        }
      ]
    },
    {
      "cell_type": "markdown",
      "metadata": {
        "id": "YGTJDGc-9xL_"
      },
      "source": [
        "Predicting test set values and comparing them to real values."
      ]
    },
    {
      "cell_type": "code",
      "metadata": {
        "colab": {
          "base_uri": "https://localhost:8080/"
        },
        "id": "6ivjy39j9SCZ",
        "outputId": "616a1677-df14-45aa-89fa-5e2637d4a241"
      },
      "source": [
        "y_pred = classifier.predict(X_test)\n",
        "cm = confusion_matrix(y_test, y_pred)\n",
        "print(cm)\n",
        "accuracy_score(y_test, y_pred)"
      ],
      "execution_count": 49,
      "outputs": [
        {
          "output_type": "stream",
          "name": "stdout",
          "text": [
            "[[42  4]\n",
            " [ 5  9]]\n"
          ]
        },
        {
          "output_type": "execute_result",
          "data": {
            "text/plain": [
              "0.85"
            ]
          },
          "metadata": {},
          "execution_count": 49
        }
      ]
    },
    {
      "cell_type": "markdown",
      "metadata": {
        "id": "0S2Wc908SXZW"
      },
      "source": [
        "Measuring performance of model with k-Fold Cross Validation and F1 - score. Number of different test and training set splits is 10. Standard deviation is difference in results between different splits."
      ]
    },
    {
      "cell_type": "code",
      "metadata": {
        "colab": {
          "base_uri": "https://localhost:8080/"
        },
        "id": "BpFVmh0h9loq",
        "outputId": "b91af6f0-7a2c-4cf8-fcb4-ade869f37a5b"
      },
      "source": [
        "accuracies = cross_val_score(estimator = classifier, X = X_train, y = y_train, cv = 10)\n",
        "print(\"Accuracy: {:.2f} %\".format(accuracies.mean()*100))\n",
        "print(\"Standard Deviation: {:.2f} %\".format(accuracies.std()*100))\n",
        "print('F1 - score: {:.2f} %'.format(f1_score(y_test, y_pred)*100))"
      ],
      "execution_count": 50,
      "outputs": [
        {
          "output_type": "stream",
          "name": "stdout",
          "text": [
            "Accuracy: 72.75 %\n",
            "Standard Deviation: 7.52 %\n",
            "F1 - score: 66.67 %\n"
          ]
        }
      ]
    }
  ]
}