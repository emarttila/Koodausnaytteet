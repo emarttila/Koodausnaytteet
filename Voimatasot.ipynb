{
  "nbformat": 4,
  "nbformat_minor": 0,
  "metadata": {
    "kernelspec": {
      "display_name": "Python 3",
      "language": "python",
      "name": "python3"
    },
    "language_info": {
      "codemirror_mode": {
        "name": "ipython",
        "version": 3
      },
      "file_extension": ".py",
      "mimetype": "text/x-python",
      "name": "python",
      "nbconvert_exporter": "python",
      "pygments_lexer": "ipython3",
      "version": "3.7.6"
    },
    "colab": {
      "name": "Voimatasot.ipynb",
      "provenance": [],
      "include_colab_link": true
    }
  },
  "cells": [
    {
      "cell_type": "markdown",
      "metadata": {
        "id": "view-in-github",
        "colab_type": "text"
      },
      "source": [
        "<a href=\"https://colab.research.google.com/github/emarttila/Koodausnaytteet/blob/main/Voimatasot.ipynb\" target=\"_parent\"><img src=\"https://colab.research.google.com/assets/colab-badge.svg\" alt=\"Open In Colab\"/></a>"
      ]
    },
    {
      "cell_type": "code",
      "metadata": {
        "id": "dfJplJ99W8kA"
      },
      "source": [
        "import numpy as np\n",
        "import pandas as pd\n",
        "from matplotlib import pyplot as plt\n",
        "import seaborn as sns \n",
        "%matplotlib inline \n",
        "import matplotlib as mpl"
      ],
      "execution_count": 1,
      "outputs": []
    },
    {
      "cell_type": "code",
      "metadata": {
        "id": "pRdbVR_ZW8kA"
      },
      "source": [
        "#Kirjoita kehonpaino, sukupuoli (\"Mies\" tai \"Nainen\") ja monta toistoa (1-10) saat maksimissaan tehtyä ja millä painolla. Esim penkki 70 (kg), 3 toistoa (penkkitoistoa). Sitten suorita kaikki.\n",
        "\n",
        "kehonpaino = 0\n",
        "\n",
        "sukupuoli = \"\"\n",
        "\n",
        "penkki = 0\n",
        "penkkitoistoa = 0\n",
        "\n",
        "kyykky = 0\n",
        "kyykkytoistoa = 0\n",
        "\n",
        "pypu = 0\n",
        "pyputoistoa = 0\n",
        "\n",
        "mave = 0\n",
        "mavetoistoa = 0"
      ],
      "execution_count": 6,
      "outputs": []
    },
    {
      "cell_type": "code",
      "metadata": {
        "id": "hqRf_SReux01"
      },
      "source": [
        "# Voimatasojen viitearvot määräytvät sukupuolen mukaan\n",
        "\n",
        "taso_m = np.array([[0.75 * kehonpaino, 1 * kehonpaino, 1.3 * kehonpaino, 1.5 * kehonpaino, 1.75 * kehonpaino, 290], [1 * kehonpaino, 1.2 * kehonpaino,\\\n",
        "                1.5 * kehonpaino, 1.75 * kehonpaino, 2 * kehonpaino, 455], [0.5 * kehonpaino, 0.65 * kehonpaino, 0.85 * kehonpaino, 1 * kehonpaino, 1.25 * kehonpaino, 250], \\\n",
        "                [1* kehonpaino, 1.3 * kehonpaino, 1.65 * kehonpaino, 2 * kehonpaino, 2.25 * kehonpaino, 501]])\n",
        "taso_n = np.array([[0.65 * kehonpaino, 0.7 * kehonpaino, 0.85 * kehonpaino, 1 * kehonpaino, 1.25 * kehonpaino, 207], [0.8 * kehonpaino, 1 * kehonpaino,\\\n",
        "                1.3 * kehonpaino, 1.5 * kehonpaino, 1.75 * kehonpaino, 279], [0.35 * kehonpaino, 0.5 * kehonpaino, 0.75 * kehonpaino, 0.8 * kehonpaino, 0.9 * kehonpaino, 100], \\\n",
        "                [1* kehonpaino, 1.3 * kehonpaino, 1.65 * kehonpaino, 2 * kehonpaino, 2.25 * kehonpaino, 275]])\n",
        "\n",
        "if sukupuoli == \"Mies\":\n",
        "  taso = taso_m\n",
        "elif sukupuoli == \"Nainen\":\n",
        "  taso = taso_n\n",
        "else:\n",
        "   print(\"Valitse 'Mies' tai 'Nainen'\")\n",
        "   taso = 0\n",
        "   rm = 0"
      ],
      "execution_count": 7,
      "outputs": []
    },
    {
      "cell_type": "code",
      "metadata": {
        "id": "wN9f0GCk5Z7w"
      },
      "source": [
        "# Lasketaan yhden toiston maksimit eri liikkeissä painokertoimien mukaan\n",
        "\n",
        "painokerroin = np.array([1, 0.95, 0.90, 0.88, 0.86, 0.83, 0.80, 0.78, 0.76, 0.75])\n",
        "penkkirm = penkki / painokerroin[penkkitoistoa-1]\n",
        "kyykkyrm = kyykky / painokerroin[kyykkytoistoa-1]\n",
        "pypurm = pypu / painokerroin[pyputoistoa-1]\n",
        "maverm = mave / painokerroin[mavetoistoa-1]\n",
        "rm = np.array([penkkirm, kyykkyrm, pypurm, maverm])\n",
        "\n",
        "# Tehdään taulukko, josta selviää voimataso verrattuna muihin, yhden toiston maksimi (RM) ja arvioitu yläraja painoon,\n",
        "# jota voi käyttää tietynlaiseen voiman lajin harjoitteluun.\n",
        "\n",
        "liike = np.array([\"Penkki\", \"Kyykky\", \"Pypu\", \"Mave\"])\n",
        "rows = [\"Penkki\", \"Kyykky\", \"Pypu\", \"Mave\"]\n",
        "columns = [\"Kohtuullinen\", \"Hyvä\", \"Optimaalinen\", \"Kehittynyt\", \"Atleetti\", \"ME\"]\n",
        "Taulukko = pd.DataFrame(taso, index = rows, columns = columns)\n",
        "RM = pd.DataFrame(rm, index = rows, columns = [\"RM\"])\n",
        "Liike = pd.DataFrame(liike, index = rows, columns = [\"Liike\"])\n",
        "Taulukko = pd.merge(left=Taulukko, right=RM, left_index = True, right_index = True)\n",
        "Taulukko = pd.merge(left=Taulukko, right=Liike, left_index = True, right_index = True)\n",
        "Toistoalue = pd.DataFrame(np.array([[0.2 * penkkirm, 0.6 * penkkirm, 0.85 * penkkirm, penkkirm], [0.2 * kyykkyrm, 0.6 * kyykkyrm, 0.85 * kyykkyrm, kyykkyrm], [0.2 * pypurm, 0.6 * pypurm, 0.85 * pypurm, pypurm], [0.2 * maverm, 0.6 * maverm, 0.85 * maverm, maverm] ]), index = rows, columns = [\"Lihaskestävyys\", \"Voimakestävyys\", \"Perusvoima\", \"Maksimivoima\"])\n",
        "Taulukko = pd.merge(left=Taulukko, right=Toistoalue, left_index = True, right_index = True)"
      ],
      "execution_count": 8,
      "outputs": []
    },
    {
      "cell_type": "code",
      "metadata": {
        "id": "iDRz_stxW8kA",
        "colab": {
          "base_uri": "https://localhost:8080/",
          "height": 175
        },
        "outputId": "b81f4d12-71e7-4778-fee2-1857251aa3c4"
      },
      "source": [
        "Taulukko"
      ],
      "execution_count": 9,
      "outputs": [
        {
          "output_type": "execute_result",
          "data": {
            "text/html": [
              "<div>\n",
              "<style scoped>\n",
              "    .dataframe tbody tr th:only-of-type {\n",
              "        vertical-align: middle;\n",
              "    }\n",
              "\n",
              "    .dataframe tbody tr th {\n",
              "        vertical-align: top;\n",
              "    }\n",
              "\n",
              "    .dataframe thead th {\n",
              "        text-align: right;\n",
              "    }\n",
              "</style>\n",
              "<table border=\"1\" class=\"dataframe\">\n",
              "  <thead>\n",
              "    <tr style=\"text-align: right;\">\n",
              "      <th></th>\n",
              "      <th>Kohtuullinen</th>\n",
              "      <th>Hyvä</th>\n",
              "      <th>Optimaalinen</th>\n",
              "      <th>Kehittynyt</th>\n",
              "      <th>Atleetti</th>\n",
              "      <th>ME</th>\n",
              "      <th>RM</th>\n",
              "      <th>Liike</th>\n",
              "      <th>Lihaskestävyys</th>\n",
              "      <th>Voimakestävyys</th>\n",
              "      <th>Perusvoima</th>\n",
              "      <th>Maksimivoima</th>\n",
              "    </tr>\n",
              "  </thead>\n",
              "  <tbody>\n",
              "    <tr>\n",
              "      <th>Penkki</th>\n",
              "      <td>75.75</td>\n",
              "      <td>101.00</td>\n",
              "      <td>131.30</td>\n",
              "      <td>151.50</td>\n",
              "      <td>176.75</td>\n",
              "      <td>290.0</td>\n",
              "      <td>105.000000</td>\n",
              "      <td>Penkki</td>\n",
              "      <td>21.000000</td>\n",
              "      <td>63.000000</td>\n",
              "      <td>89.250000</td>\n",
              "      <td>105.000000</td>\n",
              "    </tr>\n",
              "    <tr>\n",
              "      <th>Kyykky</th>\n",
              "      <td>101.00</td>\n",
              "      <td>121.20</td>\n",
              "      <td>151.50</td>\n",
              "      <td>176.75</td>\n",
              "      <td>202.00</td>\n",
              "      <td>455.0</td>\n",
              "      <td>136.363636</td>\n",
              "      <td>Kyykky</td>\n",
              "      <td>27.272727</td>\n",
              "      <td>81.818182</td>\n",
              "      <td>115.909091</td>\n",
              "      <td>136.363636</td>\n",
              "    </tr>\n",
              "    <tr>\n",
              "      <th>Pypu</th>\n",
              "      <td>50.50</td>\n",
              "      <td>65.65</td>\n",
              "      <td>85.85</td>\n",
              "      <td>101.00</td>\n",
              "      <td>126.25</td>\n",
              "      <td>250.0</td>\n",
              "      <td>65.000000</td>\n",
              "      <td>Pypu</td>\n",
              "      <td>13.000000</td>\n",
              "      <td>39.000000</td>\n",
              "      <td>55.250000</td>\n",
              "      <td>65.000000</td>\n",
              "    </tr>\n",
              "    <tr>\n",
              "      <th>Mave</th>\n",
              "      <td>101.00</td>\n",
              "      <td>131.30</td>\n",
              "      <td>166.65</td>\n",
              "      <td>202.00</td>\n",
              "      <td>227.25</td>\n",
              "      <td>501.0</td>\n",
              "      <td>162.790698</td>\n",
              "      <td>Mave</td>\n",
              "      <td>32.558140</td>\n",
              "      <td>97.674419</td>\n",
              "      <td>138.372093</td>\n",
              "      <td>162.790698</td>\n",
              "    </tr>\n",
              "  </tbody>\n",
              "</table>\n",
              "</div>"
            ],
            "text/plain": [
              "        Kohtuullinen    Hyvä  ...  Perusvoima  Maksimivoima\n",
              "Penkki         75.75  101.00  ...   89.250000    105.000000\n",
              "Kyykky        101.00  121.20  ...  115.909091    136.363636\n",
              "Pypu           50.50   65.65  ...   55.250000     65.000000\n",
              "Mave          101.00  131.30  ...  138.372093    162.790698\n",
              "\n",
              "[4 rows x 12 columns]"
            ]
          },
          "metadata": {
            "tags": []
          },
          "execution_count": 9
        }
      ]
    },
    {
      "cell_type": "code",
      "metadata": {
        "id": "x-0lEXm0W8kB",
        "colab": {
          "base_uri": "https://localhost:8080/",
          "height": 366
        },
        "outputId": "b1070524-844a-4ead-a4c4-b8f8d703d287"
      },
      "source": [
        "# Kuvataan yhden toiston maksimi liikkeessä mustana palkkina, ja eri voimatasot värillisinä. \n",
        "# Värillisen palkin yläraja on arvioitu maailmanennätys.\n",
        "\n",
        "labels = ['Penkki', 'Kyykky', 'Pypu', 'Mave']\n",
        "X = np.arange(len(labels))\n",
        "fig = plt.figure()\n",
        "ax = fig.add_axes([0,0,1,1])\n",
        "ax.bar(X + 0.00, Taulukko.RM,color = \"k\", alpha=0.8, width = 0.3, label = \"1RM\")\n",
        "ax.bar(X + 0.3, Taulukko.Kohtuullinen, color = \"y\", alpha = 0.8, width = 0.3, label = \"Treenaamaton\" )\n",
        "ax.bar(X + 0.3, Taulukko.Hyvä - Taulukko.Kohtuullinen, bottom = Taulukko.Kohtuullinen, color = \"g\", alpha = 0.8, width = 0.3, label = \"Kohtuullinen\")\n",
        "ax.bar(X + 0.3, Taulukko.Optimaalinen - Taulukko.Hyvä, bottom= Taulukko.Hyvä, color = \"c\", alpha = 0.8, width = 0.3, label = \"Hyvä\")\n",
        "ax.bar(X + 0.3, Taulukko.Kehittynyt - Taulukko.Optimaalinen, bottom = Taulukko.Optimaalinen, color = \"b\", alpha = 0.8, width = 0.3, label = \"Optimaalinen\")\n",
        "ax.bar(X + 0.3, Taulukko.Atleetti - Taulukko.Kehittynyt, bottom = Taulukko.Kehittynyt, color = \"m\", alpha = 0.8, width = 0.3, label = \"Kehittynyt\")\n",
        "ax.bar(X + 0.3, Taulukko.ME - Taulukko.Atleetti, bottom = Taulukko.Atleetti, color = \"r\", alpha = 0.8, width = 0.3, label = \"Atleetti\")\n",
        "\n",
        "ax.set_xticks(X)\n",
        "ax.set_xticklabels(labels)\n",
        "ax.set_ylabel('Kg')\n",
        "ax.set_xlabel('Liike')\n",
        "ax.set_title('Yhden toiston maksimi ja eri voimatasot')\n",
        "ax.legend()\n",
        "plt.show()"
      ],
      "execution_count": 10,
      "outputs": [
        {
          "output_type": "display_data",
          "data": {
            "image/png": "[encoded data removed]",
            "text/plain": [
              "<Figure size 432x288 with 1 Axes>"
            ]
          },
          "metadata": {
            "tags": [],
            "needs_background": "light"
          }
        }
      ]
    },
    {
      "cell_type": "code",
      "metadata": {
        "id": "hyMyAnNEW8kC",
        "colab": {
          "base_uri": "https://localhost:8080/",
          "height": 366
        },
        "outputId": "48bc862b-4f00-49e9-dc57-6b6d3f423488"
      },
      "source": [
        "# Musta palkki on jälleen henk koht yhden toiston maksimi ja värillinen kuvaa vastuksen\n",
        "# vaihteluväliä, jota voidaan käyttää kyseisen voiman alueen harjoitteluun.\n",
        "\n",
        "labels = ['Penkki', 'Kyykky', 'Pypu', 'Mave']\n",
        "X = np.arange(len(labels))\n",
        "fig = plt.figure()\n",
        "ax = fig.add_axes([0,0,1,1])\n",
        "ax.bar(X + 0.00, Taulukko.RM,color = \"k\", alpha=0.8, width = 0.3, label = \"1RM\")\n",
        "ax.bar(X + 0.3, Taulukko.Lihaskestävyys, color = \"y\", alpha = 0.5, width = 0.3, label = \"Lihaskestävyys\" )\n",
        "ax.bar(X + 0.3, Taulukko.Voimakestävyys - Taulukko.Lihaskestävyys, bottom = Taulukko.Lihaskestävyys, color = \"g\", alpha = 0.5, width = 0.3, label = \"Voimakestävyys\")\n",
        "ax.bar(X + 0.3, Taulukko.Perusvoima - Taulukko.Voimakestävyys, bottom= Taulukko.Voimakestävyys, color = \"b\", alpha = 0.5, width = 0.3, label = \"Perusvoima\")\n",
        "ax.bar(X + 0.3, Taulukko.Maksimivoima - Taulukko.Perusvoima, bottom = Taulukko.Perusvoima, color = \"r\", alpha = 0.5, width = 0.3, label = \"Maksimivoima\")\n",
        "\n",
        "ax.set_xticks(X)\n",
        "ax.set_xticklabels(labels)\n",
        "ax.set_ylabel('Kg')\n",
        "ax.set_xlabel('Liike')\n",
        "ax.set_title('Yhden toiston maksimi ja eri voiman lajien intensiteetti')\n",
        "ax.legend()\n",
        "plt.show()"
      ],
      "execution_count": 11,
      "outputs": [
        {
          "output_type": "display_data",
          "data": {
            "image/png": "[encoded data removed]",
            "text/plain": [
              "<Figure size 432x288 with 1 Axes>"
            ]
          },
          "metadata": {
            "tags": [],
            "needs_background": "light"
          }
        }
      ]
    }
  ]
}