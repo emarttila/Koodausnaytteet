{
  "nbformat": 4,
  "nbformat_minor": 0,
  "metadata": {
    "kernelspec": {
      "display_name": "Python 3",
      "language": "python",
      "name": "python3"
    },
    "language_info": {
      "codemirror_mode": {
        "name": "ipython",
        "version": 3
      },
      "file_extension": ".py",
      "mimetype": "text/x-python",
      "name": "python",
      "nbconvert_exporter": "python",
      "pygments_lexer": "ipython3",
      "version": "3.7.6"
    },
    "colab": {
      "name": "Voimatasot.ipynb",
      "provenance": [],
      "include_colab_link": true
    }
  },
  "cells": [
    {
      "cell_type": "markdown",
      "metadata": {
        "id": "view-in-github",
        "colab_type": "text"
      },
      "source": [
        "<a href=\"https://colab.research.google.com/github/emarttila/Koodausnaytteet/blob/main/Voimatasot.ipynb\" target=\"_parent\"><img src=\"https://colab.research.google.com/assets/colab-badge.svg\" alt=\"Open In Colab\"/></a>"
      ]
    },
    {
      "cell_type": "code",
      "metadata": {
        "id": "dfJplJ99W8kA"
      },
      "source": [
        "import numpy as np\n",
        "import pandas as pd\n",
        "from matplotlib import pyplot as plt\n",
        "import seaborn as sns \n",
        "%matplotlib inline \n",
        "import matplotlib as mpl"
      ],
      "execution_count": 1,
      "outputs": []
    },
    {
      "cell_type": "code",
      "metadata": {
        "id": "pRdbVR_ZW8kA"
      },
      "source": [
        "# Tämä ohjelma laskee, mikä on yhden toiston maksimisi näissä liikkeissä (penkkipunnerrus, kyykky, pystypunnerrus ja maastaveto) ja millä tasolla olet liikkeissä muihin verrattuna. Tasot ovat hatusta (internetistä) vedettyjä ja etäisesti suuntaa antavia. Ohjelma kertoo myös, millä painolla kannattaa harjoitella mitäkin voiman osa-aluetta. Painolla on laaja skaala ja se on myös etäisesti suuntaa antava. Kirjoita kehonpaino (kg), \"Mies\" tai \"Nainen\", paino (kg) millä saat maksimissaan tietyn määrän toistoja (1-10 toistoa). Toistomäärä kirjoitetaan esim 'penkkitoistoa' jälkeen. Ohjelmaan on valmiiksi syötetty fiktiiviset tiedot esimerkin vuoksi.\n",
        "\n",
        "kehonpaino = 60\n",
        "\n",
        "sukupuoli = \"Mies\"\n",
        "\n",
        "penkki = 95\n",
        "penkkitoistoa = 3\n",
        "\n",
        "kyykky = 120\n",
        "kyykkytoistoa = 1\n",
        "\n",
        "pypu = 55\n",
        "pyputoistoa = 2\n",
        "\n",
        "mave = 140\n",
        "mavetoistoa = 1"
      ],
      "execution_count": 9,
      "outputs": []
    },
    {
      "cell_type": "code",
      "metadata": {
        "id": "hqRf_SReux01"
      },
      "source": [
        "# Voimatasojen viitearvot määräytvät sukupuolen mukaan\n",
        "\n",
        "taso_m = np.array([[0.75 * kehonpaino, 1 * kehonpaino, 1.3 * kehonpaino, 1.5 * kehonpaino, 1.75 * kehonpaino, 290], [1 * kehonpaino, 1.2 * kehonpaino,\\\n",
        "                1.5 * kehonpaino, 1.75 * kehonpaino, 2 * kehonpaino, 455], [0.5 * kehonpaino, 0.65 * kehonpaino, 0.85 * kehonpaino, 1 * kehonpaino, 1.25 * kehonpaino, 250], \\\n",
        "                [1* kehonpaino, 1.3 * kehonpaino, 1.65 * kehonpaino, 2 * kehonpaino, 2.25 * kehonpaino, 501]])\n",
        "taso_n = np.array([[0.65 * kehonpaino, 0.7 * kehonpaino, 0.85 * kehonpaino, 1 * kehonpaino, 1.25 * kehonpaino, 207], [0.8 * kehonpaino, 1 * kehonpaino,\\\n",
        "                1.3 * kehonpaino, 1.5 * kehonpaino, 1.75 * kehonpaino, 279], [0.35 * kehonpaino, 0.5 * kehonpaino, 0.75 * kehonpaino, 0.8 * kehonpaino, 0.9 * kehonpaino, 100], \\\n",
        "                [1* kehonpaino, 1.3 * kehonpaino, 1.65 * kehonpaino, 2 * kehonpaino, 2.25 * kehonpaino, 275]])\n",
        "\n",
        "if sukupuoli == \"Mies\":\n",
        "  taso = taso_m\n",
        "elif sukupuoli == \"Nainen\":\n",
        "  taso = taso_n\n",
        "else:\n",
        "   print(\"Valitse 'Mies' tai 'Nainen'\")\n",
        "   taso = 0\n",
        "   rm = 0"
      ],
      "execution_count": 10,
      "outputs": []
    },
    {
      "cell_type": "code",
      "metadata": {
        "id": "wN9f0GCk5Z7w"
      },
      "source": [
        "# Lasketaan yhden toiston maksimit eri liikkeissä painokertoimien avulla.\n",
        "\n",
        "painokerroin = np.array([1, 0.95, 0.90, 0.88, 0.86, 0.83, 0.80, 0.78, 0.76, 0.75])\n",
        "penkkirm = penkki / painokerroin[penkkitoistoa-1]\n",
        "kyykkyrm = kyykky / painokerroin[kyykkytoistoa-1]\n",
        "pypurm = pypu / painokerroin[pyputoistoa-1]\n",
        "maverm = mave / painokerroin[mavetoistoa-1]\n",
        "rm = np.array([penkkirm, kyykkyrm, pypurm, maverm])\n",
        "\n",
        "# Tehdään taulukko josta selviää voimataso verrattuna muihin, yhden toiston maksimi (RM) ja arvioitu yläraja painoon, jota voi käyttää tietynlaiseen voiman lajin harjoitteluun.\n",
        "\n",
        "liike = np.array([\"Penkki\", \"Kyykky\", \"Pypu\", \"Mave\"])\n",
        "rows = [\"Penkki\", \"Kyykky\", \"Pypu\", \"Mave\"]\n",
        "columns = [\"Kohtuullinen\", \"Hyvä\", \"Optimaalinen\", \"Kehittynyt\", \"Atleetti\", \"ME\"]\n",
        "Taulukko = pd.DataFrame(taso, index = rows, columns = columns)\n",
        "RM = pd.DataFrame(rm, index = rows, columns = [\"RM\"])\n",
        "Liike = pd.DataFrame(liike, index = rows, columns = [\"Liike\"])\n",
        "Taulukko = pd.merge(left=Taulukko, right=RM, left_index = True, right_index = True)\n",
        "Taulukko = pd.merge(left=Taulukko, right=Liike, left_index = True, right_index = True)\n",
        "Toistoalue = pd.DataFrame(np.array([[0.2 * penkkirm, 0.6 * penkkirm, 0.85 * penkkirm, penkkirm], [0.2 * kyykkyrm, 0.6 * kyykkyrm, 0.85 * kyykkyrm, kyykkyrm], [0.2 * pypurm, 0.6 * pypurm, 0.85 * pypurm, pypurm], [0.2 * maverm, 0.6 * maverm, 0.85 * maverm, maverm] ]), index = rows, columns = [\"Lihaskestävyys\", \"Voimakestävyys\", \"Perusvoima\", \"Maksimivoima\"])\n",
        "Taulukko = pd.merge(left=Taulukko, right=Toistoalue, left_index = True, right_index = True)"
      ],
      "execution_count": 11,
      "outputs": []
    },
    {
      "cell_type": "code",
      "metadata": {
        "id": "x-0lEXm0W8kB",
        "outputId": "72b40f48-aee6-4a6f-ae38-43dc559fbbfc",
        "colab": {
          "base_uri": "https://localhost:8080/",
          "height": 366
        }
      },
      "source": [
        "# Kuvataan yhden toiston maksimi liikkeessä mustana palkkina ja eri voimatasot värillisinä. Värillisen palkin yläraja on suuntaa antava maailmanennätys.\n",
        "\n",
        "labels = ['Penkki', 'Kyykky', 'Pypu', 'Mave']\n",
        "X = np.arange(len(labels))\n",
        "fig = plt.figure()\n",
        "ax = fig.add_axes([0,0,1,1])\n",
        "ax.bar(X + 0.00, Taulukko.RM,color = \"k\", alpha=0.8, width = 0.3, label = \"1RM\")\n",
        "ax.bar(X + 0.3, Taulukko.Kohtuullinen, color = \"y\", alpha = 0.8, width = 0.3, label = \"Treenaamaton\" )\n",
        "ax.bar(X + 0.3, Taulukko.Hyvä - Taulukko.Kohtuullinen, bottom = Taulukko.Kohtuullinen, color = \"g\", alpha = 0.8, width = 0.3, label = \"Kohtuullinen\")\n",
        "ax.bar(X + 0.3, Taulukko.Optimaalinen - Taulukko.Hyvä, bottom= Taulukko.Hyvä, color = \"c\", alpha = 0.8, width = 0.3, label = \"Hyvä\")\n",
        "ax.bar(X + 0.3, Taulukko.Kehittynyt - Taulukko.Optimaalinen, bottom = Taulukko.Optimaalinen, color = \"b\", alpha = 0.8, width = 0.3, label = \"Optimaalinen\")\n",
        "ax.bar(X + 0.3, Taulukko.Atleetti - Taulukko.Kehittynyt, bottom = Taulukko.Kehittynyt, color = \"m\", alpha = 0.8, width = 0.3, label = \"Kehittynyt\")\n",
        "ax.bar(X + 0.3, Taulukko.ME - Taulukko.Atleetti, bottom = Taulukko.Atleetti, color = \"r\", alpha = 0.8, width = 0.3, label = \"Atleetti\")\n",
        "ax.set_xticks(X)\n",
        "ax.set_xticklabels(labels)\n",
        "ax.set_ylabel('Kg')\n",
        "ax.set_xlabel('Liike')\n",
        "ax.set_title('Yhden toiston maksimi ja eri voimatasot')\n",
        "ax.legend()\n",
        "plt.show()"
      ],
      "execution_count": 12,
      "outputs": [
        {
          "output_type": "display_data",
          "data": {
            "image/png": "[encoded data removed]",
            "text/plain": [
              "<Figure size 432x288 with 1 Axes>"
            ]
          },
          "metadata": {
            "tags": [],
            "needs_background": "light"
          }
        }
      ]
    },
    {
      "cell_type": "code",
      "metadata": {
        "id": "hyMyAnNEW8kC",
        "outputId": "27990420-bc2f-47eb-9a98-d023caedc7ab",
        "colab": {
          "base_uri": "https://localhost:8080/",
          "height": 366
        }
      },
      "source": [
        "# Musta palkki on jälleen henk koht yhden toiston maksimi ja värillinen kuvaa vastuksen vaihteluväliä, jota voidaan käyttää kyseisen voiman alueen harjoitteluun.\n",
        "\n",
        "labels = ['Penkki', 'Kyykky', 'Pypu', 'Mave']\n",
        "X = np.arange(len(labels))\n",
        "fig = plt.figure()\n",
        "ax = fig.add_axes([0,0,1,1])\n",
        "ax.bar(X + 0.00, Taulukko.RM,color = \"k\", alpha=0.8, width = 0.3, label = \"1RM\")\n",
        "ax.bar(X + 0.3, Taulukko.Lihaskestävyys, color = \"y\", alpha = 0.5, width = 0.3, label = \"Lihaskestävyys\" )\n",
        "ax.bar(X + 0.3, Taulukko.Voimakestävyys - Taulukko.Lihaskestävyys, bottom = Taulukko.Lihaskestävyys, color = \"g\", alpha = 0.5, width = 0.3, label = \"Voimakestävyys\")\n",
        "ax.bar(X + 0.3, Taulukko.Perusvoima - Taulukko.Voimakestävyys, bottom= Taulukko.Voimakestävyys, color = \"b\", alpha = 0.5, width = 0.3, label = \"Perusvoima\")\n",
        "ax.bar(X + 0.3, Taulukko.Maksimivoima - Taulukko.Perusvoima, bottom = Taulukko.Perusvoima, color = \"r\", alpha = 0.5, width = 0.3, label = \"Maksimivoima\")\n",
        "ax.set_xticks(X)\n",
        "ax.set_xticklabels(labels)\n",
        "ax.set_ylabel('Kg')\n",
        "ax.set_xlabel('Liike')\n",
        "ax.set_title('Yhden toiston maksimi ja eri voiman lajien intensiteetti')\n",
        "ax.legend()\n",
        "plt.show()"
      ],
      "execution_count": 13,
      "outputs": [
        {
          "output_type": "display_data",
          "data": {
            "image/png": "[encoded data removed]",
            "text/plain": [
              "<Figure size 432x288 with 1 Axes>"
            ]
          },
          "metadata": {
            "tags": [],
            "needs_background": "light"
          }
        }
      ]
    }
  ]
}