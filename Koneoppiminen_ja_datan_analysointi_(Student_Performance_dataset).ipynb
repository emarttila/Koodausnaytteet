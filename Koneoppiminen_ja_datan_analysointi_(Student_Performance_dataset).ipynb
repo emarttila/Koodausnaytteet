{
  "nbformat": 4,
  "nbformat_minor": 0,
  "metadata": {
    "colab": {
      "name": "Koneoppiminen ja datan analysointi (Student Performance dataset).ipynb",
      "provenance": [],
      "collapsed_sections": [],
      "include_colab_link": true
    },
    "kernelspec": {
      "display_name": "Python 3",
      "language": "python",
      "name": "python3"
    },
    "language_info": {
      "codemirror_mode": {
        "name": "ipython",
        "version": 3
      },
      "file_extension": ".py",
      "mimetype": "text/x-python",
      "name": "python",
      "nbconvert_exporter": "python",
      "pygments_lexer": "ipython3",
      "version": "3.7.6"
    }
  },
  "cells": [
    {
      "cell_type": "markdown",
      "metadata": {
        "id": "view-in-github",
        "colab_type": "text"
      },
      "source": [
        "<a href=\"https://colab.research.google.com/github/emarttila/Koodausnaytteet/blob/main/Koneoppiminen_ja_datan_analysointi_(Student_Performance_dataset).ipynb\" target=\"_parent\"><img src=\"https://colab.research.google.com/assets/colab-badge.svg\" alt=\"Open In Colab\"/></a>"
      ]
    },
    {
      "cell_type": "markdown",
      "metadata": {
        "id": "EZPj0Xlscaa2"
      },
      "source": [
        "**Aineistona on portugalilaisen koulun oppilailta kerättyjä tietoja. Kerättyjen tietojen yhteyttä oppilaiden loppuarvosanaan matematiikassa (G3) pyrittiin hahmottamaan ja ennustamaan. Mukana ovat myös väliarvosanat G1 ja G2.**\n",
        "\n",
        "\n",
        "*P. Cortez and A. Silva. Using Data Mining to Predict Secondary School Student Performance. In A. Brito and J. Teixeira Eds., Proceedings of 5th FUture BUsiness TEChnology Conference (FUBUTEC 2008) pp. 5-12, Porto, Portugal, April, 2008, EUROSIS, ISBN 978-9077381-39-7. *"
      ]
    },
    {
      "cell_type": "markdown",
      "metadata": {
        "id": "G7vssE6jfYuQ"
      },
      "source": [
        "Tuodaan tarvittavat kirjastot."
      ]
    },
    {
      "cell_type": "code",
      "metadata": {
        "id": "clDSsF7P33NU"
      },
      "source": [
        "import numpy as np\n",
        "import matplotlib.pyplot as plt\n",
        "import pandas as pd\n",
        "import seaborn as sns\n",
        "import xgboost as xgb\n",
        "from sklearn.compose import ColumnTransformer\n",
        "from sklearn.preprocessing import OneHotEncoder\n",
        "from sklearn.model_selection import train_test_split\n",
        "from sklearn.metrics import r2_score\n",
        "import warnings\n",
        "warnings.filterwarnings(\"ignore\")"
      ],
      "execution_count": 101,
      "outputs": []
    },
    {
      "cell_type": "markdown",
      "metadata": {
        "id": "ZFaQPTztfehv"
      },
      "source": [
        "Avataan aineisto."
      ]
    },
    {
      "cell_type": "code",
      "metadata": {
        "id": "Zcksk88u4Ae8"
      },
      "source": [
        "dataset = pd.read_csv(\"student-mat.csv\", sep = ';')"
      ],
      "execution_count": 102,
      "outputs": []
    },
    {
      "cell_type": "markdown",
      "metadata": {
        "id": "luT6vM1JfjFZ"
      },
      "source": [
        "Tarkastellaan muuttujien tyyppiä."
      ]
    },
    {
      "cell_type": "code",
      "metadata": {
        "colab": {
          "base_uri": "https://localhost:8080/"
        },
        "id": "VkkC2gLO7edI",
        "outputId": "4431f8f6-6379-4819-e828-8bb7ebd30366"
      },
      "source": [
        "print(dataset.info())"
      ],
      "execution_count": 103,
      "outputs": [
        {
          "output_type": "stream",
          "name": "stdout",
          "text": [
            "<class 'pandas.core.frame.DataFrame'>\n",
            "RangeIndex: 395 entries, 0 to 394\n",
            "Data columns (total 33 columns):\n",
            " #   Column      Non-Null Count  Dtype \n",
            "---  ------      --------------  ----- \n",
            " 0   school      395 non-null    object\n",
            " 1   sex         395 non-null    object\n",
            " 2   age         395 non-null    int64 \n",
            " 3   address     395 non-null    object\n",
            " 4   famsize     395 non-null    object\n",
            " 5   Pstatus     395 non-null    object\n",
            " 6   Medu        395 non-null    int64 \n",
            " 7   Fedu        395 non-null    int64 \n",
            " 8   Mjob        395 non-null    object\n",
            " 9   Fjob        395 non-null    object\n",
            " 10  reason      395 non-null    object\n",
            " 11  guardian    395 non-null    object\n",
            " 12  traveltime  395 non-null    int64 \n",
            " 13  studytime   395 non-null    int64 \n",
            " 14  failures    395 non-null    int64 \n",
            " 15  schoolsup   395 non-null    object\n",
            " 16  famsup      395 non-null    object\n",
            " 17  paid        395 non-null    object\n",
            " 18  activities  395 non-null    object\n",
            " 19  nursery     395 non-null    object\n",
            " 20  higher      395 non-null    object\n",
            " 21  internet    395 non-null    object\n",
            " 22  romantic    395 non-null    object\n",
            " 23  famrel      395 non-null    int64 \n",
            " 24  freetime    395 non-null    int64 \n",
            " 25  goout       395 non-null    int64 \n",
            " 26  Dalc        395 non-null    int64 \n",
            " 27  Walc        395 non-null    int64 \n",
            " 28  health      395 non-null    int64 \n",
            " 29  absences    395 non-null    int64 \n",
            " 30  G1          395 non-null    int64 \n",
            " 31  G2          395 non-null    int64 \n",
            " 32  G3          395 non-null    int64 \n",
            "dtypes: int64(16), object(17)\n",
            "memory usage: 102.0+ KB\n",
            "None\n"
          ]
        }
      ]
    },
    {
      "cell_type": "markdown",
      "metadata": {
        "id": "66lLXifKftBp"
      },
      "source": [
        "Katsotaan onko aineistossa puuttuvia arvoja (ei ole)."
      ]
    },
    {
      "cell_type": "code",
      "metadata": {
        "colab": {
          "base_uri": "https://localhost:8080/"
        },
        "id": "Ry00Bagg7edK",
        "outputId": "06ef15a7-1ef4-4fca-f421-0d3b9d308fed"
      },
      "source": [
        "dataset.isnull().sum().sum()"
      ],
      "execution_count": 104,
      "outputs": [
        {
          "output_type": "execute_result",
          "data": {
            "text/plain": [
              "0"
            ]
          },
          "metadata": {},
          "execution_count": 104
        }
      ]
    },
    {
      "cell_type": "markdown",
      "metadata": {
        "id": "GFZBxqmrfzTr"
      },
      "source": [
        "Muutetaan objekti- datatyypit kategorioiksi."
      ]
    },
    {
      "cell_type": "code",
      "metadata": {
        "id": "DtDbmPm4_4i6"
      },
      "source": [
        "for i in dataset.columns:\n",
        "  if dataset[i].dtype == 'O':\n",
        "    dataset[i] = dataset[i].astype('category')\n",
        "kategoriat = dataset.select_dtypes(include=['category'])"
      ],
      "execution_count": 105,
      "outputs": []
    },
    {
      "cell_type": "markdown",
      "metadata": {
        "id": "gdSjz4Juf39r"
      },
      "source": [
        "Datatyypit ovat kunnossa. Järjestysasteikolliset ja diskreetit muuttujat ovat 'int64'- ja luokitteluasteikolliset 'category' - datatyyppiä. Jostakin syystä osasta jatkuvista muuttujista on datassa tehty järjestysasteikollisia."
      ]
    },
    {
      "cell_type": "code",
      "metadata": {
        "id": "zkOLF__AA3GB",
        "colab": {
          "base_uri": "https://localhost:8080/"
        },
        "outputId": "7bc7d259-5581-4506-ec1a-a4c995fa3262"
      },
      "source": [
        "dataset.info()"
      ],
      "execution_count": 106,
      "outputs": [
        {
          "output_type": "stream",
          "name": "stdout",
          "text": [
            "<class 'pandas.core.frame.DataFrame'>\n",
            "RangeIndex: 395 entries, 0 to 394\n",
            "Data columns (total 33 columns):\n",
            " #   Column      Non-Null Count  Dtype   \n",
            "---  ------      --------------  -----   \n",
            " 0   school      395 non-null    category\n",
            " 1   sex         395 non-null    category\n",
            " 2   age         395 non-null    int64   \n",
            " 3   address     395 non-null    category\n",
            " 4   famsize     395 non-null    category\n",
            " 5   Pstatus     395 non-null    category\n",
            " 6   Medu        395 non-null    int64   \n",
            " 7   Fedu        395 non-null    int64   \n",
            " 8   Mjob        395 non-null    category\n",
            " 9   Fjob        395 non-null    category\n",
            " 10  reason      395 non-null    category\n",
            " 11  guardian    395 non-null    category\n",
            " 12  traveltime  395 non-null    int64   \n",
            " 13  studytime   395 non-null    int64   \n",
            " 14  failures    395 non-null    int64   \n",
            " 15  schoolsup   395 non-null    category\n",
            " 16  famsup      395 non-null    category\n",
            " 17  paid        395 non-null    category\n",
            " 18  activities  395 non-null    category\n",
            " 19  nursery     395 non-null    category\n",
            " 20  higher      395 non-null    category\n",
            " 21  internet    395 non-null    category\n",
            " 22  romantic    395 non-null    category\n",
            " 23  famrel      395 non-null    int64   \n",
            " 24  freetime    395 non-null    int64   \n",
            " 25  goout       395 non-null    int64   \n",
            " 26  Dalc        395 non-null    int64   \n",
            " 27  Walc        395 non-null    int64   \n",
            " 28  health      395 non-null    int64   \n",
            " 29  absences    395 non-null    int64   \n",
            " 30  G1          395 non-null    int64   \n",
            " 31  G2          395 non-null    int64   \n",
            " 32  G3          395 non-null    int64   \n",
            "dtypes: category(17), int64(16)\n",
            "memory usage: 58.0 KB\n"
          ]
        }
      ]
    },
    {
      "cell_type": "code",
      "metadata": {
        "id": "L2UZkfppuleI"
      },
      "source": [
        "feature_names = ['G3']\n",
        "Q1=[]\n",
        "Q3=[]\n",
        "IQR=[]\n",
        "#Calculate Q1, Q3 and IQR for each feature:\n",
        "for i, j in enumerate(feature_names):\n",
        "    Q1.append(dataset[j].quantile(.25))\n",
        "    Q3.append(dataset[j].quantile(.75))\n",
        "    IQR.append(Q3[i]-Q1[i])\n",
        "# Drop outliers:\n",
        "for i, j in enumerate(feature_names):\n",
        "    true_index = (dataset[j] >= (Q1[i] - 2 * IQR[i])) & (dataset[j] <=(Q3[i] + 2 * IQR[i]))\n",
        "    dataset = dataset.loc[true_index] "
      ],
      "execution_count": 107,
      "outputs": []
    },
    {
      "cell_type": "markdown",
      "metadata": {
        "id": "F_lrOaHWgCc7"
      },
      "source": [
        "Katsotaan muuttujien kuvauksia."
      ]
    },
    {
      "cell_type": "code",
      "metadata": {
        "id": "I-NN4JKZFDSw",
        "colab": {
          "base_uri": "https://localhost:8080/"
        },
        "outputId": "e5932094-f6b9-4dfd-fd71-41c0fe6cd089"
      },
      "source": [
        "print(dataset.describe(include=['category'] ))\n",
        "print(dataset.describe())"
      ],
      "execution_count": 108,
      "outputs": [
        {
          "output_type": "stream",
          "name": "stdout",
          "text": [
            "       school  sex address famsize  ... nursery higher internet romantic\n",
            "count     395  395     395     395  ...     395    395      395      395\n",
            "unique      2    2       2       2  ...       2      2        2        2\n",
            "top        GP    F       U     GT3  ...     yes    yes      yes       no\n",
            "freq      349  208     307     281  ...     314    375      329      263\n",
            "\n",
            "[4 rows x 17 columns]\n",
            "              age        Medu        Fedu  ...          G1          G2          G3\n",
            "count  395.000000  395.000000  395.000000  ...  395.000000  395.000000  395.000000\n",
            "mean    16.696203    2.749367    2.521519  ...   10.908861   10.713924   10.415190\n",
            "std      1.276043    1.094735    1.088201  ...    3.319195    3.761505    4.581443\n",
            "min     15.000000    0.000000    0.000000  ...    3.000000    0.000000    0.000000\n",
            "25%     16.000000    2.000000    2.000000  ...    8.000000    9.000000    8.000000\n",
            "50%     17.000000    3.000000    2.000000  ...   11.000000   11.000000   11.000000\n",
            "75%     18.000000    4.000000    3.000000  ...   13.000000   13.000000   14.000000\n",
            "max     22.000000    4.000000    4.000000  ...   19.000000   19.000000   20.000000\n",
            "\n",
            "[8 rows x 16 columns]\n"
          ]
        }
      ]
    },
    {
      "cell_type": "markdown",
      "metadata": {
        "id": "_G_DjbOQP_Lw"
      },
      "source": [
        "Tarkastellaan 'G3':n eli loppukokeen arvosanan jakaumaa. Jakauma näyttää muuten symmetriseltä, mutta arvoja 0 näyttää olevan enemmän kuin olettaisi. 0-arvojen poistaminen outliereina kuitenkin huonontaa koneoppimisen mallia huomattavasti silloin, kun väliarvosanat eivät ole mukana mallin teossa. Väliarvosanojen ollessa mukana mallin ennustus tarkentuu. 0-arvot voisi poistaa, mutta ne jätetään, koska mallin ennustus ilman väliarvosanoja on mielekkäämpää pitää tarkempana."
      ]
    },
    {
      "cell_type": "code",
      "metadata": {
        "colab": {
          "base_uri": "https://localhost:8080/",
          "height": 268
        },
        "id": "aJ1yRSasMhfQ",
        "outputId": "6c110f90-b8e6-4e7c-a90a-ce274152ef00"
      },
      "source": [
        "plt.hist(dataset['G3'])\n",
        "plt.show()"
      ],
      "execution_count": 109,
      "outputs": [
        {
          "output_type": "display_data",
          "data": {
            "image/png": "[encoded data removed]",
            "text/plain": [
              "<Figure size 432x288 with 1 Axes>"
            ]
          },
          "metadata": {}
        }
      ]
    },
    {
      "cell_type": "markdown",
      "metadata": {
        "id": "Z_EVWfPrSpbM"
      },
      "source": [
        "Etsitään univariate outliereita. Valittiin tähän muuttujat, jotka ovat jatkuvia. Järjestysasteikolliset ja muut diskreetit muuttujat jätettiin pois. Outliereita näyttäisi olevan IQR:llä arvioituna 'failures' ja 'absences' muuttujissa. Kuitenkin jos ne poistetaan, niin koneoppimisen mallin ennustuksen tarkkuus huononee. Koska poistaminen ei paranna mallin tarkkuutta, outlierit jätetään dataan."
      ]
    },
    {
      "cell_type": "code",
      "metadata": {
        "id": "zizm3b_ZR4YM",
        "outputId": "b48fef50-0634-45eb-c7dc-94408bf2039b",
        "colab": {
          "base_uri": "https://localhost:8080/",
          "height": 377
        }
      },
      "source": [
        "fig_dims = (20,6)\n",
        "fig, ax = plt.subplots(figsize=fig_dims)\n",
        "sns.boxplot(data= dataset.iloc[:,[2,14,29,30,31,32]],orient = \"h\", whis =2)\n",
        "ax = sns.stripplot(data=dataset.iloc[:,[2,14,29,30,31,32]],orient = 'h', jitter=0.05,size = 1, alpha = 0.2 )\n",
        "\n",
        "plt.show()"
      ],
      "execution_count": 110,
      "outputs": [
        {
          "output_type": "display_data",
          "data": {
            "image/png": "[encoded data removed]",
            "text/plain": [
              "<Figure size 1440x432 with 1 Axes>"
            ]
          },
          "metadata": {}
        }
      ]
    },
    {
      "cell_type": "markdown",
      "metadata": {
        "id": "18R7Djr4gO76"
      },
      "source": [
        "Tarkastellaan lineaarista riippuvuutta muuttujien ja G3:n eli lopullisen arvosanan kanssa. "
      ]
    },
    {
      "cell_type": "code",
      "metadata": {
        "colab": {
          "base_uri": "https://localhost:8080/"
        },
        "id": "RaX4ib5rMIxU",
        "outputId": "f64249c1-a86d-4c02-d117-c8f850505e0f"
      },
      "source": [
        "korrelaatio = dataset.corr()\n",
        "korrelaatio['G3'].sort_values(ascending=False)"
      ],
      "execution_count": 111,
      "outputs": [
        {
          "output_type": "execute_result",
          "data": {
            "text/plain": [
              "G3            1.000000\n",
              "G2            0.904868\n",
              "G1            0.801468\n",
              "Medu          0.217147\n",
              "Fedu          0.152457\n",
              "studytime     0.097820\n",
              "famrel        0.051363\n",
              "absences      0.034247\n",
              "freetime      0.011307\n",
              "Walc         -0.051939\n",
              "Dalc         -0.054660\n",
              "health       -0.061335\n",
              "traveltime   -0.117142\n",
              "goout        -0.132791\n",
              "age          -0.161579\n",
              "failures     -0.360415\n",
              "Name: G3, dtype: float64"
            ]
          },
          "metadata": {},
          "execution_count": 111
        }
      ]
    },
    {
      "cell_type": "markdown",
      "metadata": {
        "id": "rIxT3YOTgc1M"
      },
      "source": [
        "Lineaariset riippuvuudet kaikkien jatkuvien muuttujien välillä."
      ]
    },
    {
      "cell_type": "code",
      "metadata": {
        "id": "TLQcbhOsEuKT",
        "colab": {
          "base_uri": "https://localhost:8080/",
          "height": 319
        },
        "outputId": "76e66564-923b-4f82-fa2c-55462b31b76b"
      },
      "source": [
        "sns_plot = sns.heatmap(dataset.corr())"
      ],
      "execution_count": 112,
      "outputs": [
        {
          "output_type": "display_data",
          "data": {
            "image/png": "[encoded data removed]",
            "text/plain": [
              "<Figure size 432x288 with 2 Axes>"
            ]
          },
          "metadata": {}
        }
      ]
    },
    {
      "cell_type": "markdown",
      "metadata": {
        "id": "rLgZKXw5gt0y"
      },
      "source": [
        "Epälineaaristen riippuvuuksien tarkastelu. Mitään merkittävää epälineaarista riippuvuutta ei näy."
      ]
    },
    {
      "cell_type": "code",
      "metadata": {
        "id": "MZ5UVD_BXBzW"
      },
      "source": [
        "counter = 0\n",
        "fig, ax = plt.subplots(3,5, figsize = (40,20))\n",
        "for i in range(3):\n",
        "    for j in range(5):\n",
        "        x = dataset[korrelaatio.columns[counter]]\n",
        "        ax[i, j].bar(x,dataset['G3'])\n",
        "        ax[i, j].set_ylabel('G3',fontsize=20)\n",
        "        ax[i, j].set_xlabel(str(korrelaatio.columns[counter]),fontsize=20)\n",
        "        counter += 1"
      ],
      "execution_count": null,
      "outputs": []
    },
    {
      "cell_type": "markdown",
      "metadata": {
        "id": "ESGCryj6hnIN"
      },
      "source": [
        "Valitaan aineistosta muuttujat, joiden korrelaation itseisarvo G3:n eli lopullisen arvosanan kanssa on vähintään 0,09. G2 ja G1 jätetään pois, koska ne ovat väliarvosanoja ja niillä on suuri vaikutus lopulliseen arvosanaan. Piirretään kuvaajaan jokainen muuttuja ja sen yhteys G3:n."
      ]
    },
    {
      "cell_type": "code",
      "metadata": {
        "id": "bvJSq3-pNSeb"
      },
      "source": [
        "sns.set(font_scale=2)\n",
        "sns.set_style('darkgrid')\n",
        "f, ax = plt.subplots(3,3, figsize = (36,18), sharex=False, sharey=False)\n",
        "failures = sns.violinplot(dataset['failures'], dataset['G3'], ax=ax[0][0])\n",
        "failures.set_xlabel('Past class failures')\n",
        "Medu = sns.violinplot(dataset['Medu'], dataset['G3'], ax=ax[0][1])\n",
        "Medu.set_xlabel('Mothers education level')\n",
        "Medu.set_xticklabels(['None','4th grade','5-9th grade','Secondary','Higher'], fontsize = 19)\n",
        "age = sns.violinplot(dataset['age'], dataset['G3'], ax=ax[0][2])\n",
        "age.set_xlabel('Age')\n",
        "Fedu = sns.violinplot(dataset['Fedu'], dataset['G3'], ax=ax[1][0])\n",
        "Fedu.set_xlabel('Fathers education level')\n",
        "Fedu.set_xticklabels(['None','4th grade','5-9th grade','Secondary','Higher'], fontsize = 19)\n",
        "goout = sns.violinplot(dataset['goout'], dataset['G3'], ax=ax[1][1])\n",
        "goout.set_xlabel('How much going out with friends')\n",
        "goout.set_xticklabels(['Very low','Low','Average','High','Very high'])\n",
        "traveltime = sns.violinplot(dataset['traveltime'], dataset['G3'], ax=ax[1][2])\n",
        "traveltime.set_xlabel('Home to school travel time')\n",
        "traveltime.set_xticklabels(['<15 min','15 to 30 min','30 min to 1 hour','>1 hour'], fontsize = 19)\n",
        "studytime = sns.violinplot(dataset['studytime'], dataset['G3'], ax=ax[2][0])\n",
        "studytime.set_xlabel('Weekly study time')\n",
        "studytime.set_xticklabels(['<2 hours','2 to 5 hours','5 to 10 hours','>10 hours'], fontsize = 19)\n",
        "for i in [7,8]:\n",
        "  f.delaxes(ax.flatten()[i])\n"
      ],
      "execution_count": null,
      "outputs": []
    },
    {
      "cell_type": "markdown",
      "metadata": {
        "id": "8JUfvvpeI4kR"
      },
      "source": [
        "Kuvaajasta näkee, että 'Past class failures' korreloi negatiivisesti matematiikan arvosanan kanssa. Isän ja äidin koulutustason korrelaatio matematiikan arvosanaan on ristiriitainen. Kaikista matalin koulutustaso ennustaa parempaa arvosanaa kuin seuraavaksi korkein. Siitä lähtien kuitenkin koulutustason paraneminen korreloi positiivisesti arvosanan kanssa. Oppilaan ikä korreloi negatiivisesti arvosanan kanssa, paitsi 20:s ikävuosi, jolloin korrelaatio kääntyy positiiviseksi. Ystävien kanssa vietetty aika korreloi negatiivisesti arvosanan kanssa. Negatiivinen korrelaatio voimistuu mitä enemmän ystävien kanssa vietetty aika kasvaa. Mitä pidempi koulumatka, sen huonompi arvosana. Viikottainen opiskeluaika on yllättävän vähän yhteydessä arvosanaan. Kuitenkin mitä enemmän opiskelee, sen parempi kokeen tulos. Hajonta on kuitenkin suurta varsinkin eniten opiskelevien ryhmässä.\n",
        "\n",
        "Vertaillaan seuraavaksi aineiston kahta eri koulua loppuarvosanan G3 suhteen. "
      ]
    },
    {
      "cell_type": "code",
      "metadata": {
        "id": "_FiZPoKnFRTJ"
      },
      "source": [
        "sns.set(font_scale=1)\n",
        "sns.set_style('ticks')\n",
        "grid = sns.FacetGrid(dataset, row='school', hue = 'school', sharey=False,  aspect=1.4, size = 3)\n",
        "grid.map(sns.distplot, 'G3')\n",
        "grid.set(xlim=(0,20)) \n",
        "grid.map(lambda x, **kw: plt.axvline(x.median(), color='r'), 'G3')"
      ],
      "execution_count": null,
      "outputs": []
    },
    {
      "cell_type": "markdown",
      "metadata": {
        "id": "HmCkjx65GKtq"
      },
      "source": [
        "Kuvia vertaamalla nähdään, että koulussa GP saadaan parempia arvosanoja matematiikassa. Kuvassa oleva pystysuora viiva on matematiikan kokeen tuloksen mediaani.\n",
        "\n",
        "*school - student's school (binary: 'GP' - Gabriel Pereira or 'MS' - Mousinho da Silveira)*\n",
        "\n",
        "Katsotaan vielä, miten opiskeluun käytetty aika eri koulujen välillä vaikuttaa G3:een."
      ]
    },
    {
      "cell_type": "code",
      "metadata": {
        "id": "AYm74Tl4GwZA"
      },
      "source": [
        "sns.set(font_scale=1)\n",
        "sns.set_style('ticks')\n",
        "grid = sns.FacetGrid(dataset,col= 'studytime', row='school', hue = 'school', sharey=False,  aspect=1.4, size = 3)\n",
        "grid.map(sns.distplot, 'G3')\n",
        "grid.set(xlim=(0,20)) \n",
        "grid.map(lambda x, **kw: plt.axvline(x.median(), color='r'), 'G3')"
      ],
      "execution_count": null,
      "outputs": []
    },
    {
      "cell_type": "markdown",
      "metadata": {
        "id": "1USkAVN8HjqZ"
      },
      "source": [
        "Kuvista nähdään, että sama opiskeluun käytetty aika tuottaa koulussa GP parempia tuloksia, kuin koulussa MS. Ero on suurin ryhmässä, joka käyttää vähiten aikaa opiskeluun ja tasoittuu mitä enemmän käytetään aikaa opiskeluun. Koulussa MS kukaan ei käytä yli 10 tuntia viikossa opiskeluun, toisin kuin koulussa GP. Kuvien pystysuora viiva on G3:n mediaani.\n",
        "\n",
        "*studytime - weekly study time (numeric: 1 - <2 hours, 2 - 2 to 5 hours, 3 - 5 to 10 hours, or 4 - >10 hours)* \n",
        "\n",
        "*school - student's school (binary: 'GP' - Gabriel Pereira or 'MS' - Mousinho da Silveira)* "
      ]
    },
    {
      "cell_type": "markdown",
      "metadata": {
        "id": "YX_WDR9MJutY"
      },
      "source": [
        "Tehdään seuraavaksi XGBoostilla regressiomalli, jonka avulla pyritään ennustamaan loppukokeen tulosta muiden muuttujien pohjalta. Jätetään aluksi G1 ja G2 pois, koska ne ovat väliarvosanoja ja vaikuttavat selvästi G3:n. Jaetaan aineisto riippumattomiin ja riippuvaan muuttujaan, koodataan kategoriset muuttujat OneHotEncoderilla, jaetaan riippumattomat muuttujat training settiin ja test settiin, tehdään regressiomalli training setin pohjalta ja testataan sen tarkkuus test setillä. Arvioidaan ennustuksen tarkkuutta r2 testillä."
      ]
    },
    {
      "cell_type": "markdown",
      "metadata": {
        "id": "3v8jP4ZThwP4"
      },
      "source": [
        "Jaetaan aineisto riippumattomiin ja riippuvaan muuttujaa. Jätetään G1 ja G2 eli väliarvosanat pois kokonaan.\n"
      ]
    },
    {
      "cell_type": "code",
      "metadata": {
        "id": "PZdJjsjwWjPT"
      },
      "source": [
        "X = dataset.iloc[:, :-3].values\n",
        "y = dataset.iloc[:, -1].values"
      ],
      "execution_count": null,
      "outputs": []
    },
    {
      "cell_type": "markdown",
      "metadata": {
        "id": "HBIUA2JIh57k"
      },
      "source": [
        "Koodataan kategoriset muuttujat OneHotEncoderilla.\n"
      ]
    },
    {
      "cell_type": "code",
      "metadata": {
        "id": "gwgIUwM07edL"
      },
      "source": [
        "ct = ColumnTransformer(transformers=[('encoder', OneHotEncoder(), [0,1,3,4,5,8,9,10,11,15,16,17,18,19,20,21,22])], remainder='passthrough')\n",
        "X = np.array(ct.fit_transform(X))"
      ],
      "execution_count": null,
      "outputs": []
    },
    {
      "cell_type": "markdown",
      "metadata": {
        "id": "UWnuyjVQh-dt"
      },
      "source": [
        "Jaetaan havainnot training ja test settiin."
      ]
    },
    {
      "cell_type": "code",
      "metadata": {
        "id": "ajhBL-er7Gry"
      },
      "source": [
        "X_train, X_test, y_train, y_test = train_test_split(X, y, test_size = 0.2, random_state = 0)"
      ],
      "execution_count": null,
      "outputs": []
    },
    {
      "cell_type": "markdown",
      "metadata": {
        "id": "qvcz4wDNiEP_"
      },
      "source": [
        "Käytetään XGBoostia regressiomallin luomiseen ja loppukokeen tuloksen ennustamiseen."
      ]
    },
    {
      "cell_type": "code",
      "metadata": {
        "id": "ude1J0E47SKN"
      },
      "source": [
        "regressor = xgb.XGBRegressor()\n",
        "regressor.fit(X_train, y_train)"
      ],
      "execution_count": null,
      "outputs": []
    },
    {
      "cell_type": "markdown",
      "metadata": {
        "id": "dBeqtcITiHwq"
      },
      "source": [
        "Taulukoidaan vierekkäin ennustettu ja testisetin todellinen arvo.\n"
      ]
    },
    {
      "cell_type": "code",
      "metadata": {
        "id": "SUSZ3zm_7gRD"
      },
      "source": [
        "y_pred = regressor.predict(X_test)\n",
        "np.set_printoptions(precision=0)\n",
        "print(np.concatenate((y_pred.reshape(len(y_pred),1), y_test.reshape(len(y_test),1)),1))"
      ],
      "execution_count": null,
      "outputs": []
    },
    {
      "cell_type": "markdown",
      "metadata": {
        "id": "HZMtHCvciM13"
      },
      "source": [
        "Katsotaan ennustuksen tarkkuus R2 testillä. Heikolta näyttää. Entä jos väliarvosanat ovat mukana?\n"
      ]
    },
    {
      "cell_type": "code",
      "metadata": {
        "id": "w9UfRClO9VPd"
      },
      "source": [
        "r2_score(y_test,y_pred)"
      ],
      "execution_count": null,
      "outputs": []
    },
    {
      "cell_type": "code",
      "metadata": {
        "id": "8hfqRU7GYOBJ"
      },
      "source": [
        "X = dataset.iloc[:, :-1].values\n",
        "y = dataset.iloc[:, -1].values"
      ],
      "execution_count": null,
      "outputs": []
    },
    {
      "cell_type": "code",
      "metadata": {
        "id": "MTgf3mN9Y2jy"
      },
      "source": [
        "ct = ColumnTransformer(transformers=[('encoder', OneHotEncoder(), [0,1,3,4,5,8,9,10,11,15,16,17,18,19,20,21,22])], remainder='passthrough')\n",
        "X = np.array(ct.fit_transform(X))"
      ],
      "execution_count": null,
      "outputs": []
    },
    {
      "cell_type": "code",
      "metadata": {
        "id": "K4rbC_5EY6UA"
      },
      "source": [
        "X_train, X_test, y_train, y_test = train_test_split(X, y, test_size = 0.2, random_state = 0)"
      ],
      "execution_count": null,
      "outputs": []
    },
    {
      "cell_type": "code",
      "metadata": {
        "id": "QT0U976sY965"
      },
      "source": [
        "regressor = xgb.XGBRegressor()\n",
        "regressor.fit(X_train, y_train)"
      ],
      "execution_count": null,
      "outputs": []
    },
    {
      "cell_type": "code",
      "metadata": {
        "id": "a_fwvgpHZZml"
      },
      "source": [
        "y_pred = regressor.predict(X_test)"
      ],
      "execution_count": null,
      "outputs": []
    },
    {
      "cell_type": "markdown",
      "metadata": {
        "id": "3pr16_ffiRdS"
      },
      "source": [
        "Jos väliarvosanat otetaan mukaan, niin mallin ennustuksen tarkkuus paranee huimasti.\n"
      ]
    },
    {
      "cell_type": "code",
      "metadata": {
        "id": "yzv_S3ZrZAy1"
      },
      "source": [
        "r2_score(y_test,y_pred)"
      ],
      "execution_count": null,
      "outputs": []
    }
  ]
}